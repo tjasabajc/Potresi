{
 "cells": [
  {
   "cell_type": "markdown",
   "metadata": {},
   "source": [
    "# Potresi\n",
    "\n",
    "V projektni nalogi bom analizirala podatke o potresih od [tukaj](http://www.emsc-csem.org/) (European-Mediterranean Seismological Centre). Odločila sem se za potrese, ki so se zgodili v prvih dveh tednih oktobra (torej do 15. oktobra), ker da ta časovni okvir ravno pravšnje število podatkov - skoraj 2000 potresov.\n",
    "\n",
    "Na navedeni strani najdete podatke o zadnjih potresih po svetu (podatke sicer pridobivajo avtomatsko od približno 70 opazovalnic, ki so večinoma v Evropi, zaznajo pa seveda potrese z vsega sveta) - na primer čas potresa, lokacijo (v koordinatah in opisno), globino in magnitudo. Kdorkoli lahko prispeva komentar oziroma fotografijo, če je potres začutil ali opazil posledice (recimo razpoke na hiši). Za posamezen potres, ki je pritegnil vašo pozornost, lahko pridobite ogromno podatkov, ki pa jih na tem mestu ne bomo obravnavali, ker za analizo niso posebej zanimivi.\n",
    "\n",
    "#### Opomba\n",
    "\n",
    "Če vas potresi zelo zanimajo, si oglejte tudi [to projektno nalogo](https://github.com/TinaKrasovec/Potresi-po-Evropi-zadnjih-nekaj-let-z-magnitudo-4). Podobnost je naključna, poskusili pa sva delati tako, da se analiza ne prekriva preveč. Pri delu nisva sodelovali.\n",
    "\n",
    "## Uvod\n",
    "Naložimo csv datoteko in si oglejmo nekaj vrstic za občutek."
   ]
  },
  {
   "cell_type": "code",
   "execution_count": null,
   "metadata": {
    "collapsed": true
   },
   "outputs": [],
   "source": [
    "import pandas as pd\n",
    "pd.options.display.max_rows = 15\n",
    "\n",
    "\n",
    "%matplotlib inline"
   ]
  },
  {
   "cell_type": "code",
   "execution_count": null,
   "metadata": {
    "collapsed": false
   },
   "outputs": [],
   "source": [
    "podatki = pd.read_csv('potresi_potresi.csv', index_col = 'id')\n",
    "podatki[:7]"
   ]
  },
  {
   "cell_type": "markdown",
   "metadata": {},
   "source": [
    "## Kje so se zgodili potresi?\n",
    "\n",
    "Večkrat smo že slišali, da živimo na potresno zelo živahnem območju. Izkaže pa se, da se v smislu potresov v začetku oktobra v Sloveniji ni veliko zgodilo. Opazovalnice so zabeležile en sam potres na našem območju, zato se najbrž spodobi, da ga izpišemo."
   ]
  },
  {
   "cell_type": "code",
   "execution_count": null,
   "metadata": {
    "collapsed": false
   },
   "outputs": [],
   "source": [
    "podatki[podatki.regija == 'SLOVENIA']"
   ]
  },
  {
   "cell_type": "code",
   "execution_count": null,
   "metadata": {
    "collapsed": false
   },
   "outputs": [],
   "source": [
    "podatki.loc[536262]"
   ]
  },
  {
   "cell_type": "markdown",
   "metadata": {},
   "source": [
    "Kako zanimivo! Potres se je zgodil v ponedeljek, 10. oktobra ob 11:43, ko so potekale vaje za programiranje.\n",
    "\n",
    "Poskusimo ugotoviti, v katerih državah se je zgodilo največ potresov."
   ]
  },
  {
   "cell_type": "code",
   "execution_count": null,
   "metadata": {
    "collapsed": false
   },
   "outputs": [],
   "source": [
    "stevilo_regije = podatki['regija'].value_counts()\n",
    "stevilo_regije"
   ]
  },
  {
   "cell_type": "markdown",
   "metadata": {},
   "source": [
    "Turčija je očitno potresno zelo zanimiva država, saj med prvimi petimi regijami nastopi kar trikrat s skupno več kot 350 potresi.\n",
    "\n",
    "Opazimo pa tudi težavo. Sklepali bi, da so potresno aktivna območja deljena v manjše regije (kot zgoraj Turčija in Kalifornija) zato, da tisti, ki se s tem ukvarjajo, že na prvi pogled bolj natančno vedo, kje je bil potres. Recimo pa, da nas ne zanima, v katerem delu države se je potres zgodil, ampak samo država, ker bodo v tem primeru podatki preglednejši.\n",
    "\n",
    "### Funkcija, ki regijo spremeni v državo\n",
    "\n",
    "Spodnja funkcija iz regije približno naredi državo (tabeli dodamo stolpec \"drzava\"). Zakaj samo približno? Ime regije je zapisano v več oblikah in manjšinski del teh opisov funkcija ohrani, čeprav niso idealni. Spodaj je za vsako obliko napisano, kaj funkcija pretvori_v_drzavo z njo naredi:\n",
    "\n",
    "- imenovanje regije s stranmi neba (zahodna, osrednja, jugovzhodna ...): V tem primeru ohranimo samo ime države\n",
    "- enako kot zgoraj, samo da je namesto cele besede uporabljena le prva črka (W, E, S, N): Pobrišemo črko\n",
    "- zapis oblike 'mesto/pokrajina, država': V tem primeru zbrišemo vse pred vejico\n",
    "- širše območje neke države (predpostavljam, da gre za otočja), npr 'FIJI REGION': ohranimo samo ime države\n",
    "- čudne izjeme (CALIF., N.Z., P.N.G) - čudne zato, ker se poleg teh kratic pojavljajo tudi običajna dolga imena držav: Spremenimo v dolgo ime države.\n",
    "- območje na morju ('OFFSHORE ...' ali 'NEAR THE COAST OF ...'): Izbrišemo opis območja\n",
    "- namesto 'ISLANDS' piše 'IS.' (tega ne bi popravljali, če ne bi pri isti državi opazili obeh načinov zapisovanja): Spremenimo v 'ISLANDS'\n",
    "\n",
    "En opis, ki ga nisem popravljala, je recimo mejno območje med dvema državama (kot recimo 'CHINA-LAOS BORDER REG'). Dobiti stoplec, ki bi vseboval izključno samo države, pa je iz teh podatkov skoraj nemogoče, saj v stolpcu regija najdemo tudi Pireneje, gorovje med Španijo in Francijo, in Afriko (res!). Tega ne moremo popraviti z nobeno funkcijo."
   ]
  },
  {
   "cell_type": "code",
   "execution_count": null,
   "metadata": {
    "collapsed": false
   },
   "outputs": [],
   "source": [
    "def pretvori_v_drzavo(reg):\n",
    "    odvec = {'WESTERN' : 8, 'EASTERN' : 8, 'CENTRAL' : 8, 'SOUTHERN' : 9, 'NORTHERN' : 9, 'OFFSHORE' : 9, \n",
    "             'NEAR' : 5, 'REGION' : -7, 'PENINSULA' : -10, 'GULF' : 8, 'SOUTH' : 6, 'WEST' : 5, \n",
    "             'EAST' : 5, 'NORTH' : 6, 'THE' : 4, 'COAST' : 6, 'OF' : 3, 'OFF' : 4, 'SOUTHEAST' : 10,\n",
    "             'SOUTHWEST' : 10, 'NORTHEAST' : 10, 'NORTHWEST' : 10, 'RISE' : -5, 'RIDGE' : -6}\n",
    "    \n",
    "    cudne_izjeme = {'CALIF.' : 'CALIFORNIA', 'N.Z.' : 'NEW ZEALAND', 'P.N.G.' : 'PAPUA NEW GUINEA'}\n",
    "    \n",
    "    if ' ' in reg:\n",
    "        zacetek = reg[:reg.index(' ')]           # Izrežemo prvo besedo (od začetka do prvega presledka).\n",
    "        konec = reg[-(reg[::-1].index(' ')):]    # Izrežemo zadnjo besedo (od konca do zadnjega presledka).\n",
    "    elif reg in cudne_izjeme:\n",
    "        return cudne_izjeme[reg]\n",
    "    else:\n",
    "        return reg\n",
    "    \n",
    "    if ',' in reg:\n",
    "        vejica = reg.index(',')\n",
    "        nova_regija = reg[vejica + 2:]\n",
    "        return pretvori_v_drzavo(nova_regija)\n",
    "    elif len(zacetek) == 1:                       # Če je prva črka W, E, S ali N.\n",
    "        nova_regija = reg[2:]\n",
    "    elif zacetek in odvec:\n",
    "        nova_regija = reg[odvec[zacetek]:]\n",
    "        return pretvori_v_drzavo(nova_regija)\n",
    "    elif konec in odvec:\n",
    "        nova_regija = reg[:odvec[konec]]\n",
    "        return pretvori_v_drzavo(nova_regija)\n",
    "    elif konec == 'IS.':\n",
    "        return reg[:-1] + 'LANDS'\n",
    "    else:\n",
    "        return reg"
   ]
  },
  {
   "cell_type": "code",
   "execution_count": null,
   "metadata": {
    "collapsed": false
   },
   "outputs": [],
   "source": [
    "podatki['drzava'] = podatki['regija'].map(pretvori_v_drzavo)\n",
    "podatki[:7]"
   ]
  },
  {
   "cell_type": "markdown",
   "metadata": {},
   "source": [
    "### Delo z novim stolpcem\n",
    "\n",
    "Izpišimo torej število potresov glede na novi stolpec 'drzava' in se prepričajmo, da je bilo pisanje funkcije in dodajanje stoplca smiselno. Res, vrh seznama se opazno spremeni, čeprav Turčija ostaja daleč pred ostalimi državami. Za prvih 20 držav bomo spodaj izrisali tudi graf."
   ]
  },
  {
   "cell_type": "code",
   "execution_count": null,
   "metadata": {
    "collapsed": false
   },
   "outputs": [],
   "source": [
    "stevilo_drzava = podatki['drzava'].value_counts()\n",
    "stevilo_drzava"
   ]
  },
  {
   "cell_type": "code",
   "execution_count": null,
   "metadata": {
    "collapsed": false
   },
   "outputs": [],
   "source": [
    "stevilo_drzava.head(20).plot(kind='bar', title='Število potresov v državi')"
   ]
  },
  {
   "cell_type": "markdown",
   "metadata": {},
   "source": [
    "Izpišimo potrese z največjo magnitudo, saj nas ta podatek običajno zelo zanima. Najprej izpišimo posamezne najmočnejše potrese, ki so se zgodili v prvi polovici oktobra. Zanimivo je, da držav s prejšnjega grafa v tej tabeli skoraj ni (izjemi sta npr. Japonska in Indonezija). Videti je, da se v državah z največ potresi niso zgodili najmočnejši potresi.\n",
    "\n",
    "Sklepamo torej, da bi si bilo pametno ogledati tudi tabelo s povprečno magnitudo, ki jo bomo izpisali spodaj."
   ]
  },
  {
   "cell_type": "code",
   "execution_count": null,
   "metadata": {
    "collapsed": false
   },
   "outputs": [],
   "source": [
    "delno = podatki[['regija', 'drzava', 'magnituda']]\n",
    "delno.sort_values('magnituda', ascending=False)[:15]"
   ]
  },
  {
   "cell_type": "markdown",
   "metadata": {},
   "source": [
    "### Razna povprečja\n",
    "\n",
    "Sedaj si oglejmo še povprečne magnitude. Opazimo, da se pojavijo mnoge države iz zgornje tabele. Kako bi si to razložili?\n",
    "\n",
    "Na rezultate gotovo vpliva relativno majhno skupno število podatkov in izredno velik razpon v številu podatkov za posamezno državo. Zato teh povprečnih vrednosti ne smemo jemati preresno. Opozorila bi recimo na primer Pacifika (če zanemarimo očitno težavo, da to ni država). Sklepali bi, da se je tam v opazovanem času zgodil le en izredno močan potres (magnituda 5.6 v zgornji tabeli je enaka povprečju za Pacifik spodaj). Spodaj smo to preverili - res, najdemo le en potres za to \"državo\". "
   ]
  },
  {
   "cell_type": "code",
   "execution_count": null,
   "metadata": {
    "collapsed": false
   },
   "outputs": [],
   "source": [
    "drzave = podatki.groupby('drzava')\n",
    "\n",
    "drzave['magnituda'].mean().sort_values(ascending=False).round(2)[:15]"
   ]
  },
  {
   "cell_type": "code",
   "execution_count": null,
   "metadata": {
    "collapsed": false
   },
   "outputs": [],
   "source": [
    "podatki[podatki.drzava == 'PACIFIC']"
   ]
  },
  {
   "cell_type": "markdown",
   "metadata": {},
   "source": [
    "Izkoristimo še stolpca 'DOL' in 'SIR', ki vsebujeta podatke o geografski širini in dolžini, in sicer samo vrednosti N, S, E, W za strani neba. Spodnji graf prikazuje, kolikšen delež zaznanih potresov se je zgodil na severni in južni polobli. Porazdelitev je presenetljiva, saj za tako nenavadno razmerje navidez ni vzroka.\n",
    "\n",
    "Zakaj pa nas ti podatki vendale ne presenečajo tako zelo? EMSC (vir podatkov) je evropska mreža. Kot sem zapisala v uvodu, je večina opazovalnic v Evropi, kar pomeni, da z večjo natančnostjo zaznajo tudi manj močne potrese na tem območju (in podatke posredujejo EMSC). Drugače povedano - šibak potres npr. v Švici bo zabeležen, enako močan v Južnoafriški republiki pa ne, ker ga evropske opazovalnice ne bodo zaznale (predpostavimo, da recimo nobena bližnja opazovalnica ni vključena v mrežo). Drug faktor je porazdelitev kopnega - tudi če bi bile EMSC-jeve opazovalnice enakomerno razporejene po svetu, je na južni polobli pač manj kopnega in posledično manj opazovalnic.\n",
    "\n",
    "Podatki o mediani in povprečni magnitudi potrjujejo zgoraj zapisano - tisti potresi z južne poloble, ki so jih zaznali, so bili močnejši, posledično sta prikazani vrednosti višji.\n",
    "\n",
    "Pri delitvi vzhod-zahod so razultati dosti bližje pričakovani porazdelitvi (približno pol-pol)."
   ]
  },
  {
   "cell_type": "code",
   "execution_count": null,
   "metadata": {
    "collapsed": false
   },
   "outputs": [],
   "source": [
    "sirina = podatki.groupby('SIR')\n",
    "sirina.size().plot(kind = 'pie', title = 'Razmerje med številom potresov na severni (N) in južni (S) polobli.')\n",
    "\n",
    "sirina['magnituda'].median(), sirina['magnituda'].mean().round(2)"
   ]
  },
  {
   "cell_type": "code",
   "execution_count": null,
   "metadata": {
    "collapsed": false
   },
   "outputs": [],
   "source": [
    "dolzina = podatki.groupby('DOL')\n",
    "dolzina.size().plot(kind = 'pie', title = 'Razmerje med številom potresov na vzhodni (E) in zahodni (W) polobli.')\n",
    "\n",
    "dolzina['magnituda'].median(), dolzina['magnituda'].mean().round(2)"
   ]
  },
  {
   "cell_type": "markdown",
   "metadata": {},
   "source": [
    "Glede na to, da smo že opazili, da zaradi držav s premalo potresi včasih dobimo nekoliko zavajajoče rezultate, si morda oglejmo še, kako \"razgibana\" je neka država. Merilo bo zelo preprosto - od potresa z največjo magnitudo odštejemo tistega z najmanjšo. S tem podatkom dobimo neko dodatno informacijo o posameznem območju.\n",
    "\n",
    "Če se spomnimo grafa, ki je prikazoval število potresov v posamezni državi, nas visoko uvrščene države ne presenečajo (prvih šest držav je istih, samo v drugačnem vrstnem redu). Kot zanimivost pa si poglejmo še podatke o številu potresov v Norveškem morju, na Hrvaškem in v Mehiki. (Pričakujemo nizko skupno število potresov.)"
   ]
  },
  {
   "cell_type": "code",
   "execution_count": null,
   "metadata": {
    "collapsed": false
   },
   "outputs": [],
   "source": [
    "razgibanost = drzave['magnituda'].max() - drzave['magnituda'].min()\n",
    "razgibanost.sort_values(ascending=False).head(10)"
   ]
  },
  {
   "cell_type": "code",
   "execution_count": null,
   "metadata": {
    "collapsed": false
   },
   "outputs": [],
   "source": [
    "stevilo_drzava['NORWEGIAN SEA'], stevilo_drzava['CROATIA'], stevilo_drzava['MEXICO']"
   ]
  },
  {
   "cell_type": "markdown",
   "metadata": {},
   "source": [
    "### Spremenimo zapis koordinat tako, da bomo z njimi lahko kaj počeli\n",
    "\n",
    "Sedaj podatkom dodajmo dva nova stolpca, ki bosta uporabna za raziskovanje, kje (po koordinatah) so se dogajali potresi. Težava z obstoječimi podatki je bila, da iz stolpcev 'sirina' in 'dolzina' ni bilo razvino, kje natanko se je potres zgodil (npr. Egipt in Južna Afrika imata približno enako zemljepisno širino, Portugalska in Korzika pa dolžino), kar onemogoča analizo. Krajem, ki so južno od ekvatorja ali zahodno od Greenwicha, pred vrednost zapišemo minus v skladu s standardnim označevanjem v geografiji. Ker bomo delali s povprečnimi vrednostmi, podatke sproti še zaokrožimo na število, deljivo s 5.\n",
    "\n",
    "Spodaj je prikazanih nekaj vrstic, kjer lahko primerjamo stara stoplca z novima."
   ]
  },
  {
   "cell_type": "code",
   "execution_count": null,
   "metadata": {
    "collapsed": false
   },
   "outputs": [],
   "source": [
    "def predznak(x):\n",
    "    if x == 'W' or x == 'S':\n",
    "        return (-1)\n",
    "    else:\n",
    "        return 1"
   ]
  },
  {
   "cell_type": "code",
   "execution_count": null,
   "metadata": {
    "collapsed": false
   },
   "outputs": [],
   "source": [
    "podatki['dolzina_prava'] = podatki['DOL'].map(predznak) * podatki['dolzina']\n",
    "podatki['dolzina_prava'] = round(podatki['dolzina_prava']*2, -1) / 2     # Zaokrožimo.\n",
    "\n",
    "podatki['sirina_prava'] = podatki['SIR'].map(predznak) * podatki['sirina']\n",
    "podatki['sirina_prava'] = round(podatki['sirina_prava']*2, -1) / 2       # Zaokrožimo.\n",
    "\n",
    "\n",
    "podatki[['DOL', 'dolzina', 'SIR', 'sirina', 'magnituda', 'drzava', 'dolzina_prava', 'sirina_prava']][32:36]"
   ]
  },
  {
   "cell_type": "markdown",
   "metadata": {},
   "source": [
    "Najprej si oglejmo porazdelitev potresov (opazujemo samo skupno število dogodkov) v smeri vzhod-zahod. Če imamo v mislih graf držav z največ potresi, lahko skoraj vsakemu vrhu pripišemo državo in ga nekako \"osmislimo\".\n",
    "\n",
    "Sklepamo takole:\n",
    "\n",
    "Vrhova skrajno desno pripadata Aleutskim otokom (vulkansko otočje med ameriško Aljasko in Rusko Kamčatko), vrh pri -150 pripada Aljaski, vrh med -150 in -100 pa Kaliforniji. Čile se nahaja približno pri -70, kar pojasni tamkajšnji vrh. \n",
    "Zelo očitno je, da najvišji in najširši vrh pripada Evropi - natančneje Grčiji (med 20 in 25) in Turčiji (med 25 in 45)."
   ]
  },
  {
   "cell_type": "code",
   "execution_count": null,
   "metadata": {
    "collapsed": false
   },
   "outputs": [],
   "source": [
    "dolzina = podatki.groupby('dolzina_prava')\n",
    "dolzina.size().plot(kind='area', color='y')"
   ]
  },
  {
   "cell_type": "markdown",
   "metadata": {},
   "source": [
    "Podobno analizirajmo še smer sever-jug. Zanimivo je, da pri polih opazimo skoraj popoln upad zaznanih potresov. To je v skladu z razmislekom pri tortnih diagramih - površen pogled na zemljevid sveta na primer pokaže, da pod -40 (torej 40 stopinj južno od ekvatorja) praktično ni drugega kot morje (in seveda Antarktika), torej tudi zelo malo opazovalnic.\n",
    "\n",
    "Za tokratne vrhove je razmislek približno takšen:\n",
    "\n",
    "Za prve vrhove je kriv Čile, okrog 40 pa se nahajajo Kalifornija, Grčija, Turčija, Italija. Pri 60 nam ostanejo še Aljaska in Aleutski otoki."
   ]
  },
  {
   "cell_type": "code",
   "execution_count": null,
   "metadata": {
    "collapsed": false
   },
   "outputs": [],
   "source": [
    "sirina = podatki.groupby('sirina_prava')\n",
    "sirina.size().plot(kind='area', color='y')"
   ]
  },
  {
   "cell_type": "markdown",
   "metadata": {},
   "source": [
    "## Kdaj so se zgodili potresi?\n",
    "\n",
    "Osnovna hipoteza je, da so potresi bolj ali manj časovno neodvisni pojavi, zato povsod pričakujemo enakomerne porazdelitve - tako glede na dan v tednu kot na primer glede na uro v dnevu.\n",
    "\n",
    "Za začetek narišimo graf števila zaznanih potresov za vsak dan, ob tem si oglejmo še mediane vrednosti magnitud. Kot smo pričakovali, velikih odstopanj ni. Jasno je, da bi lepše (torej enakomernejše) grafe dobili z večjim številom zajetih podatkov.\n",
    "\n",
    "Kot zanimivost pri prvem grafu morda omenimo razliko med dnevom 1 in 8. Prvega oktobra se je torej zgodilo le pol toliko potresov kot osmega, kar pa je seveda zgolj naključje."
   ]
  },
  {
   "cell_type": "code",
   "execution_count": null,
   "metadata": {
    "collapsed": false
   },
   "outputs": [],
   "source": [
    "po_dnevu = podatki.groupby('dan')\n",
    "po_dnevu.size().plot(kind='bar', color='g')\n",
    "po_dnevu.size().mean().round(), po_dnevu['magnituda'].mean().round(2)"
   ]
  },
  {
   "cell_type": "markdown",
   "metadata": {},
   "source": [
    "Recimo, da nas zanima razporeditev čez dan, torej po urah, in (bolj zaradi radovednosti) še znotraj ure, torej glede na minute. Prvi graf pokaže, koliko potresov se je zgodilo ob neki uri, povprečje je 83. "
   ]
  },
  {
   "cell_type": "code",
   "execution_count": null,
   "metadata": {
    "collapsed": false
   },
   "outputs": [],
   "source": [
    "po_uri = podatki.groupby('ura')\n",
    "po_uri.size().plot(ylim=(0, 120)), po_uri.size().mean().round()   # Smiselno prilagodimo y-os."
   ]
  },
  {
   "cell_type": "markdown",
   "metadata": {},
   "source": [
    "Izrišimo še graf, ki prikaže razporeditev znotraj ure. Kot pričakovano, so vrednosti blizu skupaj in nihajo okrog povprečja, ki je 33 potresov."
   ]
  },
  {
   "cell_type": "code",
   "execution_count": null,
   "metadata": {
    "collapsed": false
   },
   "outputs": [],
   "source": [
    "po_minuti = podatki.groupby('minuta')\n",
    "po_minuti.size().plot(kind='line', ylim=(0, 55)), po_minuti.size().mean().round()  \n",
    "# Smiselno prilagodimo y-os."
   ]
  },
  {
   "cell_type": "markdown",
   "metadata": {
    "collapsed": false
   },
   "source": [
    "## Zaključimo z globino\n",
    "\n",
    "Na hitro poglemo še povezavo globina-magnituda. Ali drži, da so tisti potresi, ki izvirajo iz večje globine, močnejši?\n",
    "\n",
    "Prva stvar, ki se je moramo zavedati, je, da so naši potresi izrazito neenakomerno razporejeni (glede na globino in magnitudo). To pokaže spodnji graf, kjer vidimo, da se je velianska večina potresov zgodila na globini, manjši od 50 km. (Metodološki opazki: \n",
    "a) zabeleženi so tudi potresi na globini 0, \n",
    "b) najmanjša možna magnituda je 1.5, potresov z manjšo magnitudo ni v tej bazi podatkov)\n",
    "\n",
    "Še en graf nižje smo prešteli potrese z določeno magnitudo - večino uvrstimo med 2 in 3."
   ]
  },
  {
   "cell_type": "code",
   "execution_count": null,
   "metadata": {
    "collapsed": false
   },
   "outputs": [],
   "source": [
    "globina = podatki.groupby('globina')\n",
    "globina.size().plot()"
   ]
  },
  {
   "cell_type": "code",
   "execution_count": null,
   "metadata": {
    "collapsed": false
   },
   "outputs": [],
   "source": [
    "magnituda = podatki.groupby('magnituda')\n",
    "magnituda.size().plot()"
   ]
  },
  {
   "cell_type": "markdown",
   "metadata": {},
   "source": [
    "Zdaj pa vse to združimo v en veličasten graf. Spodaj vidimo graf, kjer smo vsakemu od skoraj 2000 potresov priredili piko glede na magnitudo (x-os) in globino (y-os). Seveda se mnoge pike prekrivajo, pa vendar lahko ob tem grafu povemo dosti stvari. Recimo:\n",
    "\n",
    "- Da se močni potresi zgodijo le na veliki globini, ni res. Vidimo, da imajo potresi z globino 0 (torej blizu površja Zemlje) magnitude vse tja do 6.\n",
    "- Potresi, ki se zgodijo zelo globoko, so močnejši. Vsi potresi z globino več kot 400 so imeli magnitudo nad 4.\n",
    "- Šibki potresi se zgodijo blizu površja. Opazimo, da so potresi z magnitudo manj kot 2 imeli globino manj kot 50 km.\n",
    "\n",
    "Res pa je, da so zgornje opazke vezane na dane podatke, ki jih ni dovolj za resno raziskovanje. Zato verjetno ne zgrešimo preveč, če zaključimo, da med globino in magnitudo potresa ni neke jasne nedvoumne povezave."
   ]
  },
  {
   "cell_type": "code",
   "execution_count": null,
   "metadata": {
    "collapsed": false
   },
   "outputs": [],
   "source": [
    "globinamagnituda = pd.DataFrame(podatki[['magnituda', 'globina']])   \n",
    "globinamagnituda.plot(kind='scatter', x = 'magnituda', y = 'globina', color='w')"
   ]
  },
  {
   "cell_type": "markdown",
   "metadata": {},
   "source": [
    "## Dodatek\n",
    "\n",
    "Za konec dodajam \"profile\" držav z največ potresi (vrstni red: Turčija, Aljaska, Čile, Kalifornija in Grčija). Spomnila bi, da je bila Grčija prva po \"razgibanosti\" (sledila je Kalifornija). Grafe sem dobila tako, da sem iz zgornjega grafa belih pik izbrala le tiste pike, ki pripadajo posamezni državi, v naslovu pa je poleg imena države še skupno število potresov.\n",
    "\n",
    "Seveda mi ne bi bilo treba dodati vseh petih grafov, ampak mi je ta 'scatter' tip grafa zelo všeč :) Poleg tega seveda, da se mi zdi, da res dobro predstavi situacijo v neki državi - bolj nazorno kot razna povprečja. Vsi grafi obsegajo območje do magnitude 6 in globine 275 km, da jih je lažje primerjati med seboj."
   ]
  },
  {
   "cell_type": "code",
   "execution_count": null,
   "metadata": {
    "collapsed": false
   },
   "outputs": [],
   "source": [
    "turcija = globinamagnituda[podatki.drzava == 'TURKEY']\n",
    "turcija.plot(kind='scatter', x = 'magnituda', y = 'globina', xlim = (1, 6), ylim = (-20, 275), color = 'r', title='Turčija: 736')"
   ]
  },
  {
   "cell_type": "code",
   "execution_count": null,
   "metadata": {
    "collapsed": false
   },
   "outputs": [],
   "source": [
    "aljaska = globinamagnituda[podatki.drzava == 'ALASKA']\n",
    "aljaska.plot(kind='scatter', x = 'magnituda', y = 'globina', xlim = (1, 6), ylim = (-20, 275), color = 'g', title='Aljaska: 404')"
   ]
  },
  {
   "cell_type": "code",
   "execution_count": null,
   "metadata": {
    "collapsed": false
   },
   "outputs": [],
   "source": [
    "cile = globinamagnituda[podatki.drzava == 'CHILE']\n",
    "cile.plot(kind='scatter', x = 'magnituda', y = 'globina', xlim = (1, 6), ylim = (-20, 275), color = 'k', title='Čile: 330')"
   ]
  },
  {
   "cell_type": "code",
   "execution_count": null,
   "metadata": {
    "collapsed": false
   },
   "outputs": [],
   "source": [
    "kalifornija = globinamagnituda[podatki.drzava == 'CALIFORNIA']\n",
    "kalifornija.plot(kind='scatter', x = 'magnituda', y = 'globina', xlim = (1, 6), ylim = (-20, 275), color = 'b', title='Kalifornija: 268')"
   ]
  },
  {
   "cell_type": "code",
   "execution_count": null,
   "metadata": {
    "collapsed": false
   },
   "outputs": [],
   "source": [
    "grcija = globinamagnituda[podatki.drzava == 'GREECE']\n",
    "grcija.plot(kind='scatter', x = 'magnituda', y = 'globina', xlim = (1, 6), ylim = (-20, 275), color = 'y', title='Grčija: 266')"
   ]
  }
 ],
 "metadata": {
  "kernelspec": {
   "display_name": "Python 3",
   "language": "python",
   "name": "python3"
  },
  "language_info": {
   "codemirror_mode": {
    "name": "ipython",
    "version": 3
   },
   "file_extension": ".py",
   "mimetype": "text/x-python",
   "name": "python",
   "nbconvert_exporter": "python",
   "pygments_lexer": "ipython3",
   "version": "3.5.2"
  }
 },
 "nbformat": 4,
 "nbformat_minor": 2
}
