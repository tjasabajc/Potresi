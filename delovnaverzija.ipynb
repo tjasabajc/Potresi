{
 "cells": [
  {
   "cell_type": "markdown",
   "metadata": {},
   "source": [
    "# Potresi\n",
    "\n",
    "V projektni nalogi bom analizirala podatke o potresih od [tukaj](http://www.emsc-csem.org/) (European-Mediterranean Seismological Centre). Odločila sem se za potrese, ki so se zgodili v prvih dveh tednih oktobra (torej do 15. oktobra), ker da ta časovni okvir ravno pravšnje število podatkov - nekaj več kot 1300 potresov.\n",
    "\n",
    "Na navedeni strani najdete podatke o zadnjih potresih po svetu (podatke sicer pridobivajo avtomatsko od približno 70 opazovalnic, ki so večinoma v Evropi, zaznajo pa seveda potrese z vsega sveta) - na primer čas potresa, lokacijo (v koordinatah in opisno), globino in magnitudo. Kdorkoli lahko prispeva komentar oziroma fotografijo, če je potres začutil ali opazil posledice (recimo razpoke na hiši). Za posamezen potres, ki je pritegnil vašo pozornost, lahko pridobite ogromno podatkov, ki pa jih na tem mestu ne bomo obravnavali, ker za analizo niso posebej zanimivi.\n",
    "\n",
    "#### Opomba\n",
    "\n",
    "Če vas potresi zelo zanimajo, si oglejte tudi [to projektno nalogo](https://github.com/TinaKrasovec/Potresi-po-Evropi-zadnjih-nekaj-let-z-magnitudo-4). Podobnost je naključna, poskusili pa sva delati tako, da se analiza ne prekriva preveč. Pri delu nisva sodelovali.\n",
    "\n",
    "## Uvod\n",
    "Naložimo csv datoteko in si oglejmo nekaj vrstic za občutek."
   ]
  },
  {
   "cell_type": "code",
   "execution_count": 1,
   "metadata": {
    "collapsed": true
   },
   "outputs": [],
   "source": [
    "import pandas as pd\n",
    "pd.options.display.max_rows = 15\n",
    "\n",
    "\n",
    "%matplotlib inline"
   ]
  },
  {
   "cell_type": "code",
   "execution_count": 4,
   "metadata": {
    "collapsed": false
   },
   "outputs": [
    {
     "data": {
      "text/html": [
       "<div>\n",
       "<table border=\"1\" class=\"dataframe\">\n",
       "  <thead>\n",
       "    <tr style=\"text-align: right;\">\n",
       "      <th></th>\n",
       "      <th>leto</th>\n",
       "      <th>mesec</th>\n",
       "      <th>dan</th>\n",
       "      <th>ura</th>\n",
       "      <th>minuta</th>\n",
       "      <th>sekunda</th>\n",
       "      <th>DOL</th>\n",
       "      <th>dolzina</th>\n",
       "      <th>SIR</th>\n",
       "      <th>sirina</th>\n",
       "      <th>globina</th>\n",
       "      <th>magnituda</th>\n",
       "      <th>regija</th>\n",
       "    </tr>\n",
       "    <tr>\n",
       "      <th>id</th>\n",
       "      <th></th>\n",
       "      <th></th>\n",
       "      <th></th>\n",
       "      <th></th>\n",
       "      <th></th>\n",
       "      <th></th>\n",
       "      <th></th>\n",
       "      <th></th>\n",
       "      <th></th>\n",
       "      <th></th>\n",
       "      <th></th>\n",
       "      <th></th>\n",
       "      <th></th>\n",
       "    </tr>\n",
       "  </thead>\n",
       "  <tbody>\n",
       "    <tr>\n",
       "      <th>537411</th>\n",
       "      <td>2016</td>\n",
       "      <td>10</td>\n",
       "      <td>15</td>\n",
       "      <td>23</td>\n",
       "      <td>40</td>\n",
       "      <td>55.1</td>\n",
       "      <td>E</td>\n",
       "      <td>34.31</td>\n",
       "      <td>N</td>\n",
       "      <td>38.13</td>\n",
       "      <td>4</td>\n",
       "      <td>2.7</td>\n",
       "      <td>CENTRAL TURKEY</td>\n",
       "    </tr>\n",
       "    <tr>\n",
       "      <th>538627</th>\n",
       "      <td>2016</td>\n",
       "      <td>10</td>\n",
       "      <td>15</td>\n",
       "      <td>23</td>\n",
       "      <td>40</td>\n",
       "      <td>50.0</td>\n",
       "      <td>W</td>\n",
       "      <td>176.29</td>\n",
       "      <td>N</td>\n",
       "      <td>52.52</td>\n",
       "      <td>178</td>\n",
       "      <td>3.2</td>\n",
       "      <td>ANDREANOF ISLANDS, ALEUTIAN IS.</td>\n",
       "    </tr>\n",
       "    <tr>\n",
       "      <th>537458</th>\n",
       "      <td>2016</td>\n",
       "      <td>10</td>\n",
       "      <td>15</td>\n",
       "      <td>23</td>\n",
       "      <td>17</td>\n",
       "      <td>42.6</td>\n",
       "      <td>E</td>\n",
       "      <td>27.72</td>\n",
       "      <td>N</td>\n",
       "      <td>38.93</td>\n",
       "      <td>6</td>\n",
       "      <td>2.6</td>\n",
       "      <td>WESTERN TURKEY</td>\n",
       "    </tr>\n",
       "    <tr>\n",
       "      <th>537380</th>\n",
       "      <td>2016</td>\n",
       "      <td>10</td>\n",
       "      <td>15</td>\n",
       "      <td>23</td>\n",
       "      <td>6</td>\n",
       "      <td>59.1</td>\n",
       "      <td>E</td>\n",
       "      <td>20.69</td>\n",
       "      <td>N</td>\n",
       "      <td>39.76</td>\n",
       "      <td>15</td>\n",
       "      <td>4.3</td>\n",
       "      <td>GREECE</td>\n",
       "    </tr>\n",
       "    <tr>\n",
       "      <th>537552</th>\n",
       "      <td>2016</td>\n",
       "      <td>10</td>\n",
       "      <td>15</td>\n",
       "      <td>22</td>\n",
       "      <td>43</td>\n",
       "      <td>13.2</td>\n",
       "      <td>W</td>\n",
       "      <td>155.47</td>\n",
       "      <td>N</td>\n",
       "      <td>19.21</td>\n",
       "      <td>37</td>\n",
       "      <td>2.2</td>\n",
       "      <td>ISLAND OF HAWAII, HAWAII</td>\n",
       "    </tr>\n",
       "    <tr>\n",
       "      <th>537385</th>\n",
       "      <td>2016</td>\n",
       "      <td>10</td>\n",
       "      <td>15</td>\n",
       "      <td>22</td>\n",
       "      <td>35</td>\n",
       "      <td>29.3</td>\n",
       "      <td>E</td>\n",
       "      <td>27.69</td>\n",
       "      <td>N</td>\n",
       "      <td>38.94</td>\n",
       "      <td>8</td>\n",
       "      <td>3.6</td>\n",
       "      <td>WESTERN TURKEY</td>\n",
       "    </tr>\n",
       "    <tr>\n",
       "      <th>537310</th>\n",
       "      <td>2016</td>\n",
       "      <td>10</td>\n",
       "      <td>15</td>\n",
       "      <td>22</td>\n",
       "      <td>30</td>\n",
       "      <td>26.1</td>\n",
       "      <td>E</td>\n",
       "      <td>71.70</td>\n",
       "      <td>N</td>\n",
       "      <td>41.26</td>\n",
       "      <td>15</td>\n",
       "      <td>3.7</td>\n",
       "      <td>EASTERN UZBEKISTAN</td>\n",
       "    </tr>\n",
       "  </tbody>\n",
       "</table>\n",
       "</div>"
      ],
      "text/plain": [
       "        leto  mesec  dan  ura  minuta  sekunda DOL  dolzina SIR  sirina  \\\n",
       "id                                                                        \n",
       "537411  2016     10   15   23      40     55.1   E    34.31   N   38.13   \n",
       "538627  2016     10   15   23      40     50.0   W   176.29   N   52.52   \n",
       "537458  2016     10   15   23      17     42.6   E    27.72   N   38.93   \n",
       "537380  2016     10   15   23       6     59.1   E    20.69   N   39.76   \n",
       "537552  2016     10   15   22      43     13.2   W   155.47   N   19.21   \n",
       "537385  2016     10   15   22      35     29.3   E    27.69   N   38.94   \n",
       "537310  2016     10   15   22      30     26.1   E    71.70   N   41.26   \n",
       "\n",
       "        globina  magnituda                           regija  \n",
       "id                                                           \n",
       "537411        4        2.7                   CENTRAL TURKEY  \n",
       "538627      178        3.2  ANDREANOF ISLANDS, ALEUTIAN IS.  \n",
       "537458        6        2.6                   WESTERN TURKEY  \n",
       "537380       15        4.3                           GREECE  \n",
       "537552       37        2.2         ISLAND OF HAWAII, HAWAII  \n",
       "537385        8        3.6                   WESTERN TURKEY  \n",
       "537310       15        3.7               EASTERN UZBEKISTAN  "
      ]
     },
     "execution_count": 4,
     "metadata": {},
     "output_type": "execute_result"
    }
   ],
   "source": [
    "podatki = pd.read_csv('potresi_potresi.csv', index_col = 'id')\n",
    "podatki[:7]"
   ]
  },
  {
   "cell_type": "markdown",
   "metadata": {},
   "source": [
    "## Kje so se zgodili potresi?\n",
    "\n",
    "Večkrat smo že slišali, da živimo na potresno zelo živahnem območju. Izkaže pa se, da se v smislu potresov v začetku oktobra v Sloveniji ni veliko zgodilo. Opazovalnice so zabeležile en sam potres na našem območju, zato se najbrž spodobi, da ga izpišemo."
   ]
  },
  {
   "cell_type": "code",
   "execution_count": 115,
   "metadata": {
    "collapsed": false
   },
   "outputs": [
    {
     "data": {
      "text/html": [
       "<div>\n",
       "<table border=\"1\" class=\"dataframe\">\n",
       "  <thead>\n",
       "    <tr style=\"text-align: right;\">\n",
       "      <th></th>\n",
       "      <th>leto</th>\n",
       "      <th>mesec</th>\n",
       "      <th>dan</th>\n",
       "      <th>ura</th>\n",
       "      <th>minuta</th>\n",
       "      <th>sekunda</th>\n",
       "      <th>DOL</th>\n",
       "      <th>dolzina</th>\n",
       "      <th>SIR</th>\n",
       "      <th>sirina</th>\n",
       "      <th>globina</th>\n",
       "      <th>magnituda</th>\n",
       "      <th>regija</th>\n",
       "      <th>drzava</th>\n",
       "      <th>dolzina_prava</th>\n",
       "      <th>sirina_prava</th>\n",
       "      <th>testiram</th>\n",
       "    </tr>\n",
       "    <tr>\n",
       "      <th>id</th>\n",
       "      <th></th>\n",
       "      <th></th>\n",
       "      <th></th>\n",
       "      <th></th>\n",
       "      <th></th>\n",
       "      <th></th>\n",
       "      <th></th>\n",
       "      <th></th>\n",
       "      <th></th>\n",
       "      <th></th>\n",
       "      <th></th>\n",
       "      <th></th>\n",
       "      <th></th>\n",
       "      <th></th>\n",
       "      <th></th>\n",
       "      <th></th>\n",
       "      <th></th>\n",
       "    </tr>\n",
       "  </thead>\n",
       "  <tbody>\n",
       "    <tr>\n",
       "      <th>536262</th>\n",
       "      <td>2016</td>\n",
       "      <td>10</td>\n",
       "      <td>10</td>\n",
       "      <td>11</td>\n",
       "      <td>43</td>\n",
       "      <td>41.6</td>\n",
       "      <td>E</td>\n",
       "      <td>14.59</td>\n",
       "      <td>N</td>\n",
       "      <td>45.94</td>\n",
       "      <td>2</td>\n",
       "      <td>2.0</td>\n",
       "      <td>SLOVENIA</td>\n",
       "      <td>SLOVENIA</td>\n",
       "      <td>15.0</td>\n",
       "      <td>45.0</td>\n",
       "      <td>14.59</td>\n",
       "    </tr>\n",
       "  </tbody>\n",
       "</table>\n",
       "</div>"
      ],
      "text/plain": [
       "        leto  mesec  dan  ura  minuta  sekunda DOL  dolzina SIR  sirina  \\\n",
       "id                                                                        \n",
       "536262  2016     10   10   11      43     41.6   E    14.59   N   45.94   \n",
       "\n",
       "        globina  magnituda    regija    drzava  dolzina_prava  sirina_prava  \\\n",
       "id                                                                            \n",
       "536262        2        2.0  SLOVENIA  SLOVENIA           15.0          45.0   \n",
       "\n",
       "        testiram  \n",
       "id                \n",
       "536262     14.59  "
      ]
     },
     "execution_count": 115,
     "metadata": {},
     "output_type": "execute_result"
    }
   ],
   "source": [
    "podatki[podatki.regija == 'SLOVENIA']"
   ]
  },
  {
   "cell_type": "code",
   "execution_count": 6,
   "metadata": {
    "collapsed": false
   },
   "outputs": [
    {
     "data": {
      "text/plain": [
       "leto             2016\n",
       "mesec              10\n",
       "dan                10\n",
       "ura                11\n",
       "minuta             43\n",
       "sekunda          41.6\n",
       "DOL                 E\n",
       "dolzina         14.59\n",
       "SIR                 N\n",
       "sirina          45.94\n",
       "globina             2\n",
       "magnituda           2\n",
       "regija       SLOVENIA\n",
       "Name: 536262, dtype: object"
      ]
     },
     "execution_count": 6,
     "metadata": {},
     "output_type": "execute_result"
    }
   ],
   "source": [
    "podatki.loc[536262]"
   ]
  },
  {
   "cell_type": "markdown",
   "metadata": {},
   "source": [
    "Kako zanimivo! Potres se je zgodil v ponedeljek, 10. oktobra ob 11:43, ko so potekale vaje za programiranje.\n",
    "\n",
    "V katerih državah pa se je zgodilo največ potresov?"
   ]
  },
  {
   "cell_type": "code",
   "execution_count": 7,
   "metadata": {
    "collapsed": false
   },
   "outputs": [
    {
     "data": {
      "text/plain": [
       "WESTERN TURKEY                    233\n",
       "GREECE                             68\n",
       "SOUTHERN ALASKA                    66\n",
       "CENTRAL TURKEY                     64\n",
       "OKLAHOMA                           59\n",
       "EASTERN TURKEY                     57\n",
       "CENTRAL ITALY                      54\n",
       "                                 ... \n",
       "BLACK SEA                           1\n",
       "SOUTH ISLAND OF NEW ZEALAND         1\n",
       "GUATEMALA                           1\n",
       "OKLAHOMA CITY AREA, OKLAHOMA        1\n",
       "XIZANG-NEPAL BORDER REGION          1\n",
       "GULF OF SANTA CATALINA, CALIF.      1\n",
       "SLOVENIA                            1\n",
       "Name: regija, dtype: int64"
      ]
     },
     "execution_count": 7,
     "metadata": {},
     "output_type": "execute_result"
    }
   ],
   "source": [
    "stevilo_regije = podatki['regija'].value_counts()\n",
    "stevilo_regije"
   ]
  },
  {
   "cell_type": "markdown",
   "metadata": {},
   "source": [
    "Turčija je očitno potresno zelo zanimiva država, saj med prvimi petimi regijami nastopi kar trikrat s skupno več kot 350 potresi. Presenetljivo torej že zelo površen pregled pokaže, da se je približno vsak četrti potres zgodil v Turčiji.\n",
    "\n",
    "Opazimo pa tudi težavo. Sklepali bi, da so potresno aktivna območja deljena v manjše regije (kot zgoraj Turčija in recimo Čile) zato, da tisti, ki se s tem ukvarjajo, že na prvi pogled bolj natančno vedo, kje je bil potres. Recimo pa, da nas ne zanima, v katerem delu države se je potres zgodil, ampak samo država, ker bodo v tem primeru podatki preglednejši.\n",
    "\n",
    "### Funkcija, ki regijo spremeni v državo\n",
    "\n",
    "Spodnja funkcija iz regije približno naredi državo (tabeli dodamo stolpec \"drzava\"). Zakaj samo približno? Ime regije je zapisano v več oblikah in manjšinski del teh opisov funkcija ohrani, čeprav niso idealni. Spodaj je za vsako obliko napisano, kaj funkcija pretvori_v_drzavo z njo naredi:\n",
    "\n",
    "- imenovanje regije s stranmi neba (zahodna, osrednja ...): V tem primeru ohranimo samo ime države\n",
    "- zapis oblike 'mesto/pokrajina, država': V tem primeru zbrišemo vse pred vejico\n",
    "- širše območje neke države (predpostavljam, da gre za otočja), npr 'FIJI REGION': ohranimo samo ime države\n",
    "- zaradi neznanega razloga je Kalifornija včasih imenovana 'CALIF.' (pri drugih državah tega nisem opazila): Spremenimo v 'CALIFORNIA'\n",
    "- območje na morju ('OFFSHORE ...' ali 'NEAR THE COAST OF ...'): Izbrišemo opis območja\n",
    "\n",
    "En opis, ki ga nisem popravljala, je recimo mejno območje med dvema državama (kot recimo 'CHINA-LAOS BORDER REG'). Dobiti stoplec, ki bi vseboval izključno samo države, pa je iz teh podatkov skoraj nemogoče. Ena izmed regij so npr. Pireneji, gorovje med Španijo in Francijo. Tega ne moremo popraviti z nobeno funkcijo."
   ]
  },
  {
   "cell_type": "code",
   "execution_count": 101,
   "metadata": {
    "collapsed": false
   },
   "outputs": [],
   "source": [
    "def pretvori_v_drzavo(reg):\n",
    "    odvec = {'WESTERN' : 8, 'EASTERN' : 8, 'CENTRAL' : 8, 'SOUTHERN' : 9, 'NORTHERN' : 9, 'OFFSHORE' : 9, \n",
    "             'NEAR' : 5, 'REGION' : -7, 'PENINSULA' : -10, 'GULF' : 8, 'SOUTH' : 6, 'WEST' : 5, \n",
    "             'EAST' : 5, 'NORTH' : 6, 'THE' : 4, 'COAST' : 6, 'OF' : 3, 'OFF' : 4, 'SOUTHEAST' : 10,\n",
    "             'SOUTHWEST' : 10, 'NORTHEAST' : 10, 'NORTHWEST' : 10, 'RISE' : -5, 'RIDGE' : -6}\n",
    "    \n",
    "    if ' ' in reg:\n",
    "        zacetek = reg[:reg.index(' ')]           # Izrežemo prvo besedo (od začetka do prvega presledka).\n",
    "        konec = reg[-(reg[::-1].index(' ')):]    # Izrežemo zadnjo besedo (od konca do zadnjega presledka).\n",
    "    elif reg == 'CALIF.':\n",
    "        return 'CALIFORNIA'\n",
    "    else:\n",
    "        return reg\n",
    "    \n",
    "    if ',' in reg:\n",
    "        vejica = reg.index(',')\n",
    "        nova_regija = reg[vejica + 2:]\n",
    "        return pretvori_v_drzavo(nova_regija)\n",
    "    elif zacetek in odvec:\n",
    "        nova_regija = reg[odvec[zacetek]:]\n",
    "        return pretvori_v_drzavo(nova_regija)\n",
    "    elif konec in odvec:\n",
    "        nova_regija = reg[:odvec[konec]]\n",
    "        return pretvori_v_drzavo(nova_regija)\n",
    "    else:\n",
    "        return reg"
   ]
  },
  {
   "cell_type": "code",
   "execution_count": 102,
   "metadata": {
    "collapsed": false
   },
   "outputs": [
    {
     "data": {
      "text/html": [
       "<div>\n",
       "<table border=\"1\" class=\"dataframe\">\n",
       "  <thead>\n",
       "    <tr style=\"text-align: right;\">\n",
       "      <th></th>\n",
       "      <th>leto</th>\n",
       "      <th>mesec</th>\n",
       "      <th>dan</th>\n",
       "      <th>ura</th>\n",
       "      <th>minuta</th>\n",
       "      <th>sekunda</th>\n",
       "      <th>DOL</th>\n",
       "      <th>dolzina</th>\n",
       "      <th>SIR</th>\n",
       "      <th>sirina</th>\n",
       "      <th>globina</th>\n",
       "      <th>magnituda</th>\n",
       "      <th>regija</th>\n",
       "      <th>drzava</th>\n",
       "      <th>dolzina_prava</th>\n",
       "      <th>sirina_prava</th>\n",
       "      <th>testiram</th>\n",
       "    </tr>\n",
       "    <tr>\n",
       "      <th>id</th>\n",
       "      <th></th>\n",
       "      <th></th>\n",
       "      <th></th>\n",
       "      <th></th>\n",
       "      <th></th>\n",
       "      <th></th>\n",
       "      <th></th>\n",
       "      <th></th>\n",
       "      <th></th>\n",
       "      <th></th>\n",
       "      <th></th>\n",
       "      <th></th>\n",
       "      <th></th>\n",
       "      <th></th>\n",
       "      <th></th>\n",
       "      <th></th>\n",
       "      <th></th>\n",
       "    </tr>\n",
       "  </thead>\n",
       "  <tbody>\n",
       "    <tr>\n",
       "      <th>537411</th>\n",
       "      <td>2016</td>\n",
       "      <td>10</td>\n",
       "      <td>15</td>\n",
       "      <td>23</td>\n",
       "      <td>40</td>\n",
       "      <td>55.1</td>\n",
       "      <td>E</td>\n",
       "      <td>34.31</td>\n",
       "      <td>N</td>\n",
       "      <td>38.13</td>\n",
       "      <td>4</td>\n",
       "      <td>2.7</td>\n",
       "      <td>CENTRAL TURKEY</td>\n",
       "      <td>TURKEY</td>\n",
       "      <td>35.0</td>\n",
       "      <td>40.0</td>\n",
       "      <td>34.31</td>\n",
       "    </tr>\n",
       "    <tr>\n",
       "      <th>538627</th>\n",
       "      <td>2016</td>\n",
       "      <td>10</td>\n",
       "      <td>15</td>\n",
       "      <td>23</td>\n",
       "      <td>40</td>\n",
       "      <td>50.0</td>\n",
       "      <td>W</td>\n",
       "      <td>176.29</td>\n",
       "      <td>N</td>\n",
       "      <td>52.52</td>\n",
       "      <td>178</td>\n",
       "      <td>3.2</td>\n",
       "      <td>ANDREANOF ISLANDS, ALEUTIAN IS.</td>\n",
       "      <td>ALEUTIAN IS.</td>\n",
       "      <td>-175.0</td>\n",
       "      <td>55.0</td>\n",
       "      <td>-176.29</td>\n",
       "    </tr>\n",
       "    <tr>\n",
       "      <th>537458</th>\n",
       "      <td>2016</td>\n",
       "      <td>10</td>\n",
       "      <td>15</td>\n",
       "      <td>23</td>\n",
       "      <td>17</td>\n",
       "      <td>42.6</td>\n",
       "      <td>E</td>\n",
       "      <td>27.72</td>\n",
       "      <td>N</td>\n",
       "      <td>38.93</td>\n",
       "      <td>6</td>\n",
       "      <td>2.6</td>\n",
       "      <td>WESTERN TURKEY</td>\n",
       "      <td>TURKEY</td>\n",
       "      <td>30.0</td>\n",
       "      <td>40.0</td>\n",
       "      <td>27.72</td>\n",
       "    </tr>\n",
       "    <tr>\n",
       "      <th>537380</th>\n",
       "      <td>2016</td>\n",
       "      <td>10</td>\n",
       "      <td>15</td>\n",
       "      <td>23</td>\n",
       "      <td>6</td>\n",
       "      <td>59.1</td>\n",
       "      <td>E</td>\n",
       "      <td>20.69</td>\n",
       "      <td>N</td>\n",
       "      <td>39.76</td>\n",
       "      <td>15</td>\n",
       "      <td>4.3</td>\n",
       "      <td>GREECE</td>\n",
       "      <td>GREECE</td>\n",
       "      <td>20.0</td>\n",
       "      <td>40.0</td>\n",
       "      <td>20.69</td>\n",
       "    </tr>\n",
       "    <tr>\n",
       "      <th>537552</th>\n",
       "      <td>2016</td>\n",
       "      <td>10</td>\n",
       "      <td>15</td>\n",
       "      <td>22</td>\n",
       "      <td>43</td>\n",
       "      <td>13.2</td>\n",
       "      <td>W</td>\n",
       "      <td>155.47</td>\n",
       "      <td>N</td>\n",
       "      <td>19.21</td>\n",
       "      <td>37</td>\n",
       "      <td>2.2</td>\n",
       "      <td>ISLAND OF HAWAII, HAWAII</td>\n",
       "      <td>HAWAII</td>\n",
       "      <td>-155.0</td>\n",
       "      <td>20.0</td>\n",
       "      <td>-155.47</td>\n",
       "    </tr>\n",
       "    <tr>\n",
       "      <th>537385</th>\n",
       "      <td>2016</td>\n",
       "      <td>10</td>\n",
       "      <td>15</td>\n",
       "      <td>22</td>\n",
       "      <td>35</td>\n",
       "      <td>29.3</td>\n",
       "      <td>E</td>\n",
       "      <td>27.69</td>\n",
       "      <td>N</td>\n",
       "      <td>38.94</td>\n",
       "      <td>8</td>\n",
       "      <td>3.6</td>\n",
       "      <td>WESTERN TURKEY</td>\n",
       "      <td>TURKEY</td>\n",
       "      <td>30.0</td>\n",
       "      <td>40.0</td>\n",
       "      <td>27.69</td>\n",
       "    </tr>\n",
       "    <tr>\n",
       "      <th>537310</th>\n",
       "      <td>2016</td>\n",
       "      <td>10</td>\n",
       "      <td>15</td>\n",
       "      <td>22</td>\n",
       "      <td>30</td>\n",
       "      <td>26.1</td>\n",
       "      <td>E</td>\n",
       "      <td>71.70</td>\n",
       "      <td>N</td>\n",
       "      <td>41.26</td>\n",
       "      <td>15</td>\n",
       "      <td>3.7</td>\n",
       "      <td>EASTERN UZBEKISTAN</td>\n",
       "      <td>UZBEKISTAN</td>\n",
       "      <td>70.0</td>\n",
       "      <td>40.0</td>\n",
       "      <td>71.70</td>\n",
       "    </tr>\n",
       "    <tr>\n",
       "      <th>537551</th>\n",
       "      <td>2016</td>\n",
       "      <td>10</td>\n",
       "      <td>15</td>\n",
       "      <td>22</td>\n",
       "      <td>27</td>\n",
       "      <td>50.9</td>\n",
       "      <td>W</td>\n",
       "      <td>155.22</td>\n",
       "      <td>N</td>\n",
       "      <td>19.29</td>\n",
       "      <td>7</td>\n",
       "      <td>2.4</td>\n",
       "      <td>ISLAND OF HAWAII, HAWAII</td>\n",
       "      <td>HAWAII</td>\n",
       "      <td>-155.0</td>\n",
       "      <td>20.0</td>\n",
       "      <td>-155.22</td>\n",
       "    </tr>\n",
       "    <tr>\n",
       "      <th>537381</th>\n",
       "      <td>2016</td>\n",
       "      <td>10</td>\n",
       "      <td>15</td>\n",
       "      <td>22</td>\n",
       "      <td>23</td>\n",
       "      <td>23.9</td>\n",
       "      <td>E</td>\n",
       "      <td>27.70</td>\n",
       "      <td>N</td>\n",
       "      <td>38.94</td>\n",
       "      <td>8</td>\n",
       "      <td>3.6</td>\n",
       "      <td>WESTERN TURKEY</td>\n",
       "      <td>TURKEY</td>\n",
       "      <td>30.0</td>\n",
       "      <td>40.0</td>\n",
       "      <td>27.70</td>\n",
       "    </tr>\n",
       "    <tr>\n",
       "      <th>537553</th>\n",
       "      <td>2016</td>\n",
       "      <td>10</td>\n",
       "      <td>15</td>\n",
       "      <td>22</td>\n",
       "      <td>19</td>\n",
       "      <td>42.0</td>\n",
       "      <td>W</td>\n",
       "      <td>151.62</td>\n",
       "      <td>N</td>\n",
       "      <td>59.75</td>\n",
       "      <td>41</td>\n",
       "      <td>2.1</td>\n",
       "      <td>KENAI PENINSULA, ALASKA</td>\n",
       "      <td>ALASKA</td>\n",
       "      <td>-150.0</td>\n",
       "      <td>60.0</td>\n",
       "      <td>-151.62</td>\n",
       "    </tr>\n",
       "    <tr>\n",
       "      <th>537624</th>\n",
       "      <td>2016</td>\n",
       "      <td>10</td>\n",
       "      <td>15</td>\n",
       "      <td>22</td>\n",
       "      <td>15</td>\n",
       "      <td>40.2</td>\n",
       "      <td>E</td>\n",
       "      <td>20.73</td>\n",
       "      <td>N</td>\n",
       "      <td>39.75</td>\n",
       "      <td>1</td>\n",
       "      <td>2.5</td>\n",
       "      <td>GREECE</td>\n",
       "      <td>GREECE</td>\n",
       "      <td>20.0</td>\n",
       "      <td>40.0</td>\n",
       "      <td>20.73</td>\n",
       "    </tr>\n",
       "    <tr>\n",
       "      <th>537557</th>\n",
       "      <td>2016</td>\n",
       "      <td>10</td>\n",
       "      <td>15</td>\n",
       "      <td>21</td>\n",
       "      <td>46</td>\n",
       "      <td>52.8</td>\n",
       "      <td>E</td>\n",
       "      <td>20.70</td>\n",
       "      <td>N</td>\n",
       "      <td>39.70</td>\n",
       "      <td>8</td>\n",
       "      <td>4.3</td>\n",
       "      <td>GREECE</td>\n",
       "      <td>GREECE</td>\n",
       "      <td>20.0</td>\n",
       "      <td>40.0</td>\n",
       "      <td>20.70</td>\n",
       "    </tr>\n",
       "  </tbody>\n",
       "</table>\n",
       "</div>"
      ],
      "text/plain": [
       "        leto  mesec  dan  ura  minuta  sekunda DOL  dolzina SIR  sirina  \\\n",
       "id                                                                        \n",
       "537411  2016     10   15   23      40     55.1   E    34.31   N   38.13   \n",
       "538627  2016     10   15   23      40     50.0   W   176.29   N   52.52   \n",
       "537458  2016     10   15   23      17     42.6   E    27.72   N   38.93   \n",
       "537380  2016     10   15   23       6     59.1   E    20.69   N   39.76   \n",
       "537552  2016     10   15   22      43     13.2   W   155.47   N   19.21   \n",
       "537385  2016     10   15   22      35     29.3   E    27.69   N   38.94   \n",
       "537310  2016     10   15   22      30     26.1   E    71.70   N   41.26   \n",
       "537551  2016     10   15   22      27     50.9   W   155.22   N   19.29   \n",
       "537381  2016     10   15   22      23     23.9   E    27.70   N   38.94   \n",
       "537553  2016     10   15   22      19     42.0   W   151.62   N   59.75   \n",
       "537624  2016     10   15   22      15     40.2   E    20.73   N   39.75   \n",
       "537557  2016     10   15   21      46     52.8   E    20.70   N   39.70   \n",
       "\n",
       "        globina  magnituda                           regija        drzava  \\\n",
       "id                                                                          \n",
       "537411        4        2.7                   CENTRAL TURKEY        TURKEY   \n",
       "538627      178        3.2  ANDREANOF ISLANDS, ALEUTIAN IS.  ALEUTIAN IS.   \n",
       "537458        6        2.6                   WESTERN TURKEY        TURKEY   \n",
       "537380       15        4.3                           GREECE        GREECE   \n",
       "537552       37        2.2         ISLAND OF HAWAII, HAWAII        HAWAII   \n",
       "537385        8        3.6                   WESTERN TURKEY        TURKEY   \n",
       "537310       15        3.7               EASTERN UZBEKISTAN    UZBEKISTAN   \n",
       "537551        7        2.4         ISLAND OF HAWAII, HAWAII        HAWAII   \n",
       "537381        8        3.6                   WESTERN TURKEY        TURKEY   \n",
       "537553       41        2.1          KENAI PENINSULA, ALASKA        ALASKA   \n",
       "537624        1        2.5                           GREECE        GREECE   \n",
       "537557        8        4.3                           GREECE        GREECE   \n",
       "\n",
       "        dolzina_prava  sirina_prava  testiram  \n",
       "id                                             \n",
       "537411           35.0          40.0     34.31  \n",
       "538627         -175.0          55.0   -176.29  \n",
       "537458           30.0          40.0     27.72  \n",
       "537380           20.0          40.0     20.69  \n",
       "537552         -155.0          20.0   -155.47  \n",
       "537385           30.0          40.0     27.69  \n",
       "537310           70.0          40.0     71.70  \n",
       "537551         -155.0          20.0   -155.22  \n",
       "537381           30.0          40.0     27.70  \n",
       "537553         -150.0          60.0   -151.62  \n",
       "537624           20.0          40.0     20.73  \n",
       "537557           20.0          40.0     20.70  "
      ]
     },
     "execution_count": 102,
     "metadata": {},
     "output_type": "execute_result"
    }
   ],
   "source": [
    "podatki['drzava'] = podatki['regija'].map(pretvori_v_drzavo)\n",
    "podatki[:12]"
   ]
  },
  {
   "cell_type": "markdown",
   "metadata": {},
   "source": [
    "### Delo z novim stolpcem\n",
    "\n",
    "Izpišimo torej število potresov glede na novi stolpec 'drzava' in se prepričajmo, da je bilo pisanje funkcije in dodajanje stoplca smiselno. Res, vrh seznama se opazno spremeni, čeprav Turčija ostaja daleč pred ostalimi državami. Za prvih 20 držav bomo spodaj izrisali tudi graf."
   ]
  },
  {
   "cell_type": "code",
   "execution_count": 103,
   "metadata": {
    "collapsed": false
   },
   "outputs": [
    {
     "data": {
      "text/plain": [
       "TURKEY                 368\n",
       "ALASKA                 202\n",
       "CHILE                  165\n",
       "CALIFORNIA             134\n",
       "GREECE                 133\n",
       "ITALY                   67\n",
       "PUERTO RICO             61\n",
       "                      ... \n",
       "SANDWICH ISLANDS         1\n",
       "PAPUA NEW GUINEA         1\n",
       "AMERICA                  1\n",
       "ARKANSAS                 1\n",
       "SEVERNAYA ZEMLYA         1\n",
       "TURKEY-SYRIA BORDER      1\n",
       "SLOVENIA                 1\n",
       "Name: drzava, dtype: int64"
      ]
     },
     "execution_count": 103,
     "metadata": {},
     "output_type": "execute_result"
    }
   ],
   "source": [
    "stevilo_drzava = podatki['drzava'].value_counts()\n",
    "stevilo_drzava"
   ]
  },
  {
   "cell_type": "code",
   "execution_count": 11,
   "metadata": {
    "collapsed": false
   },
   "outputs": [
    {
     "data": {
      "text/plain": [
       "<matplotlib.axes._subplots.AxesSubplot at 0x5398150>"
      ]
     },
     "execution_count": 11,
     "metadata": {},
     "output_type": "execute_result"
    },
    {
     "data": {
      "image/png": "[encoded data removed]",
      "text/plain": [
       "<matplotlib.figure.Figure at 0x53981b0>"
      ]
     },
     "metadata": {},
     "output_type": "display_data"
    }
   ],
   "source": [
    "stevilo_drzava.head(20).plot(kind='bar', title='Število potresov v državi')"
   ]
  },
  {
   "cell_type": "markdown",
   "metadata": {},
   "source": [
    "Izpišimo potrese z največjo magnitudo, saj nas ta podatek običajno zelo zanima. Najprej izpišimo posamezne najmočnejše potrese, ki so se zgodili v prvi polovici oktobra. Zanimivo je, da Turčije na vrhu seznama ne najdemo (za razliko od Grčije in Čila). Sklepamo torej, da bi bilo potrebno pogledati tudi tabelo s povprečno magnitudo, ki jo bomo izpisali spodaj."
   ]
  },
  {
   "cell_type": "code",
   "execution_count": 104,
   "metadata": {
    "collapsed": false
   },
   "outputs": [
    {
     "data": {
      "text/html": [
       "<div>\n",
       "<table border=\"1\" class=\"dataframe\">\n",
       "  <thead>\n",
       "    <tr style=\"text-align: right;\">\n",
       "      <th></th>\n",
       "      <th>regija</th>\n",
       "      <th>drzava</th>\n",
       "      <th>magnituda</th>\n",
       "    </tr>\n",
       "    <tr>\n",
       "      <th>id</th>\n",
       "      <th></th>\n",
       "      <th></th>\n",
       "      <th></th>\n",
       "    </tr>\n",
       "  </thead>\n",
       "  <tbody>\n",
       "    <tr>\n",
       "      <th>537136</th>\n",
       "      <td>NEW BRITAIN REGION, P.N.G.</td>\n",
       "      <td>P.N.G.</td>\n",
       "      <td>6.3</td>\n",
       "    </tr>\n",
       "    <tr>\n",
       "      <th>536567</th>\n",
       "      <td>NEW IRELAND REGION, P.N.G.</td>\n",
       "      <td>P.N.G.</td>\n",
       "      <td>5.8</td>\n",
       "    </tr>\n",
       "    <tr>\n",
       "      <th>536094</th>\n",
       "      <td>HALMAHERA, INDONESIA</td>\n",
       "      <td>INDONESIA</td>\n",
       "      <td>5.8</td>\n",
       "    </tr>\n",
       "    <tr>\n",
       "      <th>535332</th>\n",
       "      <td>CENTRAL MID-ATLANTIC RIDGE</td>\n",
       "      <td>MID-ATLANTIC</td>\n",
       "      <td>5.7</td>\n",
       "    </tr>\n",
       "    <tr>\n",
       "      <th>535475</th>\n",
       "      <td>TAIWAN REGION</td>\n",
       "      <td>TAIWAN</td>\n",
       "      <td>5.7</td>\n",
       "    </tr>\n",
       "    <tr>\n",
       "      <th>535099</th>\n",
       "      <td>BONIN ISLANDS, JAPAN REGION</td>\n",
       "      <td>JAPAN</td>\n",
       "      <td>5.7</td>\n",
       "    </tr>\n",
       "    <tr>\n",
       "      <th>534730</th>\n",
       "      <td>LUZON, PHILIPPINES</td>\n",
       "      <td>PHILIPPINES</td>\n",
       "      <td>5.7</td>\n",
       "    </tr>\n",
       "    <tr>\n",
       "      <th>534730</th>\n",
       "      <td>LUZON, PHILIPPINES</td>\n",
       "      <td>PHILIPPINES</td>\n",
       "      <td>5.7</td>\n",
       "    </tr>\n",
       "    <tr>\n",
       "      <th>535512</th>\n",
       "      <td>CENTRAL EAST PACIFIC RISE</td>\n",
       "      <td>PACIFIC</td>\n",
       "      <td>5.6</td>\n",
       "    </tr>\n",
       "    <tr>\n",
       "      <th>535897</th>\n",
       "      <td>OFF E. COAST OF N. ISLAND, N.Z.</td>\n",
       "      <td>N.Z.</td>\n",
       "      <td>5.6</td>\n",
       "    </tr>\n",
       "    <tr>\n",
       "      <th>536238</th>\n",
       "      <td>TONGA</td>\n",
       "      <td>TONGA</td>\n",
       "      <td>5.6</td>\n",
       "    </tr>\n",
       "    <tr>\n",
       "      <th>535880</th>\n",
       "      <td>MARIANA ISLANDS REGION</td>\n",
       "      <td>MARIANA ISLANDS</td>\n",
       "      <td>5.5</td>\n",
       "    </tr>\n",
       "    <tr>\n",
       "      <th>534668</th>\n",
       "      <td>BOUGAINVILLE REGION, P.N.G.</td>\n",
       "      <td>P.N.G.</td>\n",
       "      <td>5.4</td>\n",
       "    </tr>\n",
       "    <tr>\n",
       "      <th>536572</th>\n",
       "      <td>FIJI REGION</td>\n",
       "      <td>FIJI</td>\n",
       "      <td>5.4</td>\n",
       "    </tr>\n",
       "    <tr>\n",
       "      <th>536853</th>\n",
       "      <td>SOUTHEAST OF EASTER ISLAND</td>\n",
       "      <td>EASTER ISLAND</td>\n",
       "      <td>5.4</td>\n",
       "    </tr>\n",
       "  </tbody>\n",
       "</table>\n",
       "</div>"
      ],
      "text/plain": [
       "                                 regija           drzava  magnituda\n",
       "id                                                                 \n",
       "537136       NEW BRITAIN REGION, P.N.G.           P.N.G.        6.3\n",
       "536567       NEW IRELAND REGION, P.N.G.           P.N.G.        5.8\n",
       "536094             HALMAHERA, INDONESIA        INDONESIA        5.8\n",
       "535332       CENTRAL MID-ATLANTIC RIDGE     MID-ATLANTIC        5.7\n",
       "535475                    TAIWAN REGION           TAIWAN        5.7\n",
       "535099      BONIN ISLANDS, JAPAN REGION            JAPAN        5.7\n",
       "534730               LUZON, PHILIPPINES      PHILIPPINES        5.7\n",
       "534730               LUZON, PHILIPPINES      PHILIPPINES        5.7\n",
       "535512        CENTRAL EAST PACIFIC RISE          PACIFIC        5.6\n",
       "535897  OFF E. COAST OF N. ISLAND, N.Z.             N.Z.        5.6\n",
       "536238                            TONGA            TONGA        5.6\n",
       "535880           MARIANA ISLANDS REGION  MARIANA ISLANDS        5.5\n",
       "534668      BOUGAINVILLE REGION, P.N.G.           P.N.G.        5.4\n",
       "536572                      FIJI REGION             FIJI        5.4\n",
       "536853       SOUTHEAST OF EASTER ISLAND    EASTER ISLAND        5.4"
      ]
     },
     "execution_count": 104,
     "metadata": {},
     "output_type": "execute_result"
    }
   ],
   "source": [
    "delno = podatki[['regija', 'drzava', 'magnituda']]\n",
    "delno.sort_values('magnituda', ascending=False)[:15]"
   ]
  },
  {
   "cell_type": "markdown",
   "metadata": {},
   "source": [
    "### Razna povprečja\n",
    "\n",
    "Sedaj si oglejmo še povprečne magnitude. Opazimo, da se pojavijo mnoge države iz zgornje tabele. Kako bi si to razložili?\n",
    "\n",
    "Na rezultate gotovo vpliva relativno majhno skupno število podatkov in izredno velik razpon v številu podatkov za posamezno državo. Zato teh povprečnih vrednosti ne smemo jemati preresno. Opozorila bi recimo na primer Pakistana. Očitno se je tam v opazovanem času zgodil le en potres (tabela stevilo_drzava zgoraj), ki pa je bil izredno močan (magnituda 5.3 v zgornji tabeli). S primerjavo tabel nad in pod tem besediom vidimo, da se je v mnogih državah zgodil le en močan potres, tako da težko govorimo o verodostojni povprečni vrednosti."
   ]
  },
  {
   "cell_type": "code",
   "execution_count": 105,
   "metadata": {
    "collapsed": false
   },
   "outputs": [
    {
     "data": {
      "text/plain": [
       "drzava\n",
       "PACIFIC              5.60\n",
       "EASTER ISLAND        5.35\n",
       "TAIWAN               5.25\n",
       "MID-ATLANTIC         5.25\n",
       "BLACK SEA            5.20\n",
       "TONGA                5.10\n",
       "P.N.G.               5.10\n",
       "SAMOA ISLANDS        5.00\n",
       "SANDWICH ISLANDS     5.00\n",
       "BOUVET ISLAND        5.00\n",
       "PACIFIC-ANTARCTIC    5.00\n",
       "BALLENY ISLANDS      5.00\n",
       "KERMADEC ISLANDS     5.00\n",
       "MARIANA ISLANDS      5.00\n",
       "LACCADIVE SEA        4.90\n",
       "Name: magnituda, dtype: float64"
      ]
     },
     "execution_count": 105,
     "metadata": {},
     "output_type": "execute_result"
    }
   ],
   "source": [
    "drzave = podatki.groupby('drzava')\n",
    "\n",
    "drzave['magnituda'].mean().sort_values(ascending=False).round(2)[:15]"
   ]
  },
  {
   "cell_type": "markdown",
   "metadata": {},
   "source": [
    "Izkoristimo še stolpca 'DOL' in 'SIR', ki vsebujeta podatke o geografski širini in dolžini, in sicer samo vrednosti N, S, E, W za strani neba. Spodnji graf prikazuje, kolikšen delež zaznanih potresov se je zgodil na severni in južni polobli. Porazdelitev je presenetljiva, saj za tako nenavadno razmerje navidez ni vzroka. Dodala sem podatek o povprečni magnitudi za eno in drugo poloblo.\n",
    "\n",
    "Zakaj pa nas ti podatki vendale ne presenečajo tako zelo? EMSC (vir podatkov) je evropska mreža. Kot sem zapisala v uvodu, je večina opazovalnic v Evropi, kar pomeni, da z večjo natančnostjo zaznajo tudi manj močne potrese na tem območju (in podatke posredujejo EMSC). Drugače povedano - šibak potres npr. v Švici bo zabeležen, enako močan v Južnoafriški republiki pa ne, ker ga evropske opazovalnice ne bodo zaznale (predpostavimo, da recimo nobena bližnja opazovalnica ni vključena v mrežo). Drug faktor je porazdelitev kopnega - tudi če bi bile EMSC-jeve opazovalnice enakomerno razporejene po državah po svetu, je na južni polobli pač manj kopnega in posledično manj opazovalnic.\n",
    "\n",
    "Podatki o mediani in povprečni magnitudi potrjujejo zgoraj zapisano - tisti potresi z južne poloble, ki so jih zaznali, so bili močnejši, posledično sta prikazani vrednosti višji.\n",
    "\n",
    "Pri delitvi vzhod-zahod so razultati manj presenetljivi."
   ]
  },
  {
   "cell_type": "code",
   "execution_count": 14,
   "metadata": {
    "collapsed": false
   },
   "outputs": [
    {
     "data": {
      "text/plain": [
       "(SIR\n",
       " N    2.4\n",
       " S    3.7\n",
       " Name: magnituda, dtype: float64, SIR\n",
       " N    2.61\n",
       " S    3.71\n",
       " Name: magnituda, dtype: float64)"
      ]
     },
     "execution_count": 14,
     "metadata": {},
     "output_type": "execute_result"
    },
    {
     "data": {
      "image/png": "[encoded data removed]",
      "text/plain": [
       "<matplotlib.figure.Figure at 0x1088550>"
      ]
     },
     "metadata": {},
     "output_type": "display_data"
    }
   ],
   "source": [
    "sirina = podatki.groupby('SIR')\n",
    "sirina.size().plot(kind = 'pie', title = 'Razmerje med številom potresov na severni (N) in južni (S) polobli.')\n",
    "\n",
    "sirina['magnituda'].median(), sirina['magnituda'].mean().round(2)"
   ]
  },
  {
   "cell_type": "code",
   "execution_count": 15,
   "metadata": {
    "collapsed": false
   },
   "outputs": [
    {
     "data": {
      "text/plain": [
       "(DOL\n",
       " E    2.4\n",
       " W    2.5\n",
       " Name: magnituda, dtype: float64, DOL\n",
       " E    2.76\n",
       " W    2.80\n",
       " Name: magnituda, dtype: float64)"
      ]
     },
     "execution_count": 15,
     "metadata": {},
     "output_type": "execute_result"
    },
    {
     "data": {
      "image/png": "[encoded data removed]",
      "text/plain": [
       "<matplotlib.figure.Figure at 0x1077cb0>"
      ]
     },
     "metadata": {},
     "output_type": "display_data"
    }
   ],
   "source": [
    "dolzina = podatki.groupby('DOL')\n",
    "dolzina.size().plot(kind = 'pie', title = 'Razmerje med številom potresov na vzhodni (E) in zahodni (W) polobli.')\n",
    "\n",
    "dolzina['magnituda'].median(), dolzina['magnituda'].mean().round(2)"
   ]
  },
  {
   "cell_type": "markdown",
   "metadata": {},
   "source": [
    "Glede na to, da smo že opazili, da zaradi držav s premalo potresi včasih dobimo nekoliko zavajajoče rezultate, si morda oglejmo še, kako \"razgibana\" je neka država. Merilo bo zelo preprosto - od potresa z največjo magnitudo odštejemo tistega z najmanjšo. S tem podatkom dobimo neko dodatno informacijo o posameznem območju.\n",
    "\n",
    "Če se spomnimo grafa, ki je prikazoval število potresov v posamezni državi, nas visoka uvrstitev Grčije, Čila in Turčije ne preseneča, saj so bile te države vodilne tudi po številu potresov. Kot zanimivost pa si poglejmo še podatke o številu potresov v Norveškem morju in na Hrvaškem."
   ]
  },
  {
   "cell_type": "code",
   "execution_count": 116,
   "metadata": {
    "collapsed": false
   },
   "outputs": [
    {
     "data": {
      "text/plain": [
       "drzava\n",
       "GREECE              3.4\n",
       "ALASKA              3.3\n",
       "CALIFORNIA          3.3\n",
       "CHILE               2.8\n",
       "TURKEY              2.7\n",
       "ALEUTIAN ISLANDS    2.7\n",
       "NORWEGIAN SEA       2.6\n",
       "CROATIA             2.6\n",
       "ALEUTIAN IS.        2.6\n",
       "MEXICO              2.5\n",
       "Name: magnituda, dtype: float64"
      ]
     },
     "execution_count": 116,
     "metadata": {},
     "output_type": "execute_result"
    }
   ],
   "source": [
    "razgibanost = drzave['magnituda'].max() - drzave['magnituda'].min()\n",
    "razgibanost.sort_values(ascending=False).head(10)"
   ]
  },
  {
   "cell_type": "code",
   "execution_count": 17,
   "metadata": {
    "collapsed": false
   },
   "outputs": [
    {
     "data": {
      "text/plain": [
       "(2, 3)"
      ]
     },
     "execution_count": 17,
     "metadata": {},
     "output_type": "execute_result"
    }
   ],
   "source": [
    "stevilo_drzava['NORWEGIAN SEA'], stevilo_drzava['CROATIA']"
   ]
  },
  {
   "cell_type": "markdown",
   "metadata": {},
   "source": [
    "### Spremenimo zapis koordinat tako, da bomo z njimi lahko kaj počeli\n",
    "\n",
    "Sedaj podatkom dodajmo dva nova stolpca, ki bosta uporabna za raziskovanje, kje (po koordinatah) so se dogajali potresi. Težava z obstoječimi podatki je bila, da iz stolpcev 'sirina' in 'dolzina' ni bilo razvino, kje natanko se je potres zgodil (npr. Egipt in Južna Afrika imata približno enako zemljepisno širino, Portugalska in Korzika pa dolžino), kar onemogoča analizo. Krajem, ki so južno od ekvatorja ali zahodno od Greenwicha, pred vrednost zapišemo minus v skladu s standardnim označevanjem v geografiji. Ker bomo delali s povprečnimi vrednostmi, podatke sproti še zaokrožimo na število, deljivo s 5.\n",
    "\n",
    "Spodaj je prikazanih nekaj vrstic, kjer lahko primerjamo stara stoplca z novima."
   ]
  },
  {
   "cell_type": "code",
   "execution_count": 54,
   "metadata": {
    "collapsed": false
   },
   "outputs": [],
   "source": [
    "def predznak(x):\n",
    "    if x == 'W' or x == 'S':\n",
    "        return (-1)\n",
    "    else:\n",
    "        return 1"
   ]
  },
  {
   "cell_type": "code",
   "execution_count": 70,
   "metadata": {
    "collapsed": false
   },
   "outputs": [
    {
     "data": {
      "text/html": [
       "<div>\n",
       "<table border=\"1\" class=\"dataframe\">\n",
       "  <thead>\n",
       "    <tr style=\"text-align: right;\">\n",
       "      <th></th>\n",
       "      <th>DOL</th>\n",
       "      <th>dolzina</th>\n",
       "      <th>SIR</th>\n",
       "      <th>sirina</th>\n",
       "      <th>magnituda</th>\n",
       "      <th>drzava</th>\n",
       "      <th>dolzina_prava</th>\n",
       "      <th>sirina_prava</th>\n",
       "    </tr>\n",
       "    <tr>\n",
       "      <th>id</th>\n",
       "      <th></th>\n",
       "      <th></th>\n",
       "      <th></th>\n",
       "      <th></th>\n",
       "      <th></th>\n",
       "      <th></th>\n",
       "      <th></th>\n",
       "      <th></th>\n",
       "    </tr>\n",
       "  </thead>\n",
       "  <tbody>\n",
       "    <tr>\n",
       "      <th>537855</th>\n",
       "      <td>E</td>\n",
       "      <td>167.20</td>\n",
       "      <td>S</td>\n",
       "      <td>12.31</td>\n",
       "      <td>4.6</td>\n",
       "      <td>SANTA CRUZ ISLANDS</td>\n",
       "      <td>165.0</td>\n",
       "      <td>-10.0</td>\n",
       "    </tr>\n",
       "    <tr>\n",
       "      <th>537543</th>\n",
       "      <td>E</td>\n",
       "      <td>71.28</td>\n",
       "      <td>N</td>\n",
       "      <td>37.00</td>\n",
       "      <td>4.3</td>\n",
       "      <td>AFGHANISTAN</td>\n",
       "      <td>70.0</td>\n",
       "      <td>35.0</td>\n",
       "    </tr>\n",
       "    <tr>\n",
       "      <th>537461</th>\n",
       "      <td>E</td>\n",
       "      <td>30.05</td>\n",
       "      <td>N</td>\n",
       "      <td>38.97</td>\n",
       "      <td>3.0</td>\n",
       "      <td>TURKEY</td>\n",
       "      <td>30.0</td>\n",
       "      <td>40.0</td>\n",
       "    </tr>\n",
       "    <tr>\n",
       "      <th>537472</th>\n",
       "      <td>W</td>\n",
       "      <td>68.73</td>\n",
       "      <td>S</td>\n",
       "      <td>22.13</td>\n",
       "      <td>2.6</td>\n",
       "      <td>CHILE</td>\n",
       "      <td>-70.0</td>\n",
       "      <td>-20.0</td>\n",
       "    </tr>\n",
       "  </tbody>\n",
       "</table>\n",
       "</div>"
      ],
      "text/plain": [
       "       DOL  dolzina SIR  sirina  magnituda              drzava  dolzina_prava  \\\n",
       "id                                                                              \n",
       "537855   E   167.20   S   12.31        4.6  SANTA CRUZ ISLANDS          165.0   \n",
       "537543   E    71.28   N   37.00        4.3         AFGHANISTAN           70.0   \n",
       "537461   E    30.05   N   38.97        3.0              TURKEY           30.0   \n",
       "537472   W    68.73   S   22.13        2.6               CHILE          -70.0   \n",
       "\n",
       "        sirina_prava  \n",
       "id                    \n",
       "537855         -10.0  \n",
       "537543          35.0  \n",
       "537461          40.0  \n",
       "537472         -20.0  "
      ]
     },
     "execution_count": 70,
     "metadata": {},
     "output_type": "execute_result"
    }
   ],
   "source": [
    "podatki['dolzina_prava'] = podatki['DOL'].map(predznak) * podatki['dolzina']\n",
    "podatki['dolzina_prava'] = round(podatki['dolzina_prava']*2, -1) / 2     # Zaokrožimo.\n",
    "\n",
    "podatki['sirina_prava'] = podatki['SIR'].map(predznak) * podatki['sirina']\n",
    "podatki['sirina_prava'] = round(podatki['sirina_prava']*2, -1) / 2       # Zaokrožimo.\n",
    "\n",
    "\n",
    "podatki[['DOL', 'dolzina', 'SIR', 'sirina', 'magnituda', 'drzava', 'dolzina_prava', 'sirina_prava']][32:36]"
   ]
  },
  {
   "cell_type": "code",
   "execution_count": 119,
   "metadata": {
    "collapsed": false
   },
   "outputs": [
    {
     "data": {
      "text/plain": [
       "<matplotlib.axes._subplots.AxesSubplot at 0x8a823f0>"
      ]
     },
     "execution_count": 119,
     "metadata": {},
     "output_type": "execute_result"
    },
    {
     "data": {
      "image/png": "[encoded data removed]",
      "text/plain": [
       "<matplotlib.figure.Figure at 0x81ccfd0>"
      ]
     },
     "metadata": {},
     "output_type": "display_data"
    }
   ],
   "source": [
    "dolzina = podatki.groupby('dolzina_prava')\n",
    "dolzina.size().plot(kind='line')"
   ]
  },
  {
   "cell_type": "code",
   "execution_count": 142,
   "metadata": {
    "collapsed": false
   },
   "outputs": [
    {
     "data": {
      "text/plain": [
       "<matplotlib.axes._subplots.AxesSubplot at 0x8d3bab0>"
      ]
     },
     "execution_count": 142,
     "metadata": {},
     "output_type": "execute_result"
    },
    {
     "data": {
      "image/png": "[encoded data removed]",
      "text/plain": [
       "<matplotlib.figure.Figure at 0x9459270>"
      ]
     },
     "metadata": {},
     "output_type": "display_data"
    }
   ],
   "source": [
    "sirina = podatki.groupby('sirina_prava')\n",
    "#test['stevilo'] = pd.DataFrame(sirina.size())\n",
    "#test['ena'] = ''\n",
    "#test.plot(x = 'stevilo', y = index_col)\n",
    "#recepti.plot(x = 'Datum objave', y = 'Št. mnenj', title = 'Graf mnenj glede na datum objave recepta')\n",
    "sirina.size().plot()"
   ]
  },
  {
   "cell_type": "code",
   "execution_count": 20,
   "metadata": {
    "collapsed": false
   },
   "outputs": [],
   "source": [
    "from datetime import date\n",
    "def teden(l, m, d):\n",
    "    dnevi = ['Ponedeljek', 'Torek', 'Sreda', 'Cetrtek', 'Petek', 'Sobota', 'Nedelja']\n",
    "    i = date(l, m, d).weekday()\n",
    "    return dnevi[i]"
   ]
  },
  {
   "cell_type": "code",
   "execution_count": 23,
   "metadata": {
    "collapsed": false
   },
   "outputs": [
    {
     "data": {
      "text/plain": [
       "'Torek'"
      ]
     },
     "execution_count": 23,
     "metadata": {},
     "output_type": "execute_result"
    }
   ],
   "source": [
    "teden(2017, 1, 17)\n",
    "#podatki['teden'] = teden(podatki['leto'], podatki['mesec'], podatki['dan'])\n",
    "#podatki[:3]"
   ]
  },
  {
   "cell_type": "markdown",
   "metadata": {},
   "source": [
    "## Kdaj so se zgodili potresi?\n",
    "\n",
    "Osnovna hipoteza je, da so potresi bolj ali manj časovno neodvisni pojavi, zato povsod pričakujemo enakomerne porazdelitve - tako glede na dan v tednu kot na primer glede na uro v dnevu.\n",
    "\n",
    "Za začetek narišimo graf števila zaznanih potresov za vsak dan, ob tem si oglejmo še mediane vrednosti magnitud. Kot smo pričakovali, velikih odstopanj ni. Jasno je, da bi lepše (torej enakomernejše) grafe dobili z večjim številom zajetih podatkov."
   ]
  },
  {
   "cell_type": "code",
   "execution_count": 95,
   "metadata": {
    "collapsed": false
   },
   "outputs": [
    {
     "data": {
      "text/plain": [
       "(133.0, dan\n",
       " 1     3.08\n",
       " 2     2.76\n",
       " 3     2.79\n",
       " 4     2.85\n",
       " 5     2.98\n",
       " 6     2.73\n",
       " 7     2.84\n",
       " 8     2.79\n",
       " 9     2.72\n",
       " 10    2.68\n",
       " 11    2.55\n",
       " 12    2.78\n",
       " 13    2.67\n",
       " 14    2.80\n",
       " 15    2.85\n",
       " Name: magnituda, dtype: float64)"
      ]
     },
     "execution_count": 95,
     "metadata": {},
     "output_type": "execute_result"
    },
    {
     "data": {
      "image/png": "[encoded data removed]",
      "text/plain": [
       "<matplotlib.figure.Figure at 0x81d3910>"
      ]
     },
     "metadata": {},
     "output_type": "display_data"
    }
   ],
   "source": [
    "po_dnevu = podatki.groupby('dan')\n",
    "po_dnevu.size().plot(kind='bar')\n",
    "po_dnevu.size().mean().round(), po_dnevu['magnituda'].mean().round(2)"
   ]
  },
  {
   "cell_type": "code",
   "execution_count": null,
   "metadata": {
    "collapsed": false
   },
   "outputs": [],
   "source": []
  },
  {
   "cell_type": "markdown",
   "metadata": {},
   "source": [
    "Opazimo razliko med [18] in [19], hipoteza morje - kopno..."
   ]
  },
  {
   "cell_type": "code",
   "execution_count": null,
   "metadata": {
    "collapsed": false
   },
   "outputs": [],
   "source": [
    "dolzina = podatki.groupby('DOL')\n",
    "dolzina.size().plot(kind='pie')"
   ]
  },
  {
   "cell_type": "code",
   "execution_count": null,
   "metadata": {
    "collapsed": false
   },
   "outputs": [],
   "source": [
    "sirina = podatki.groupby('SIR')\n",
    "#sirina['magnituda'].mean()\n",
    "sirina.size().plot(kind = 'pie')"
   ]
  },
  {
   "cell_type": "markdown",
   "metadata": {},
   "source": [
    "zanimivo. opazovalnice, Afrika, morje...?"
   ]
  },
  {
   "cell_type": "code",
   "execution_count": 73,
   "metadata": {
    "collapsed": false
   },
   "outputs": [
    {
     "data": {
      "text/plain": [
       "<matplotlib.axes._subplots.AxesSubplot at 0x81217d0>"
      ]
     },
     "execution_count": 73,
     "metadata": {},
     "output_type": "execute_result"
    },
    {
     "data": {
      "image/png": "[encoded data removed]",
      "text/plain": [
       "<matplotlib.figure.Figure at 0x81545f0>"
      ]
     },
     "metadata": {},
     "output_type": "display_data"
    }
   ],
   "source": [
    "globina = podatki.groupby('globina')\n",
    "globina.size().plot()"
   ]
  },
  {
   "cell_type": "code",
   "execution_count": null,
   "metadata": {
    "collapsed": false
   },
   "outputs": [],
   "source": [
    "#podatki.groupby('globina')['magnituda'].mean().plot()\n",
    "podatki.groupby('globina')['magnituda'].value_counts().plot()\n",
    "#podatki.groupby('globina')['magnituda'].size().plot()"
   ]
  },
  {
   "cell_type": "code",
   "execution_count": 74,
   "metadata": {
    "collapsed": false
   },
   "outputs": [
    {
     "data": {
      "text/plain": [
       "<matplotlib.axes._subplots.AxesSubplot at 0x802e830>"
      ]
     },
     "execution_count": 74,
     "metadata": {},
     "output_type": "execute_result"
    },
    {
     "data": {
      "image/png": "[encoded data removed]",
      "text/plain": [
       "<matplotlib.figure.Figure at 0x8143cd0>"
      ]
     },
     "metadata": {},
     "output_type": "display_data"
    }
   ],
   "source": [
    "podatki.groupby('magnituda')['globina'].sum().plot()"
   ]
  },
  {
   "cell_type": "code",
   "execution_count": 75,
   "metadata": {
    "collapsed": false
   },
   "outputs": [
    {
     "data": {
      "text/plain": [
       "<matplotlib.axes._subplots.AxesSubplot at 0x8134bb0>"
      ]
     },
     "execution_count": 75,
     "metadata": {},
     "output_type": "execute_result"
    },
    {
     "data": {
      "image/png": "[encoded data removed]",
      "text/plain": [
       "<matplotlib.figure.Figure at 0x7effbd0>"
      ]
     },
     "metadata": {},
     "output_type": "display_data"
    }
   ],
   "source": [
    "podatki.groupby('magnituda')['globina'].mean().plot()"
   ]
  },
  {
   "cell_type": "code",
   "execution_count": null,
   "metadata": {
    "collapsed": true
   },
   "outputs": [],
   "source": []
  },
  {
   "cell_type": "code",
   "execution_count": null,
   "metadata": {
    "collapsed": true
   },
   "outputs": [],
   "source": []
  },
  {
   "cell_type": "code",
   "execution_count": null,
   "metadata": {
    "collapsed": true
   },
   "outputs": [],
   "source": []
  },
  {
   "cell_type": "code",
   "execution_count": null,
   "metadata": {
    "collapsed": true
   },
   "outputs": [],
   "source": []
  },
  {
   "cell_type": "code",
   "execution_count": null,
   "metadata": {
    "collapsed": false
   },
   "outputs": [],
   "source": []
  }
 ],
 "metadata": {
  "kernelspec": {
   "display_name": "Python 3",
   "language": "python",
   "name": "python3"
  },
  "language_info": {
   "codemirror_mode": {
    "name": "ipython",
    "version": 3
   },
   "file_extension": ".py",
   "mimetype": "text/x-python",
   "name": "python",
   "nbconvert_exporter": "python",
   "pygments_lexer": "ipython3",
   "version": "3.5.1"
  }
 },
 "nbformat": 4,
 "nbformat_minor": 2
}
