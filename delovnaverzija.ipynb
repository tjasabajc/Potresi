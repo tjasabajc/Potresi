{
 "cells": [
  {
   "cell_type": "markdown",
   "metadata": {},
   "source": [
    "# Potresi\n",
    "\n",
    "V projektni nalogi bom analizirala podatke o potresih od [tukaj](http://www.emsc-csem.org/) (European-Mediterranean Seismological Centre). Odločila sem se za potrese, ki so se zgodili v prvih dveh tednih oktobra (torej do 15. oktobra), ker da ta časovni okvir ravno pravšnje število podatkov - nekaj več kot 1300 potresov.\n",
    "\n",
    "Na navedeni strani najdete podatke o zadnjih potresih po svetu (podatke sicer pridobivajo avtomatsko od približno 70 opazovalnic, ki so večinoma v Evropi, zaznajo pa seveda potrese z vsega sveta) - na primer čas potresa, lokacijo (v koordinatah in opisno), globino in magnitudo. Kdorkoli lahko prispeva komentar oziroma fotografijo, če je potres začutil ali opazil posledice (recimo razpoke na hiši). Za posamezen potres, ki je pritegnil vašo pozornost, lahko pridobite ogromno podatkov, ki pa jih na tem mestu ne bomo obravnavali, ker za analizo niso posebej zanimivi.\n",
    "\n",
    "#### Opomba\n",
    "\n",
    "Če vas potresi zelo zanimajo, si oglejte tudi [to projektno nalogo](https://github.com/TinaKrasovec/Potresi-po-Evropi-zadnjih-nekaj-let-z-magnitudo-4). Podobnost je naključna, poskusili pa sva delati tako, da se analiza ne prekriva preveč. Pri delu nisva sodelovali.\n",
    "\n",
    "## Uvod\n",
    "Naložimo csv datoteko in si oglejmo nekaj vrstic za občutek."
   ]
  },
  {
   "cell_type": "code",
   "execution_count": 1,
   "metadata": {
    "collapsed": true
   },
   "outputs": [],
   "source": [
    "import pandas as pd\n",
    "pd.options.display.max_rows = 15\n",
    "\n",
    "\n",
    "%matplotlib inline"
   ]
  },
  {
   "cell_type": "code",
   "execution_count": 2,
   "metadata": {
    "collapsed": false
   },
   "outputs": [
    {
     "data": {
      "text/html": [
       "<div>\n",
       "<table border=\"1\" class=\"dataframe\">\n",
       "  <thead>\n",
       "    <tr style=\"text-align: right;\">\n",
       "      <th></th>\n",
       "      <th>leto</th>\n",
       "      <th>mesec</th>\n",
       "      <th>dan</th>\n",
       "      <th>ura</th>\n",
       "      <th>minuta</th>\n",
       "      <th>sekunda</th>\n",
       "      <th>DOL</th>\n",
       "      <th>dolzina</th>\n",
       "      <th>SIR</th>\n",
       "      <th>sirina</th>\n",
       "      <th>globina</th>\n",
       "      <th>magnituda</th>\n",
       "      <th>regija</th>\n",
       "    </tr>\n",
       "    <tr>\n",
       "      <th>id</th>\n",
       "      <th></th>\n",
       "      <th></th>\n",
       "      <th></th>\n",
       "      <th></th>\n",
       "      <th></th>\n",
       "      <th></th>\n",
       "      <th></th>\n",
       "      <th></th>\n",
       "      <th></th>\n",
       "      <th></th>\n",
       "      <th></th>\n",
       "      <th></th>\n",
       "      <th></th>\n",
       "    </tr>\n",
       "  </thead>\n",
       "  <tbody>\n",
       "    <tr>\n",
       "      <th>537411</th>\n",
       "      <td>2016</td>\n",
       "      <td>10</td>\n",
       "      <td>15</td>\n",
       "      <td>23</td>\n",
       "      <td>40</td>\n",
       "      <td>55.1</td>\n",
       "      <td>E</td>\n",
       "      <td>34.31</td>\n",
       "      <td>N</td>\n",
       "      <td>38.13</td>\n",
       "      <td>4</td>\n",
       "      <td>2.7</td>\n",
       "      <td>CENTRAL TURKEY</td>\n",
       "    </tr>\n",
       "    <tr>\n",
       "      <th>537458</th>\n",
       "      <td>2016</td>\n",
       "      <td>10</td>\n",
       "      <td>15</td>\n",
       "      <td>23</td>\n",
       "      <td>17</td>\n",
       "      <td>42.6</td>\n",
       "      <td>E</td>\n",
       "      <td>27.72</td>\n",
       "      <td>N</td>\n",
       "      <td>38.93</td>\n",
       "      <td>6</td>\n",
       "      <td>2.6</td>\n",
       "      <td>WESTERN TURKEY</td>\n",
       "    </tr>\n",
       "    <tr>\n",
       "      <th>537380</th>\n",
       "      <td>2016</td>\n",
       "      <td>10</td>\n",
       "      <td>15</td>\n",
       "      <td>23</td>\n",
       "      <td>6</td>\n",
       "      <td>59.1</td>\n",
       "      <td>E</td>\n",
       "      <td>20.69</td>\n",
       "      <td>N</td>\n",
       "      <td>39.76</td>\n",
       "      <td>15</td>\n",
       "      <td>4.3</td>\n",
       "      <td>GREECE</td>\n",
       "    </tr>\n",
       "    <tr>\n",
       "      <th>537552</th>\n",
       "      <td>2016</td>\n",
       "      <td>10</td>\n",
       "      <td>15</td>\n",
       "      <td>22</td>\n",
       "      <td>43</td>\n",
       "      <td>13.2</td>\n",
       "      <td>E</td>\n",
       "      <td>38.94</td>\n",
       "      <td>N</td>\n",
       "      <td>19.21</td>\n",
       "      <td>8</td>\n",
       "      <td>3.6</td>\n",
       "      <td>WESTERN TURKEY</td>\n",
       "    </tr>\n",
       "    <tr>\n",
       "      <th>537310</th>\n",
       "      <td>2016</td>\n",
       "      <td>10</td>\n",
       "      <td>15</td>\n",
       "      <td>22</td>\n",
       "      <td>30</td>\n",
       "      <td>26.1</td>\n",
       "      <td>E</td>\n",
       "      <td>71.70</td>\n",
       "      <td>N</td>\n",
       "      <td>41.26</td>\n",
       "      <td>15</td>\n",
       "      <td>3.7</td>\n",
       "      <td>EASTERN UZBEKISTAN</td>\n",
       "    </tr>\n",
       "    <tr>\n",
       "      <th>537551</th>\n",
       "      <td>2016</td>\n",
       "      <td>10</td>\n",
       "      <td>15</td>\n",
       "      <td>22</td>\n",
       "      <td>27</td>\n",
       "      <td>50.9</td>\n",
       "      <td>E</td>\n",
       "      <td>38.94</td>\n",
       "      <td>N</td>\n",
       "      <td>19.29</td>\n",
       "      <td>8</td>\n",
       "      <td>3.6</td>\n",
       "      <td>WESTERN TURKEY</td>\n",
       "    </tr>\n",
       "    <tr>\n",
       "      <th>537553</th>\n",
       "      <td>2016</td>\n",
       "      <td>10</td>\n",
       "      <td>15</td>\n",
       "      <td>22</td>\n",
       "      <td>19</td>\n",
       "      <td>42.0</td>\n",
       "      <td>E</td>\n",
       "      <td>39.75</td>\n",
       "      <td>N</td>\n",
       "      <td>59.75</td>\n",
       "      <td>12</td>\n",
       "      <td>2.6</td>\n",
       "      <td>GREECE</td>\n",
       "    </tr>\n",
       "  </tbody>\n",
       "</table>\n",
       "</div>"
      ],
      "text/plain": [
       "        leto  mesec  dan  ura  minuta  sekunda DOL  dolzina SIR  sirina  \\\n",
       "id                                                                        \n",
       "537411  2016     10   15   23      40     55.1   E    34.31   N   38.13   \n",
       "537458  2016     10   15   23      17     42.6   E    27.72   N   38.93   \n",
       "537380  2016     10   15   23       6     59.1   E    20.69   N   39.76   \n",
       "537552  2016     10   15   22      43     13.2   E    38.94   N   19.21   \n",
       "537310  2016     10   15   22      30     26.1   E    71.70   N   41.26   \n",
       "537551  2016     10   15   22      27     50.9   E    38.94   N   19.29   \n",
       "537553  2016     10   15   22      19     42.0   E    39.75   N   59.75   \n",
       "\n",
       "        globina  magnituda              regija  \n",
       "id                                              \n",
       "537411        4        2.7      CENTRAL TURKEY  \n",
       "537458        6        2.6      WESTERN TURKEY  \n",
       "537380       15        4.3              GREECE  \n",
       "537552        8        3.6      WESTERN TURKEY  \n",
       "537310       15        3.7  EASTERN UZBEKISTAN  \n",
       "537551        8        3.6      WESTERN TURKEY  \n",
       "537553       12        2.6              GREECE  "
      ]
     },
     "execution_count": 2,
     "metadata": {},
     "output_type": "execute_result"
    }
   ],
   "source": [
    "podatki = pd.read_csv('potresi_koncni.csv', index_col = 'id')\n",
    "podatki[:7]"
   ]
  },
  {
   "cell_type": "markdown",
   "metadata": {},
   "source": [
    "## Kje so se zgodili potresi?\n",
    "\n",
    "Večkrat smo že slišali, da živimo na potresno zelo živahnem območju. Izkaže pa se, da se v smislu potresov v začetku oktobra v Sloveniji ni veliko zgodilo. Opazovalnice so zabeležile en sam potres na našem območju, zato se najbrž spodobi, da ga izpišemo."
   ]
  },
  {
   "cell_type": "code",
   "execution_count": null,
   "metadata": {
    "collapsed": false
   },
   "outputs": [],
   "source": [
    "podatki[podatki.regija == 'SLOVENIA']"
   ]
  },
  {
   "cell_type": "code",
   "execution_count": null,
   "metadata": {
    "collapsed": false
   },
   "outputs": [],
   "source": [
    "podatki.loc[536262]"
   ]
  },
  {
   "cell_type": "markdown",
   "metadata": {},
   "source": [
    "Kako zanimivo! Potres se je zgodil v ponedeljek, 10. oktobra ob 11:43, ko so potekale vaje za programiranje.\n",
    "\n",
    "V katerih državah pa se je zgodilo največ potresov?"
   ]
  },
  {
   "cell_type": "code",
   "execution_count": null,
   "metadata": {
    "collapsed": false
   },
   "outputs": [],
   "source": [
    "stevilo_regije = podatki['regija'].value_counts()\n",
    "stevilo_regije"
   ]
  },
  {
   "cell_type": "markdown",
   "metadata": {},
   "source": [
    "Turčija je očitno potresno zelo zanimiva država, saj med prvimi petimi regijami nastopi kar trikrat s skupno več kot 350 potresi. Presenetljivo torej že zelo površen pregled pokaže, da se je približno vsak četrti potres zgodil v Turčiji.\n",
    "\n",
    "Opazimo pa tudi težavo. Sklepali bi, da so potresno aktivna območja deljena v manjše regije (kot zgoraj Turčija in recimo Čile) zato, da tisti, ki se s tem ukvarjajo, že na prvi pogled bolj natančno vedo, kje je bil potres. Recimo pa, da nas ne zanima, v katerem delu države se je potres zgodil, ampak samo država, ker bodo v tem primeru podatki preglednejši.\n",
    "\n",
    "### Funkcija, ki regijo spremeni v državo\n",
    "\n",
    "Spodnja funkcija iz regije približno naredi državo (tabeli dodamo stolpec \"drzava\"). Zakaj samo približno? Ime regije je zapisano v več oblikah in manjšinski del teh opisov funkcija ohrani, čeprav niso idealni. Spodaj je za vsako obliko napisano, kaj funkcija pretvori_v_drzavo z njo naredi:\n",
    "\n",
    "- imenovanje regije s stranmi neba (zahodna, osrednja ...): V tem primeru ohranimo samo ime države\n",
    "- zapis oblike 'mesto/pokrajina, država': V tem primeru zbrišemo vse pred vejico\n",
    "- širše območje neke države (predpostavljam, da gre za otočja), npr 'FIJI REGION': ohranimo samo ime države\n",
    "- zaradi neznanega razloga je Kalifornija včasih imenovana 'CALIF.' (pri drugih državah tega nisem opazila): Spremenimo v 'CALIFORNIA'\n",
    "- območje na morju ('OFFSHORE ...' ali 'NEAR THE COAST OF ...'): Izbrišemo opis območja\n",
    "\n",
    "En opis, ki ga nisem popravljala, je recimo mejno območje med dvema državama (kot recimo 'CHINA-LAOS BORDER REG'). Dobiti stoplec, ki bi vseboval izključno samo države, pa je iz teh podatkov skoraj nemogoče. Ena izmed regij, kot vidimo zgoraj, so npr. Pireneji, gorovje med Španijo in Francijo. Tega ne moremo popraviti z nobeno funkcijo."
   ]
  },
  {
   "cell_type": "code",
   "execution_count": 52,
   "metadata": {
    "collapsed": false
   },
   "outputs": [],
   "source": [
    "def pretvori_v_drzavo(reg):\n",
    "    odvec = {'WESTERN' : 8, 'EASTERN' : 8, 'CENTRAL' : 8, 'SOUTHERN' : 9, 'NORTHERN' : 9, 'OFFSHORE' : 9, \n",
    "             'NEAR' : 5, 'REGION' : -7, 'PENINSULA' : -10, 'GULF' : 8, 'SOUTH' : 6, 'WEST' : 5, \n",
    "             'EAST' : 5, 'NORTH' : 6, 'THE' : 4, 'COAST' : 6, 'OF' : 3, 'OFF' : 4, 'SOUTHEAST' : 10,\n",
    "             'SOUTHWEST' : 10, 'NORTHEAST' : 10, 'NORTHWEST' : 10}\n",
    "    \n",
    "    if ' ' in reg:\n",
    "        zacetek = reg[:reg.index(' ')]           # Izrežemo prvo besedo (od začetka do prvega presledka).\n",
    "        konec = reg[-(reg[::-1].index(' ')):]    # Izrežemo zadnjo besedo (od konca do zadnjega presledka).\n",
    "    elif reg == 'CALIF.':\n",
    "        return 'CALIFORNIA'\n",
    "    else:\n",
    "        return reg\n",
    "    \n",
    "    if ',' in reg:\n",
    "        vejica = reg.index(',')\n",
    "        nova_regija = reg[vejica + 2:]\n",
    "        return pretvori_v_drzavo(nova_regija)\n",
    "    elif zacetek in odvec:\n",
    "        nova_regija = reg[odvec[zacetek]:]\n",
    "        return pretvori_v_drzavo(nova_regija)\n",
    "    elif konec in odvec:\n",
    "        nova_regija = reg[:odvec[konec]]\n",
    "        return pretvori_v_drzavo(nova_regija)\n",
    "    else:\n",
    "        return reg"
   ]
  },
  {
   "cell_type": "code",
   "execution_count": 53,
   "metadata": {
    "collapsed": false
   },
   "outputs": [
    {
     "data": {
      "text/html": [
       "<div>\n",
       "<table border=\"1\" class=\"dataframe\">\n",
       "  <thead>\n",
       "    <tr style=\"text-align: right;\">\n",
       "      <th></th>\n",
       "      <th>leto</th>\n",
       "      <th>mesec</th>\n",
       "      <th>dan</th>\n",
       "      <th>ura</th>\n",
       "      <th>minuta</th>\n",
       "      <th>sekunda</th>\n",
       "      <th>DOL</th>\n",
       "      <th>dolzina</th>\n",
       "      <th>SIR</th>\n",
       "      <th>sirina</th>\n",
       "      <th>globina</th>\n",
       "      <th>magnituda</th>\n",
       "      <th>regija</th>\n",
       "      <th>drzava</th>\n",
       "      <th>dolzina_prava</th>\n",
       "      <th>sirina_prava</th>\n",
       "    </tr>\n",
       "    <tr>\n",
       "      <th>id</th>\n",
       "      <th></th>\n",
       "      <th></th>\n",
       "      <th></th>\n",
       "      <th></th>\n",
       "      <th></th>\n",
       "      <th></th>\n",
       "      <th></th>\n",
       "      <th></th>\n",
       "      <th></th>\n",
       "      <th></th>\n",
       "      <th></th>\n",
       "      <th></th>\n",
       "      <th></th>\n",
       "      <th></th>\n",
       "      <th></th>\n",
       "      <th></th>\n",
       "    </tr>\n",
       "  </thead>\n",
       "  <tbody>\n",
       "    <tr>\n",
       "      <th>537411</th>\n",
       "      <td>2016</td>\n",
       "      <td>10</td>\n",
       "      <td>15</td>\n",
       "      <td>23</td>\n",
       "      <td>40</td>\n",
       "      <td>55.1</td>\n",
       "      <td>E</td>\n",
       "      <td>34.31</td>\n",
       "      <td>N</td>\n",
       "      <td>38.13</td>\n",
       "      <td>4</td>\n",
       "      <td>2.7</td>\n",
       "      <td>CENTRAL TURKEY</td>\n",
       "      <td>TURKEY</td>\n",
       "      <td>35.0</td>\n",
       "      <td>40.0</td>\n",
       "    </tr>\n",
       "    <tr>\n",
       "      <th>537458</th>\n",
       "      <td>2016</td>\n",
       "      <td>10</td>\n",
       "      <td>15</td>\n",
       "      <td>23</td>\n",
       "      <td>17</td>\n",
       "      <td>42.6</td>\n",
       "      <td>E</td>\n",
       "      <td>27.72</td>\n",
       "      <td>N</td>\n",
       "      <td>38.93</td>\n",
       "      <td>6</td>\n",
       "      <td>2.6</td>\n",
       "      <td>WESTERN TURKEY</td>\n",
       "      <td>TURKEY</td>\n",
       "      <td>30.0</td>\n",
       "      <td>40.0</td>\n",
       "    </tr>\n",
       "    <tr>\n",
       "      <th>537380</th>\n",
       "      <td>2016</td>\n",
       "      <td>10</td>\n",
       "      <td>15</td>\n",
       "      <td>23</td>\n",
       "      <td>6</td>\n",
       "      <td>59.1</td>\n",
       "      <td>E</td>\n",
       "      <td>20.69</td>\n",
       "      <td>N</td>\n",
       "      <td>39.76</td>\n",
       "      <td>15</td>\n",
       "      <td>4.3</td>\n",
       "      <td>GREECE</td>\n",
       "      <td>GREECE</td>\n",
       "      <td>20.0</td>\n",
       "      <td>40.0</td>\n",
       "    </tr>\n",
       "    <tr>\n",
       "      <th>537552</th>\n",
       "      <td>2016</td>\n",
       "      <td>10</td>\n",
       "      <td>15</td>\n",
       "      <td>22</td>\n",
       "      <td>43</td>\n",
       "      <td>13.2</td>\n",
       "      <td>E</td>\n",
       "      <td>38.94</td>\n",
       "      <td>N</td>\n",
       "      <td>19.21</td>\n",
       "      <td>8</td>\n",
       "      <td>3.6</td>\n",
       "      <td>WESTERN TURKEY</td>\n",
       "      <td>TURKEY</td>\n",
       "      <td>40.0</td>\n",
       "      <td>20.0</td>\n",
       "    </tr>\n",
       "    <tr>\n",
       "      <th>537310</th>\n",
       "      <td>2016</td>\n",
       "      <td>10</td>\n",
       "      <td>15</td>\n",
       "      <td>22</td>\n",
       "      <td>30</td>\n",
       "      <td>26.1</td>\n",
       "      <td>E</td>\n",
       "      <td>71.70</td>\n",
       "      <td>N</td>\n",
       "      <td>41.26</td>\n",
       "      <td>15</td>\n",
       "      <td>3.7</td>\n",
       "      <td>EASTERN UZBEKISTAN</td>\n",
       "      <td>UZBEKISTAN</td>\n",
       "      <td>70.0</td>\n",
       "      <td>40.0</td>\n",
       "    </tr>\n",
       "    <tr>\n",
       "      <th>537551</th>\n",
       "      <td>2016</td>\n",
       "      <td>10</td>\n",
       "      <td>15</td>\n",
       "      <td>22</td>\n",
       "      <td>27</td>\n",
       "      <td>50.9</td>\n",
       "      <td>E</td>\n",
       "      <td>38.94</td>\n",
       "      <td>N</td>\n",
       "      <td>19.29</td>\n",
       "      <td>8</td>\n",
       "      <td>3.6</td>\n",
       "      <td>WESTERN TURKEY</td>\n",
       "      <td>TURKEY</td>\n",
       "      <td>40.0</td>\n",
       "      <td>20.0</td>\n",
       "    </tr>\n",
       "    <tr>\n",
       "      <th>537553</th>\n",
       "      <td>2016</td>\n",
       "      <td>10</td>\n",
       "      <td>15</td>\n",
       "      <td>22</td>\n",
       "      <td>19</td>\n",
       "      <td>42.0</td>\n",
       "      <td>E</td>\n",
       "      <td>39.75</td>\n",
       "      <td>N</td>\n",
       "      <td>59.75</td>\n",
       "      <td>12</td>\n",
       "      <td>2.6</td>\n",
       "      <td>GREECE</td>\n",
       "      <td>GREECE</td>\n",
       "      <td>40.0</td>\n",
       "      <td>60.0</td>\n",
       "    </tr>\n",
       "    <tr>\n",
       "      <th>537557</th>\n",
       "      <td>2016</td>\n",
       "      <td>10</td>\n",
       "      <td>15</td>\n",
       "      <td>21</td>\n",
       "      <td>46</td>\n",
       "      <td>52.8</td>\n",
       "      <td>E</td>\n",
       "      <td>20.70</td>\n",
       "      <td>N</td>\n",
       "      <td>39.70</td>\n",
       "      <td>8</td>\n",
       "      <td>4.3</td>\n",
       "      <td>GREECE</td>\n",
       "      <td>GREECE</td>\n",
       "      <td>20.0</td>\n",
       "      <td>40.0</td>\n",
       "    </tr>\n",
       "    <tr>\n",
       "      <th>537448</th>\n",
       "      <td>2016</td>\n",
       "      <td>10</td>\n",
       "      <td>15</td>\n",
       "      <td>21</td>\n",
       "      <td>42</td>\n",
       "      <td>23.9</td>\n",
       "      <td>E</td>\n",
       "      <td>20.66</td>\n",
       "      <td>N</td>\n",
       "      <td>39.63</td>\n",
       "      <td>20</td>\n",
       "      <td>3.6</td>\n",
       "      <td>GREECE</td>\n",
       "      <td>GREECE</td>\n",
       "      <td>20.0</td>\n",
       "      <td>40.0</td>\n",
       "    </tr>\n",
       "    <tr>\n",
       "      <th>537523</th>\n",
       "      <td>2016</td>\n",
       "      <td>10</td>\n",
       "      <td>15</td>\n",
       "      <td>21</td>\n",
       "      <td>22</td>\n",
       "      <td>53.4</td>\n",
       "      <td>E</td>\n",
       "      <td>20.69</td>\n",
       "      <td>N</td>\n",
       "      <td>39.76</td>\n",
       "      <td>16</td>\n",
       "      <td>2.4</td>\n",
       "      <td>GREECE</td>\n",
       "      <td>GREECE</td>\n",
       "      <td>20.0</td>\n",
       "      <td>40.0</td>\n",
       "    </tr>\n",
       "    <tr>\n",
       "      <th>537563</th>\n",
       "      <td>2016</td>\n",
       "      <td>10</td>\n",
       "      <td>15</td>\n",
       "      <td>21</td>\n",
       "      <td>10</td>\n",
       "      <td>27.5</td>\n",
       "      <td>E</td>\n",
       "      <td>20.67</td>\n",
       "      <td>N</td>\n",
       "      <td>39.66</td>\n",
       "      <td>20</td>\n",
       "      <td>4.3</td>\n",
       "      <td>GREECE</td>\n",
       "      <td>GREECE</td>\n",
       "      <td>20.0</td>\n",
       "      <td>40.0</td>\n",
       "    </tr>\n",
       "    <tr>\n",
       "      <th>537378</th>\n",
       "      <td>2016</td>\n",
       "      <td>10</td>\n",
       "      <td>15</td>\n",
       "      <td>21</td>\n",
       "      <td>0</td>\n",
       "      <td>57.9</td>\n",
       "      <td>E</td>\n",
       "      <td>32.27</td>\n",
       "      <td>N</td>\n",
       "      <td>35.18</td>\n",
       "      <td>12</td>\n",
       "      <td>2.2</td>\n",
       "      <td>CYPRUS REGION</td>\n",
       "      <td>CYPRUS</td>\n",
       "      <td>30.0</td>\n",
       "      <td>35.0</td>\n",
       "    </tr>\n",
       "  </tbody>\n",
       "</table>\n",
       "</div>"
      ],
      "text/plain": [
       "        leto  mesec  dan  ura  minuta  sekunda DOL  dolzina SIR  sirina  \\\n",
       "id                                                                        \n",
       "537411  2016     10   15   23      40     55.1   E    34.31   N   38.13   \n",
       "537458  2016     10   15   23      17     42.6   E    27.72   N   38.93   \n",
       "537380  2016     10   15   23       6     59.1   E    20.69   N   39.76   \n",
       "537552  2016     10   15   22      43     13.2   E    38.94   N   19.21   \n",
       "537310  2016     10   15   22      30     26.1   E    71.70   N   41.26   \n",
       "537551  2016     10   15   22      27     50.9   E    38.94   N   19.29   \n",
       "537553  2016     10   15   22      19     42.0   E    39.75   N   59.75   \n",
       "537557  2016     10   15   21      46     52.8   E    20.70   N   39.70   \n",
       "537448  2016     10   15   21      42     23.9   E    20.66   N   39.63   \n",
       "537523  2016     10   15   21      22     53.4   E    20.69   N   39.76   \n",
       "537563  2016     10   15   21      10     27.5   E    20.67   N   39.66   \n",
       "537378  2016     10   15   21       0     57.9   E    32.27   N   35.18   \n",
       "\n",
       "        globina  magnituda              regija      drzava  dolzina_prava  \\\n",
       "id                                                                          \n",
       "537411        4        2.7      CENTRAL TURKEY      TURKEY           35.0   \n",
       "537458        6        2.6      WESTERN TURKEY      TURKEY           30.0   \n",
       "537380       15        4.3              GREECE      GREECE           20.0   \n",
       "537552        8        3.6      WESTERN TURKEY      TURKEY           40.0   \n",
       "537310       15        3.7  EASTERN UZBEKISTAN  UZBEKISTAN           70.0   \n",
       "537551        8        3.6      WESTERN TURKEY      TURKEY           40.0   \n",
       "537553       12        2.6              GREECE      GREECE           40.0   \n",
       "537557        8        4.3              GREECE      GREECE           20.0   \n",
       "537448       20        3.6              GREECE      GREECE           20.0   \n",
       "537523       16        2.4              GREECE      GREECE           20.0   \n",
       "537563       20        4.3              GREECE      GREECE           20.0   \n",
       "537378       12        2.2       CYPRUS REGION      CYPRUS           30.0   \n",
       "\n",
       "        sirina_prava  \n",
       "id                    \n",
       "537411          40.0  \n",
       "537458          40.0  \n",
       "537380          40.0  \n",
       "537552          20.0  \n",
       "537310          40.0  \n",
       "537551          20.0  \n",
       "537553          60.0  \n",
       "537557          40.0  \n",
       "537448          40.0  \n",
       "537523          40.0  \n",
       "537563          40.0  \n",
       "537378          35.0  "
      ]
     },
     "execution_count": 53,
     "metadata": {},
     "output_type": "execute_result"
    }
   ],
   "source": [
    "podatki['drzava'] = podatki['regija'].map(pretvori_v_drzavo)\n",
    "podatki[:12]"
   ]
  },
  {
   "cell_type": "markdown",
   "metadata": {},
   "source": [
    "### Delo z novim stolpcem\n",
    "\n",
    "Izpišimo torej število potresov glede na novi stolpec 'drzava' in se prepričajmo, da je bilo pisanje funkcije in dodajanje stoplca smiselno. Res, vrh seznama se opazno spremeni, čeprav Turčija ostaja daleč pred ostalimi državami. Za prvih 20 držav bomo spodaj izrisali tudi graf."
   ]
  },
  {
   "cell_type": "code",
   "execution_count": 60,
   "metadata": {
    "collapsed": false
   },
   "outputs": [
    {
     "data": {
      "text/plain": [
       "TURKEY                    379\n",
       "CHILE                     165\n",
       "GREECE                    132\n",
       "PUERTO RICO                62\n",
       "ITALY                      61\n",
       "OKLAHOMA                   59\n",
       "VIRGIN ISLANDS             56\n",
       "                         ... \n",
       "MONGOLIA                    1\n",
       "MOZAMBIQUE                  1\n",
       "SLOVENIA                    1\n",
       "KAMCHATKA                   1\n",
       "INDONESIA                   1\n",
       "GEORGIA (SAK'ART'VELO)      1\n",
       "AZERBAIJAN                  1\n",
       "Name: drzava, dtype: int64"
      ]
     },
     "execution_count": 60,
     "metadata": {},
     "output_type": "execute_result"
    }
   ],
   "source": [
    "stevilo_drzava = podatki['drzava'].value_counts()\n",
    "stevilo_drzava"
   ]
  },
  {
   "cell_type": "code",
   "execution_count": 50,
   "metadata": {
    "collapsed": false
   },
   "outputs": [
    {
     "data": {
      "text/plain": [
       "<matplotlib.axes._subplots.AxesSubplot at 0x74860f0>"
      ]
     },
     "execution_count": 50,
     "metadata": {},
     "output_type": "execute_result"
    },
    {
     "data": {
      "image/png": "[encoded data removed]",
      "text/plain": [
       "<matplotlib.figure.Figure at 0x7486ad0>"
      ]
     },
     "metadata": {},
     "output_type": "display_data"
    }
   ],
   "source": [
    "stevilo_drzava.head(20).plot(kind='bar', title='Število potresov v državi')"
   ]
  },
  {
   "cell_type": "markdown",
   "metadata": {},
   "source": [
    "Izpišimo potrese z največjo magnitudo, saj nas ta podatek običajno zelo zanima. Najprej izpišimo posamezne najmočnejše potrese, ki so se zgodili v prvi polovici oktobra. Zanimivo je, da Turčije na vrhu seznama ne najdemo (za razliko od Grčije in Čila). Sklepamo torej, da bi bilo potrebno pogledati tudi tabelo s povprečno magnitudo, ki jo bomo izpisali spodaj."
   ]
  },
  {
   "cell_type": "code",
   "execution_count": 55,
   "metadata": {
    "collapsed": false
   },
   "outputs": [
    {
     "data": {
      "text/html": [
       "<div>\n",
       "<table border=\"1\" class=\"dataframe\">\n",
       "  <thead>\n",
       "    <tr style=\"text-align: right;\">\n",
       "      <th></th>\n",
       "      <th>regija</th>\n",
       "      <th>drzava</th>\n",
       "      <th>magnituda</th>\n",
       "    </tr>\n",
       "    <tr>\n",
       "      <th>id</th>\n",
       "      <th></th>\n",
       "      <th></th>\n",
       "      <th></th>\n",
       "    </tr>\n",
       "  </thead>\n",
       "  <tbody>\n",
       "    <tr>\n",
       "      <th>535107</th>\n",
       "      <td>BONIN ISLANDS, JAPAN REGION</td>\n",
       "      <td>JAPAN</td>\n",
       "      <td>5.7</td>\n",
       "    </tr>\n",
       "    <tr>\n",
       "      <th>535361</th>\n",
       "      <td>LUZON, PHILIPPINES</td>\n",
       "      <td>PHILIPPINES</td>\n",
       "      <td>5.7</td>\n",
       "    </tr>\n",
       "    <tr>\n",
       "      <th>537318</th>\n",
       "      <td>GREECE</td>\n",
       "      <td>GREECE</td>\n",
       "      <td>5.4</td>\n",
       "    </tr>\n",
       "    <tr>\n",
       "      <th>536858</th>\n",
       "      <td>SOUTHEAST OF EASTER ISLAND</td>\n",
       "      <td>EASTER ISLAND</td>\n",
       "      <td>5.4</td>\n",
       "    </tr>\n",
       "    <tr>\n",
       "      <th>534540</th>\n",
       "      <td>PAKISTAN</td>\n",
       "      <td>PAKISTAN</td>\n",
       "      <td>5.3</td>\n",
       "    </tr>\n",
       "    <tr>\n",
       "      <th>536551</th>\n",
       "      <td>MINDORO, PHILIPPINES</td>\n",
       "      <td>PHILIPPINES</td>\n",
       "      <td>5.3</td>\n",
       "    </tr>\n",
       "    <tr>\n",
       "      <th>537149</th>\n",
       "      <td>BLACK SEA</td>\n",
       "      <td>BLACK SEA</td>\n",
       "      <td>5.2</td>\n",
       "    </tr>\n",
       "    <tr>\n",
       "      <th>534884</th>\n",
       "      <td>NORTHERN SUMATRA, INDONESIA</td>\n",
       "      <td>INDONESIA</td>\n",
       "      <td>5.0</td>\n",
       "    </tr>\n",
       "    <tr>\n",
       "      <th>535942</th>\n",
       "      <td>SAMOA ISLANDS REGION</td>\n",
       "      <td>SAMOA ISLANDS</td>\n",
       "      <td>5.0</td>\n",
       "    </tr>\n",
       "    <tr>\n",
       "      <th>534587</th>\n",
       "      <td>AZORES ISLANDS REGION</td>\n",
       "      <td>AZORES ISLANDS</td>\n",
       "      <td>5.0</td>\n",
       "    </tr>\n",
       "    <tr>\n",
       "      <th>535251</th>\n",
       "      <td>SOUTH SANDWICH ISLANDS REGION</td>\n",
       "      <td>SANDWICH ISLANDS</td>\n",
       "      <td>5.0</td>\n",
       "    </tr>\n",
       "    <tr>\n",
       "      <th>535315</th>\n",
       "      <td>WEST CHILE RISE</td>\n",
       "      <td>CHILE RISE</td>\n",
       "      <td>5.0</td>\n",
       "    </tr>\n",
       "    <tr>\n",
       "      <th>535773</th>\n",
       "      <td>NORTH ATLANTIC OCEAN</td>\n",
       "      <td>ATLANTIC OCEAN</td>\n",
       "      <td>4.9</td>\n",
       "    </tr>\n",
       "    <tr>\n",
       "      <th>534556</th>\n",
       "      <td>SANTA CRUZ ISLANDS</td>\n",
       "      <td>SANTA CRUZ ISLANDS</td>\n",
       "      <td>4.9</td>\n",
       "    </tr>\n",
       "    <tr>\n",
       "      <th>535444</th>\n",
       "      <td>SOUTHWEST INDIAN RIDGE</td>\n",
       "      <td>INDIAN RIDGE</td>\n",
       "      <td>4.9</td>\n",
       "    </tr>\n",
       "  </tbody>\n",
       "</table>\n",
       "</div>"
      ],
      "text/plain": [
       "                               regija              drzava  magnituda\n",
       "id                                                                  \n",
       "535107    BONIN ISLANDS, JAPAN REGION               JAPAN        5.7\n",
       "535361             LUZON, PHILIPPINES         PHILIPPINES        5.7\n",
       "537318                         GREECE              GREECE        5.4\n",
       "536858     SOUTHEAST OF EASTER ISLAND       EASTER ISLAND        5.4\n",
       "534540                       PAKISTAN            PAKISTAN        5.3\n",
       "536551           MINDORO, PHILIPPINES         PHILIPPINES        5.3\n",
       "537149                      BLACK SEA           BLACK SEA        5.2\n",
       "534884    NORTHERN SUMATRA, INDONESIA           INDONESIA        5.0\n",
       "535942           SAMOA ISLANDS REGION       SAMOA ISLANDS        5.0\n",
       "534587          AZORES ISLANDS REGION      AZORES ISLANDS        5.0\n",
       "535251  SOUTH SANDWICH ISLANDS REGION    SANDWICH ISLANDS        5.0\n",
       "535315                WEST CHILE RISE          CHILE RISE        5.0\n",
       "535773           NORTH ATLANTIC OCEAN      ATLANTIC OCEAN        4.9\n",
       "534556             SANTA CRUZ ISLANDS  SANTA CRUZ ISLANDS        4.9\n",
       "535444         SOUTHWEST INDIAN RIDGE        INDIAN RIDGE        4.9"
      ]
     },
     "execution_count": 55,
     "metadata": {},
     "output_type": "execute_result"
    }
   ],
   "source": [
    "delno = podatki[['regija', 'drzava', 'magnituda']]\n",
    "delno.sort_values('magnituda', ascending=False)[:15]"
   ]
  },
  {
   "cell_type": "markdown",
   "metadata": {},
   "source": [
    "### Razna povprečja\n",
    "\n",
    "Sedaj si oglejmo še povprečne magnitude. Opazimo, da se pojavijo mnoge države iz zgornje tabele. Kako bi si to razložili?\n",
    "\n",
    "Na rezultate gotovo vpliva relativno majhno skupno število podatkov in izredno velik razpon v številu podatkov za posamezno državo. Zato teh povprečnih vrednosti ne smemo jemati preresno. Opozorila bi recimo na primer Pakistana. Očitno se je tam v opazovanem času zgodil le en potres (tabela stevilo_drzava zgoraj), ki pa je bil izredno močan (magnituda 5.3 v zgornji tabeli). S primerjavo tabel nad in pod tem besediom vidimo, da se je v mnogih državah zgodil le en močan potres, tako da težko govorimo o verodostojni povprečni vrednosti."
   ]
  },
  {
   "cell_type": "code",
   "execution_count": 56,
   "metadata": {
    "collapsed": false
   },
   "outputs": [
    {
     "data": {
      "text/plain": [
       "drzava\n",
       "EASTER ISLAND         5.40\n",
       "PAKISTAN              5.30\n",
       "BLACK SEA             5.20\n",
       "PHILIPPINES           5.17\n",
       "SAMOA ISLANDS         5.00\n",
       "SANDWICH ISLANDS      5.00\n",
       "CHILE RISE            5.00\n",
       "INDONESIA             5.00\n",
       "JAPAN                 4.95\n",
       "SANTA CRUZ ISLANDS    4.90\n",
       "ATLANTIC OCEAN        4.90\n",
       "INDIAN RIDGE          4.80\n",
       "FIJI                  4.75\n",
       "VANUATU               4.70\n",
       "AFRICA                4.70\n",
       "Name: magnituda, dtype: float64"
      ]
     },
     "execution_count": 56,
     "metadata": {},
     "output_type": "execute_result"
    }
   ],
   "source": [
    "drzave = podatki.groupby('drzava')\n",
    "\n",
    "drzave['magnituda'].mean().sort_values(ascending=False).round(2)[:15]"
   ]
  },
  {
   "cell_type": "markdown",
   "metadata": {},
   "source": [
    "Izkoristimo še stolpca 'DOL' in 'SIR', ki vsebujeta podatke o geografski širini in dolžini, in sicer samo vrednosti N, S, E, W za strani neba. Spodnji graf prikazuje, kolikšen delež zaznanih potresov se je zgodil na severni in južni polobli. Porazdelitev je presenetljiva, saj za tako nenavadno razmerje navidez ni vzroka. Dodala sem podatek o povprečni magnitudi za eno in drugo poloblo.\n",
    "\n",
    "Zakaj pa nas ti podatki vendale ne presenečajo tako zelo? EMSC (vir podatkov) je evropska mreža. Kot sem zapisala v uvodu, je večina opazovalnic v Evropi, kar pomeni, da z večjo natančnostjo zaznajo tudi manj močne potrese na tem območju (in podatke posredujejo EMSC). Drugače povedano - šibak potres npr. v Švici bo zabeležen, enako močan v Južnoafriški republiki pa ne, ker ga evropske opazovalnice ne bodo zaznale (predpostavimo, da recimo nobena bližnja opazovalnica ni vključena v mrežo). Drug faktor je porazdelitev kopnega - tudi če bi bile EMSC-jeve opazovalnice enakomerno razporejene po državah po svetu, je na južni polobli pač manj kopnega in posledično manj opazovalnic.\n",
    "\n",
    "Podatki o mediani in povprečni magnitudi potrjujejo zgoraj zapisano - tisti potresi z južne poloble, ki so jih zaznali, so bili močnejši, posledično sta prikazani vrednosti višji.\n",
    "\n",
    "Pri delitvi vzhod-zahod so razultati manj presenetljivi."
   ]
  },
  {
   "cell_type": "code",
   "execution_count": null,
   "metadata": {
    "collapsed": false
   },
   "outputs": [],
   "source": [
    "sirina = podatki.groupby('SIR')\n",
    "sirina.size().plot(kind = 'pie', title = 'Razmerje med številom potresov na severni (N) in južni (S) polobli.')\n",
    "\n",
    "sirina['magnituda'].median(), sirina['magnituda'].mean().round(2)"
   ]
  },
  {
   "cell_type": "code",
   "execution_count": null,
   "metadata": {
    "collapsed": false
   },
   "outputs": [],
   "source": [
    "dolzina = podatki.groupby('DOL')\n",
    "dolzina.size().plot(kind = 'pie', title = 'Razmerje med številom potresov na vzhodni (E) in zahodni (W) polobli.')\n",
    "\n",
    "dolzina['magnituda'].median(), dolzina['magnituda'].mean().round(2)"
   ]
  },
  {
   "cell_type": "markdown",
   "metadata": {},
   "source": [
    "Glede na to, da smo že opazili, da zaradi držav s premalo potresi včasih dobimo nekoliko zavajajoče rezultate, si morda oglejmo še, kako \"razgibana\" je neka država. Merilo bo zelo preprosto - od potresa z največjo magnitudo odštejemo tistega z najmanjšo. S tem podatkom dobimo neko dodatno informacijo o posameznem območju.\n",
    "\n",
    "Če se spomnimo grafa, ki je prikazoval število potresov v posamezni državi, nas visoka uvrstitev Grčije, Čila in Turčije ne preseneča, saj so bile te države vodilne tudi po številu potresov. Kot zanimivost pa si poglejmo še podatke o številu potresov v Norveškem morju in na Hrvaškem."
   ]
  },
  {
   "cell_type": "code",
   "execution_count": 66,
   "metadata": {
    "collapsed": false
   },
   "outputs": [
    {
     "data": {
      "text/plain": [
       "(drzava\n",
       " GREECE              3.4\n",
       " CHILE               2.7\n",
       " TURKEY              2.7\n",
       " NORWEGIAN SEA       2.6\n",
       " CROATIA             2.6\n",
       " ITALY               2.4\n",
       " COLOMBIA            2.0\n",
       " ALEUTIAN ISLANDS    2.0\n",
       " MEXICO              2.0\n",
       " ARGENTINA           1.9\n",
       " Name: magnituda, dtype: float64, 3, 132)"
      ]
     },
     "execution_count": 66,
     "metadata": {},
     "output_type": "execute_result"
    }
   ],
   "source": [
    "razgibanost = drzave['magnituda'].max() - drzave['magnituda'].min()\n",
    "razgibanost.sort_values(ascending=False).head(10)"
   ]
  },
  {
   "cell_type": "code",
   "execution_count": 71,
   "metadata": {
    "collapsed": false
   },
   "outputs": [
    {
     "data": {
      "text/plain": [
       "(2, 3)"
      ]
     },
     "execution_count": 71,
     "metadata": {},
     "output_type": "execute_result"
    }
   ],
   "source": [
    "stevilo_drzava['NORWEGIAN SEA'], stevilo_drzava['CROATIA']"
   ]
  },
  {
   "cell_type": "markdown",
   "metadata": {},
   "source": [
    "### Spremenimo zapis koordinat tako, da bomo z njimi lahko kaj počeli\n",
    "\n",
    "Sedaj podatkom dodajmo dva nova stolpca, ki bosta uporabna za raziskovanje, kje (po koordinatah) so se dogajali potresi. Težava z obstoječimi podatki je bila, da iz stolpcev 'sirina' in 'dolzina' ni bilo razvino, kje natanko se je potres zgodil (npr. Egipt in Južna Afrika imata približno enako zemljepisno širino, Portugalska in Korzika pa dolžino), kar onemogoča analizo. Krajem, ki so južno od ekvatorja ali zahodno od Greenwicha, pred vrednost zapišemo minus v skladu s standardnim označevanjem v geografiji. Ker bomo delali s povprečnimi vrednostmi, podatke sproti še zaokrožimo na število, deljivo s 5.\n",
    "\n",
    "Spodaj je prikazanih nekaj vrstic, kjer lahko primerjamo stara stoplca z novima."
   ]
  },
  {
   "cell_type": "code",
   "execution_count": 45,
   "metadata": {
    "collapsed": false
   },
   "outputs": [
    {
     "name": "stderr",
     "output_type": "stream",
     "text": [
      "c:\\users\\jure\\appdata\\local\\programs\\python\\python35-32\\lib\\site-packages\\ipykernel\\__main__.py:2: SettingWithCopyWarning: \n",
      "A value is trying to be set on a copy of a slice from a DataFrame\n",
      "\n",
      "See the caveats in the documentation: http://pandas.pydata.org/pandas-docs/stable/indexing.html#indexing-view-versus-copy\n",
      "  from ipykernel import kernelapp as app\n",
      "c:\\users\\jure\\appdata\\local\\programs\\python\\python35-32\\lib\\site-packages\\ipykernel\\__main__.py:4: SettingWithCopyWarning: \n",
      "A value is trying to be set on a copy of a slice from a DataFrame\n",
      "\n",
      "See the caveats in the documentation: http://pandas.pydata.org/pandas-docs/stable/indexing.html#indexing-view-versus-copy\n"
     ]
    },
    {
     "data": {
      "text/html": [
       "<div>\n",
       "<table border=\"1\" class=\"dataframe\">\n",
       "  <thead>\n",
       "    <tr style=\"text-align: right;\">\n",
       "      <th></th>\n",
       "      <th>leto</th>\n",
       "      <th>mesec</th>\n",
       "      <th>dan</th>\n",
       "      <th>ura</th>\n",
       "      <th>minuta</th>\n",
       "      <th>sekunda</th>\n",
       "      <th>DOL</th>\n",
       "      <th>dolzina</th>\n",
       "      <th>SIR</th>\n",
       "      <th>sirina</th>\n",
       "      <th>globina</th>\n",
       "      <th>magnituda</th>\n",
       "      <th>regija</th>\n",
       "      <th>drzava</th>\n",
       "      <th>dolzina_prava</th>\n",
       "      <th>sirina_prava</th>\n",
       "    </tr>\n",
       "    <tr>\n",
       "      <th>id</th>\n",
       "      <th></th>\n",
       "      <th></th>\n",
       "      <th></th>\n",
       "      <th></th>\n",
       "      <th></th>\n",
       "      <th></th>\n",
       "      <th></th>\n",
       "      <th></th>\n",
       "      <th></th>\n",
       "      <th></th>\n",
       "      <th></th>\n",
       "      <th></th>\n",
       "      <th></th>\n",
       "      <th></th>\n",
       "      <th></th>\n",
       "      <th></th>\n",
       "    </tr>\n",
       "  </thead>\n",
       "  <tbody>\n",
       "    <tr>\n",
       "      <th>537214</th>\n",
       "      <td>2016</td>\n",
       "      <td>10</td>\n",
       "      <td>15</td>\n",
       "      <td>15</td>\n",
       "      <td>44</td>\n",
       "      <td>46.3</td>\n",
       "      <td>E</td>\n",
       "      <td>15.97</td>\n",
       "      <td>N</td>\n",
       "      <td>51.51</td>\n",
       "      <td>1</td>\n",
       "      <td>3.7</td>\n",
       "      <td>POLAND</td>\n",
       "      <td>POLAND</td>\n",
       "      <td>15.0</td>\n",
       "      <td>50.0</td>\n",
       "    </tr>\n",
       "    <tr>\n",
       "      <th>537471</th>\n",
       "      <td>2016</td>\n",
       "      <td>10</td>\n",
       "      <td>15</td>\n",
       "      <td>15</td>\n",
       "      <td>40</td>\n",
       "      <td>50.0</td>\n",
       "      <td>W</td>\n",
       "      <td>71.39</td>\n",
       "      <td>S</td>\n",
       "      <td>30.70</td>\n",
       "      <td>44</td>\n",
       "      <td>3.9</td>\n",
       "      <td>COQUIMBO, CHILE</td>\n",
       "      <td>CHILE</td>\n",
       "      <td>-70.0</td>\n",
       "      <td>-30.0</td>\n",
       "    </tr>\n",
       "    <tr>\n",
       "      <th>537207</th>\n",
       "      <td>2016</td>\n",
       "      <td>10</td>\n",
       "      <td>15</td>\n",
       "      <td>15</td>\n",
       "      <td>24</td>\n",
       "      <td>25.1</td>\n",
       "      <td>W</td>\n",
       "      <td>36.86</td>\n",
       "      <td>N</td>\n",
       "      <td>32.29</td>\n",
       "      <td>50</td>\n",
       "      <td>2.5</td>\n",
       "      <td>STRAIT OF GIBRALTAR</td>\n",
       "      <td>STRAIT OF GIBRALTAR</td>\n",
       "      <td>-35.0</td>\n",
       "      <td>30.0</td>\n",
       "    </tr>\n",
       "    <tr>\n",
       "      <th>537203</th>\n",
       "      <td>2016</td>\n",
       "      <td>10</td>\n",
       "      <td>15</td>\n",
       "      <td>14</td>\n",
       "      <td>21</td>\n",
       "      <td>49.1</td>\n",
       "      <td>E</td>\n",
       "      <td>27.73</td>\n",
       "      <td>N</td>\n",
       "      <td>38.88</td>\n",
       "      <td>10</td>\n",
       "      <td>2.2</td>\n",
       "      <td>WESTERN TURKEY</td>\n",
       "      <td>TURKEY</td>\n",
       "      <td>30.0</td>\n",
       "      <td>40.0</td>\n",
       "    </tr>\n",
       "  </tbody>\n",
       "</table>\n",
       "</div>"
      ],
      "text/plain": [
       "        leto  mesec  dan  ura  minuta  sekunda DOL  dolzina SIR  sirina  \\\n",
       "id                                                                        \n",
       "537214  2016     10   15   15      44     46.3   E    15.97   N   51.51   \n",
       "537471  2016     10   15   15      40     50.0   W    71.39   S   30.70   \n",
       "537207  2016     10   15   15      24     25.1   W    36.86   N   32.29   \n",
       "537203  2016     10   15   14      21     49.1   E    27.73   N   38.88   \n",
       "\n",
       "        globina  magnituda               regija               drzava  \\\n",
       "id                                                                     \n",
       "537214        1        3.7               POLAND               POLAND   \n",
       "537471       44        3.9      COQUIMBO, CHILE                CHILE   \n",
       "537207       50        2.5  STRAIT OF GIBRALTAR  STRAIT OF GIBRALTAR   \n",
       "537203       10        2.2       WESTERN TURKEY               TURKEY   \n",
       "\n",
       "        dolzina_prava  sirina_prava  \n",
       "id                                   \n",
       "537214           15.0          50.0  \n",
       "537471          -70.0         -30.0  \n",
       "537207          -35.0          30.0  \n",
       "537203           30.0          40.0  "
      ]
     },
     "execution_count": 45,
     "metadata": {},
     "output_type": "execute_result"
    }
   ],
   "source": [
    "podatki['dolzina_prava'] = round(podatki['dolzina']*2, -1) / 2\n",
    "podatki['dolzina_prava'][podatki.DOL == 'W'] = -podatki['dolzina_prava']\n",
    "podatki['sirina_prava'] = round(podatki['sirina']*2, -1) / 2\n",
    "podatki['sirina_prava'][podatki.SIR == 'S'] = -podatki['sirina_prava']\n",
    "podatki[26:30]"
   ]
  },
  {
   "cell_type": "code",
   "execution_count": null,
   "metadata": {
    "collapsed": false
   },
   "outputs": [],
   "source": [
    "dolzina = podatki.groupby('dolzina_prava')\n",
    "dolzina.size().plot(kind='bar')"
   ]
  },
  {
   "cell_type": "code",
   "execution_count": 30,
   "metadata": {
    "collapsed": false
   },
   "outputs": [],
   "source": [
    "from datetime import date\n",
    "def teden(l, m, d):\n",
    "    dnevi = ['Ponedeljek', 'Torek', 'Sreda', 'Cetrtek', 'Petek', 'Sobota', 'Nedelja']\n",
    "    i = date(l, m, d).weekday()\n",
    "    return dnevi[i]"
   ]
  },
  {
   "cell_type": "code",
   "execution_count": 31,
   "metadata": {
    "collapsed": false
   },
   "outputs": [
    {
     "data": {
      "text/plain": [
       "'Ponedeljek'"
      ]
     },
     "execution_count": 31,
     "metadata": {},
     "output_type": "execute_result"
    }
   ],
   "source": [
    "teden(2013, 5, 6)\n",
    "#podatki['teden'] = teden(podatki['leto'], podatki['mesec'], podatki['dan'])\n",
    "#podatki[:3]"
   ]
  },
  {
   "cell_type": "code",
   "execution_count": null,
   "metadata": {
    "collapsed": false
   },
   "outputs": [],
   "source": [
    "podatki['testiram'] = testiram(podatki['mesec'], podatki['dan'])\n",
    "podatki[16:20]"
   ]
  },
  {
   "cell_type": "markdown",
   "metadata": {},
   "source": [
    "## Kdaj so se zgodili potresi?\n",
    "\n",
    "Osnovna hipoteza je, da so potresi bolj ali manj časovno neodvisni pojavi, zato povsod pričakujemo enakomerne porazdelitve - tako glede na dan v tednu kot na primer glede na uro v dnevu.\n",
    "\n",
    "Za začetek narišimo graf števila zaznanih potresov za vsak dan, ob tem si oglejmo še mediane vrednosti magnitud. Kot smo pričakovali, velikih odstopanj ni. Jasno je, da bi lepše (torej enakomernejše) grafe dobili z večjim številom zajetih podatkov."
   ]
  },
  {
   "cell_type": "code",
   "execution_count": null,
   "metadata": {
    "collapsed": false
   },
   "outputs": [],
   "source": [
    "po_dnevu = podatki.groupby('dan')\n",
    "po_dnevu.size().plot(kind='bar')\n",
    "po_dnevu['magnituda'].median()"
   ]
  },
  {
   "cell_type": "code",
   "execution_count": null,
   "metadata": {
    "collapsed": false
   },
   "outputs": [],
   "source": []
  },
  {
   "cell_type": "markdown",
   "metadata": {},
   "source": [
    "Opazimo razliko med [18] in [19], hipoteza morje - kopno..."
   ]
  },
  {
   "cell_type": "code",
   "execution_count": null,
   "metadata": {
    "collapsed": false
   },
   "outputs": [],
   "source": [
    "dolzina = podatki.groupby('DOL')\n",
    "dolzina.size().plot(kind='pie')"
   ]
  },
  {
   "cell_type": "code",
   "execution_count": null,
   "metadata": {
    "collapsed": false
   },
   "outputs": [],
   "source": [
    "sirina = podatki.groupby('SIR')\n",
    "#sirina['magnituda'].mean()\n",
    "sirina.size().plot(kind = 'pie')"
   ]
  },
  {
   "cell_type": "markdown",
   "metadata": {},
   "source": [
    "zanimivo. opazovalnice, Afrika, morje...?"
   ]
  },
  {
   "cell_type": "code",
   "execution_count": null,
   "metadata": {
    "collapsed": true
   },
   "outputs": [],
   "source": [
    "globina = podatki.groupby('globina')\n",
    "globina.size().plot()"
   ]
  },
  {
   "cell_type": "code",
   "execution_count": null,
   "metadata": {
    "collapsed": false
   },
   "outputs": [],
   "source": [
    "#podatki.groupby('globina')['magnituda'].mean().plot()\n",
    "podatki.groupby('globina')['magnituda'].value_counts().plot()\n",
    "#podatki.groupby('globina')['magnituda'].size().plot()"
   ]
  },
  {
   "cell_type": "code",
   "execution_count": null,
   "metadata": {
    "collapsed": false
   },
   "outputs": [],
   "source": [
    "podatki.groupby('magnituda')['globina'].sum().plot()"
   ]
  },
  {
   "cell_type": "code",
   "execution_count": null,
   "metadata": {
    "collapsed": true
   },
   "outputs": [],
   "source": [
    "podatki.groupby('magnituda')['globina'].mean().plot()"
   ]
  },
  {
   "cell_type": "code",
   "execution_count": null,
   "metadata": {
    "collapsed": true
   },
   "outputs": [],
   "source": []
  },
  {
   "cell_type": "code",
   "execution_count": null,
   "metadata": {
    "collapsed": true
   },
   "outputs": [],
   "source": []
  },
  {
   "cell_type": "code",
   "execution_count": null,
   "metadata": {
    "collapsed": true
   },
   "outputs": [],
   "source": []
  },
  {
   "cell_type": "code",
   "execution_count": null,
   "metadata": {
    "collapsed": true
   },
   "outputs": [],
   "source": []
  },
  {
   "cell_type": "code",
   "execution_count": null,
   "metadata": {
    "collapsed": false
   },
   "outputs": [],
   "source": []
  }
 ],
 "metadata": {
  "kernelspec": {
   "display_name": "Python 3",
   "language": "python",
   "name": "python3"
  },
  "language_info": {
   "codemirror_mode": {
    "name": "ipython",
    "version": 3
   },
   "file_extension": ".py",
   "mimetype": "text/x-python",
   "name": "python",
   "nbconvert_exporter": "python",
   "pygments_lexer": "ipython3",
   "version": "3.5.2"
  }
 },
 "nbformat": 4,
 "nbformat_minor": 2
}
