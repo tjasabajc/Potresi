{
 "cells": [
  {
   "cell_type": "markdown",
   "metadata": {},
   "source": [
    "# Potresi\n",
    "\n",
    "V projektni nalogi bom analizirala podatke o potresih od [tukaj](http://www.emsc-csem.org/) (European-Mediterranean Seismological Centre). Odločila sem se za potrese, ki so se zgodili v prvih dveh tednih oktobra (torej do 15. oktobra), ker da ta časovni okvir ravno pravšnje število podatkov - nekaj več kot 1300 potresov.\n",
    "\n",
    "Na navedeni strani najdete podatke o zadnjih potresih po svetu (podatke sicer pridobivajo avtomatsko od približno 70 opazovalnic, ki so večinoma v Evropi, zaznajo pa seveda potrese z vsega sveta) - na primer čas potresa, lokacijo (v koordinatah in opisno), globino in magnitudo. Kdorkoli lahko prispeva komentar oziroma fotografijo, če je potres začutil ali opazil posledice (recimo razpoke na hiši). Za posamezen potres, ki je pritegnil vašo pozornost, lahko pridobite ogromno podatkov, ki pa jih na tem mestu ne bomo obravnavali, ker za analizo niso posebej zanimivi.\n",
    "\n",
    "#### Opomba\n",
    "\n",
    "Če vas potresi zelo zanimajo, si oglejte tudi [to projektno nalogo](https://github.com/TinaKrasovec/Potresi-po-Evropi-zadnjih-nekaj-let-z-magnitudo-4). Podobnost je naključna, poskusili pa sva delati tako, da se analiza ne prekriva preveč. Pri delu nisva sodelovali.\n",
    "\n",
    "## Uvod\n",
    "Naložimo csv datoteko in si ogledamo nekaj vrstic za občutek."
   ]
  },
  {
   "cell_type": "code",
   "execution_count": 2,
   "metadata": {
    "collapsed": false
   },
   "outputs": [],
   "source": [
    "import pandas as pd\n",
    "pd.options.display.max_rows = 15\n",
    "\n",
    "\n",
    "%matplotlib inline"
   ]
  },
  {
   "cell_type": "code",
   "execution_count": 5,
   "metadata": {
    "collapsed": false
   },
   "outputs": [],
   "source": [
    "podatki = pd.read_csv('potresi_koncni.csv', index_col = 'id')"
   ]
  },
  {
   "cell_type": "code",
   "execution_count": 36,
   "metadata": {
    "collapsed": false
   },
   "outputs": [
    {
     "data": {
      "text/html": [
       "<div>\n",
       "<table border=\"1\" class=\"dataframe\">\n",
       "  <thead>\n",
       "    <tr style=\"text-align: right;\">\n",
       "      <th></th>\n",
       "      <th>leto</th>\n",
       "      <th>mesec</th>\n",
       "      <th>dan</th>\n",
       "      <th>ura</th>\n",
       "      <th>minuta</th>\n",
       "      <th>sekunda</th>\n",
       "      <th>DOL</th>\n",
       "      <th>dolzina</th>\n",
       "      <th>SIR</th>\n",
       "      <th>sirina</th>\n",
       "      <th>globina</th>\n",
       "      <th>magnituda</th>\n",
       "      <th>regija</th>\n",
       "    </tr>\n",
       "    <tr>\n",
       "      <th>id</th>\n",
       "      <th></th>\n",
       "      <th></th>\n",
       "      <th></th>\n",
       "      <th></th>\n",
       "      <th></th>\n",
       "      <th></th>\n",
       "      <th></th>\n",
       "      <th></th>\n",
       "      <th></th>\n",
       "      <th></th>\n",
       "      <th></th>\n",
       "      <th></th>\n",
       "      <th></th>\n",
       "    </tr>\n",
       "  </thead>\n",
       "  <tbody>\n",
       "    <tr>\n",
       "      <th>537411</th>\n",
       "      <td>2016</td>\n",
       "      <td>10</td>\n",
       "      <td>15</td>\n",
       "      <td>23</td>\n",
       "      <td>40</td>\n",
       "      <td>55.1</td>\n",
       "      <td>E</td>\n",
       "      <td>34.31</td>\n",
       "      <td>N</td>\n",
       "      <td>38.13</td>\n",
       "      <td>4</td>\n",
       "      <td>2.7</td>\n",
       "      <td>CENTRAL TURKEY</td>\n",
       "    </tr>\n",
       "    <tr>\n",
       "      <th>537458</th>\n",
       "      <td>2016</td>\n",
       "      <td>10</td>\n",
       "      <td>15</td>\n",
       "      <td>23</td>\n",
       "      <td>17</td>\n",
       "      <td>42.6</td>\n",
       "      <td>E</td>\n",
       "      <td>27.72</td>\n",
       "      <td>N</td>\n",
       "      <td>38.93</td>\n",
       "      <td>6</td>\n",
       "      <td>2.6</td>\n",
       "      <td>WESTERN TURKEY</td>\n",
       "    </tr>\n",
       "    <tr>\n",
       "      <th>537380</th>\n",
       "      <td>2016</td>\n",
       "      <td>10</td>\n",
       "      <td>15</td>\n",
       "      <td>23</td>\n",
       "      <td>6</td>\n",
       "      <td>59.1</td>\n",
       "      <td>E</td>\n",
       "      <td>20.69</td>\n",
       "      <td>N</td>\n",
       "      <td>39.76</td>\n",
       "      <td>15</td>\n",
       "      <td>4.3</td>\n",
       "      <td>GREECE</td>\n",
       "    </tr>\n",
       "    <tr>\n",
       "      <th>537552</th>\n",
       "      <td>2016</td>\n",
       "      <td>10</td>\n",
       "      <td>15</td>\n",
       "      <td>22</td>\n",
       "      <td>43</td>\n",
       "      <td>13.2</td>\n",
       "      <td>E</td>\n",
       "      <td>38.94</td>\n",
       "      <td>N</td>\n",
       "      <td>19.21</td>\n",
       "      <td>8</td>\n",
       "      <td>3.6</td>\n",
       "      <td>WESTERN TURKEY</td>\n",
       "    </tr>\n",
       "    <tr>\n",
       "      <th>537310</th>\n",
       "      <td>2016</td>\n",
       "      <td>10</td>\n",
       "      <td>15</td>\n",
       "      <td>22</td>\n",
       "      <td>30</td>\n",
       "      <td>26.1</td>\n",
       "      <td>E</td>\n",
       "      <td>71.70</td>\n",
       "      <td>N</td>\n",
       "      <td>41.26</td>\n",
       "      <td>15</td>\n",
       "      <td>3.7</td>\n",
       "      <td>EASTERN UZBEKISTAN</td>\n",
       "    </tr>\n",
       "    <tr>\n",
       "      <th>537551</th>\n",
       "      <td>2016</td>\n",
       "      <td>10</td>\n",
       "      <td>15</td>\n",
       "      <td>22</td>\n",
       "      <td>27</td>\n",
       "      <td>50.9</td>\n",
       "      <td>E</td>\n",
       "      <td>38.94</td>\n",
       "      <td>N</td>\n",
       "      <td>19.29</td>\n",
       "      <td>8</td>\n",
       "      <td>3.6</td>\n",
       "      <td>WESTERN TURKEY</td>\n",
       "    </tr>\n",
       "    <tr>\n",
       "      <th>537553</th>\n",
       "      <td>2016</td>\n",
       "      <td>10</td>\n",
       "      <td>15</td>\n",
       "      <td>22</td>\n",
       "      <td>19</td>\n",
       "      <td>42.0</td>\n",
       "      <td>E</td>\n",
       "      <td>39.75</td>\n",
       "      <td>N</td>\n",
       "      <td>59.75</td>\n",
       "      <td>12</td>\n",
       "      <td>2.6</td>\n",
       "      <td>GREECE</td>\n",
       "    </tr>\n",
       "    <tr>\n",
       "      <th>537557</th>\n",
       "      <td>2016</td>\n",
       "      <td>10</td>\n",
       "      <td>15</td>\n",
       "      <td>21</td>\n",
       "      <td>46</td>\n",
       "      <td>52.8</td>\n",
       "      <td>E</td>\n",
       "      <td>20.70</td>\n",
       "      <td>N</td>\n",
       "      <td>39.70</td>\n",
       "      <td>8</td>\n",
       "      <td>4.3</td>\n",
       "      <td>GREECE</td>\n",
       "    </tr>\n",
       "  </tbody>\n",
       "</table>\n",
       "</div>"
      ],
      "text/plain": [
       "        leto  mesec  dan  ura  minuta  sekunda DOL  dolzina SIR  sirina  \\\n",
       "id                                                                        \n",
       "537411  2016     10   15   23      40     55.1   E    34.31   N   38.13   \n",
       "537458  2016     10   15   23      17     42.6   E    27.72   N   38.93   \n",
       "537380  2016     10   15   23       6     59.1   E    20.69   N   39.76   \n",
       "537552  2016     10   15   22      43     13.2   E    38.94   N   19.21   \n",
       "537310  2016     10   15   22      30     26.1   E    71.70   N   41.26   \n",
       "537551  2016     10   15   22      27     50.9   E    38.94   N   19.29   \n",
       "537553  2016     10   15   22      19     42.0   E    39.75   N   59.75   \n",
       "537557  2016     10   15   21      46     52.8   E    20.70   N   39.70   \n",
       "\n",
       "        globina  magnituda              regija  \n",
       "id                                              \n",
       "537411        4        2.7      CENTRAL TURKEY  \n",
       "537458        6        2.6      WESTERN TURKEY  \n",
       "537380       15        4.3              GREECE  \n",
       "537552        8        3.6      WESTERN TURKEY  \n",
       "537310       15        3.7  EASTERN UZBEKISTAN  \n",
       "537551        8        3.6      WESTERN TURKEY  \n",
       "537553       12        2.6              GREECE  \n",
       "537557        8        4.3              GREECE  "
      ]
     },
     "execution_count": 36,
     "metadata": {},
     "output_type": "execute_result"
    }
   ],
   "source": [
    "podatki[:8]"
   ]
  },
  {
   "cell_type": "markdown",
   "metadata": {},
   "source": [
    "## Kje so se zgodili potresi?\n",
    "\n",
    "Večkrat smo že slišali, da živimo na potresno zelo živahnem območju. Izkaže pa se, da se v smislu potresov v začetku oktobra v Sloveniji ni veliko zgodilo. Opazovalnice so zabeležile en sam potres na našem območju, zato se najbrž spodobi, da ga izpišemo."
   ]
  },
  {
   "cell_type": "code",
   "execution_count": 42,
   "metadata": {
    "collapsed": false
   },
   "outputs": [
    {
     "data": {
      "text/html": [
       "<div>\n",
       "<table border=\"1\" class=\"dataframe\">\n",
       "  <thead>\n",
       "    <tr style=\"text-align: right;\">\n",
       "      <th></th>\n",
       "      <th>leto</th>\n",
       "      <th>mesec</th>\n",
       "      <th>dan</th>\n",
       "      <th>ura</th>\n",
       "      <th>minuta</th>\n",
       "      <th>sekunda</th>\n",
       "      <th>DOL</th>\n",
       "      <th>dolzina</th>\n",
       "      <th>SIR</th>\n",
       "      <th>sirina</th>\n",
       "      <th>globina</th>\n",
       "      <th>magnituda</th>\n",
       "      <th>regija</th>\n",
       "    </tr>\n",
       "    <tr>\n",
       "      <th>id</th>\n",
       "      <th></th>\n",
       "      <th></th>\n",
       "      <th></th>\n",
       "      <th></th>\n",
       "      <th></th>\n",
       "      <th></th>\n",
       "      <th></th>\n",
       "      <th></th>\n",
       "      <th></th>\n",
       "      <th></th>\n",
       "      <th></th>\n",
       "      <th></th>\n",
       "      <th></th>\n",
       "    </tr>\n",
       "  </thead>\n",
       "  <tbody>\n",
       "    <tr>\n",
       "      <th>536262</th>\n",
       "      <td>2016</td>\n",
       "      <td>10</td>\n",
       "      <td>10</td>\n",
       "      <td>11</td>\n",
       "      <td>43</td>\n",
       "      <td>41.6</td>\n",
       "      <td>E</td>\n",
       "      <td>14.59</td>\n",
       "      <td>N</td>\n",
       "      <td>45.94</td>\n",
       "      <td>2</td>\n",
       "      <td>2.0</td>\n",
       "      <td>SLOVENIA</td>\n",
       "    </tr>\n",
       "  </tbody>\n",
       "</table>\n",
       "</div>"
      ],
      "text/plain": [
       "        leto  mesec  dan  ura  minuta  sekunda DOL  dolzina SIR  sirina  \\\n",
       "id                                                                        \n",
       "536262  2016     10   10   11      43     41.6   E    14.59   N   45.94   \n",
       "\n",
       "        globina  magnituda    regija  \n",
       "id                                    \n",
       "536262        2        2.0  SLOVENIA  "
      ]
     },
     "execution_count": 42,
     "metadata": {},
     "output_type": "execute_result"
    }
   ],
   "source": [
    "podatki[podatki.regija == 'SLOVENIA']"
   ]
  },
  {
   "cell_type": "code",
   "execution_count": 45,
   "metadata": {
    "collapsed": false
   },
   "outputs": [
    {
     "data": {
      "text/plain": [
       "leto             2016\n",
       "mesec              10\n",
       "dan                10\n",
       "ura                11\n",
       "minuta             43\n",
       "sekunda          41.6\n",
       "DOL                 E\n",
       "dolzina         14.59\n",
       "SIR                 N\n",
       "sirina          45.94\n",
       "globina             2\n",
       "magnituda           2\n",
       "regija       SLOVENIA\n",
       "Name: 536262, dtype: object"
      ]
     },
     "execution_count": 45,
     "metadata": {},
     "output_type": "execute_result"
    }
   ],
   "source": [
    "podatki.loc[536262]"
   ]
  },
  {
   "cell_type": "markdown",
   "metadata": {},
   "source": [
    "Kako zanimivo! Potres se je zgodil v ponedeljek, 10. oktobra ob 11:43, ko so potekale vaje za programiranje.\n",
    "\n",
    "V katerih državah pa se je zgodilo največ potresov?"
   ]
  },
  {
   "cell_type": "code",
   "execution_count": 56,
   "metadata": {
    "collapsed": false
   },
   "outputs": [
    {
     "data": {
      "text/plain": [
       "WESTERN TURKEY                      242\n",
       "GREECE                               69\n",
       "CENTRAL TURKEY                       65\n",
       "OKLAHOMA                             58\n",
       "EASTERN TURKEY                       57\n",
       "VIRGIN ISLANDS REGION                56\n",
       "CENTRAL ITALY                        54\n",
       "                                   ... \n",
       "SAN FRANCISCO BAY, CALIFORNIA         1\n",
       "WASHINGTON                            1\n",
       "OFFSHORE CHIAPAS, MEXICO              1\n",
       "BULGARIA-GREECE-TURKEY BORDER RG      1\n",
       "OFFSHORE LOS LAGOS, CHILE             1\n",
       "OFF COAST OF CENTRAL PERU             1\n",
       "OFFSHORE MAULE, CHILE                 1\n",
       "Name: regija, dtype: int64"
      ]
     },
     "execution_count": 56,
     "metadata": {},
     "output_type": "execute_result"
    }
   ],
   "source": [
    "podatki['regija'].value_counts()"
   ]
  },
  {
   "cell_type": "markdown",
   "metadata": {},
   "source": [
    "Turčija je očitno potresno zelo zanimiva država, saj med prvimi petimi regijami nastopi kar trikrat s skupno več kot 350 potresi. Presenetljivo torej že zelo površen pregled pokaže, da se je približno vsak četrti potres zgodil v Turčiji.\n",
    "\n",
    "Opazimo pa tudi težavo. Sklepali bi, da so potresno aktivna območja deljena v manjše regije (kot zgoraj Turčija in recimo Čile) zato, da tisti, ki se s tem ukvarjajo, že na prvi pogled bolj natančno vedo, kje je bil potres.\n",
    "\n",
    "?? ?? Recimo pa, da nas ne zanima, v katerem delu države se je potres zgodil, ampak samo država. ?? ??\n",
    "\n",
    "88888888888888888888888888888888888888888888888888888888888888888888888888888888888888888888888888888888888888888"
   ]
  },
  {
   "cell_type": "markdown",
   "metadata": {},
   "source": []
  },
  {
   "cell_type": "code",
   "execution_count": null,
   "metadata": {
    "collapsed": false
   },
   "outputs": [],
   "source": [
    "po_dnevu = podatki.groupby('dan')\n",
    "po_dnevu.size().plot(kind='bar')"
   ]
  },
  {
   "cell_type": "code",
   "execution_count": null,
   "metadata": {
    "collapsed": false
   },
   "outputs": [],
   "source": [
    "podatki.groupby('ura')['magnituda'].mean().plot()"
   ]
  },
  {
   "cell_type": "code",
   "execution_count": null,
   "metadata": {
    "collapsed": false
   },
   "outputs": [],
   "source": [
    "regije = podatki.groupby('regija')\n",
    "regije['magnituda'].sum().sort_values(ascending=False)[:20]"
   ]
  },
  {
   "cell_type": "code",
   "execution_count": null,
   "metadata": {
    "collapsed": false
   },
   "outputs": [],
   "source": [
    "regije['magnituda'].mean().sort_values(ascending=False)[:20]"
   ]
  },
  {
   "cell_type": "markdown",
   "metadata": {},
   "source": [
    "Opazimo razliko med [18] in [19], hipoteza morje - kopno..."
   ]
  },
  {
   "cell_type": "code",
   "execution_count": 6,
   "metadata": {
    "collapsed": false
   },
   "outputs": [
    {
     "data": {
      "text/plain": [
       "<matplotlib.axes._subplots.AxesSubplot at 0x4fec050>"
      ]
     },
     "execution_count": 6,
     "metadata": {},
     "output_type": "execute_result"
    },
    {
     "data": {
      "image/png": "[encoded data removed]",
      "text/plain": [
       "<matplotlib.figure.Figure at 0x4fc1bd0>"
      ]
     },
     "metadata": {},
     "output_type": "display_data"
    }
   ],
   "source": [
    "dolzina = podatki.groupby('DOL')\n",
    "dolzina.size().plot(kind = 'pie')\n"
   ]
  },
  {
   "cell_type": "code",
   "execution_count": 16,
   "metadata": {
    "collapsed": false
   },
   "outputs": [],
   "source": [
    "sirina = podatki.groupby('SIR')\n",
    "#sirina['magnituda'].mean()\n",
    "#sirina.size().plot(kind = 'pie')"
   ]
  },
  {
   "cell_type": "markdown",
   "metadata": {},
   "source": [
    "zanimivo. opazovalnice, Afrika, morje...?"
   ]
  },
  {
   "cell_type": "code",
   "execution_count": null,
   "metadata": {
    "collapsed": false
   },
   "outputs": [],
   "source": [
    "globina = podatki.groupby('globina')\n",
    "globina.size().plot()"
   ]
  },
  {
   "cell_type": "code",
   "execution_count": 24,
   "metadata": {
    "collapsed": false
   },
   "outputs": [],
   "source": [
    "#podatki.groupby('globina')['magnituda'].mean().plot()\n",
    "#podatki.groupby('globina')['magnituda'].value_counts().plot()\n",
    "#podatki.groupby('globina')['magnituda'].size().plot()"
   ]
  },
  {
   "cell_type": "code",
   "execution_count": 26,
   "metadata": {
    "collapsed": false
   },
   "outputs": [
    {
     "data": {
      "text/plain": [
       "<matplotlib.axes._subplots.AxesSubplot at 0x831e250>"
      ]
     },
     "execution_count": 26,
     "metadata": {},
     "output_type": "execute_result"
    },
    {
     "data": {
      "image/png": "[encoded data removed]",
      "text/plain": [
       "<matplotlib.figure.Figure at 0x840cf90>"
      ]
     },
     "metadata": {},
     "output_type": "display_data"
    }
   ],
   "source": [
    "podatki.groupby('magnituda')['globina'].sum().plot()"
   ]
  },
  {
   "cell_type": "code",
   "execution_count": 25,
   "metadata": {
    "collapsed": false
   },
   "outputs": [
    {
     "data": {
      "text/plain": [
       "<matplotlib.axes._subplots.AxesSubplot at 0x8305eb0>"
      ]
     },
     "execution_count": 25,
     "metadata": {},
     "output_type": "execute_result"
    },
    {
     "data": {
      "image/png": "[encoded data removed]",
      "text/plain": [
       "<matplotlib.figure.Figure at 0x82bbf70>"
      ]
     },
     "metadata": {},
     "output_type": "display_data"
    }
   ],
   "source": [
    "podatki.groupby('magnituda')['globina'].mean().plot()"
   ]
  },
  {
   "cell_type": "code",
   "execution_count": null,
   "metadata": {
    "collapsed": false
   },
   "outputs": [],
   "source": [
    "podatki.groupby('regija')"
   ]
  },
  {
   "cell_type": "code",
   "execution_count": null,
   "metadata": {
    "collapsed": false
   },
   "outputs": [],
   "source": []
  },
  {
   "cell_type": "code",
   "execution_count": null,
   "metadata": {
    "collapsed": false
   },
   "outputs": [],
   "source": []
  },
  {
   "cell_type": "code",
   "execution_count": null,
   "metadata": {
    "collapsed": false
   },
   "outputs": [],
   "source": []
  },
  {
   "cell_type": "code",
   "execution_count": null,
   "metadata": {
    "collapsed": true
   },
   "outputs": [],
   "source": []
  }
 ],
 "metadata": {
  "kernelspec": {
   "display_name": "Python 3",
   "language": "python",
   "name": "python3"
  },
  "language_info": {
   "codemirror_mode": {
    "name": "ipython",
    "version": 3
   },
   "file_extension": ".py",
   "mimetype": "text/x-python",
   "name": "python",
   "nbconvert_exporter": "python",
   "pygments_lexer": "ipython3",
   "version": "3.5.2"
  }
 },
 "nbformat": 4,
 "nbformat_minor": 2
}
