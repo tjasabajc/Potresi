{
 "cells": [
  {
   "cell_type": "markdown",
   "metadata": {},
   "source": [
    "# Potresi\n",
    "\n",
    "V projektni nalogi bom analizirala podatke o potresih od [tukaj](http://www.emsc-csem.org/) (European-Mediterranean Seismological Centre). Odločila sem se za potrese, ki so se zgodili v prvih dveh tednih oktobra (torej do 15. oktobra), ker da ta časovni okvir ravno pravšnje število podatkov - nekaj več kot 1300 potresov.\n",
    "\n",
    "Na navedeni strani najdete podatke o zadnjih potresih po svetu (podatke sicer pridobivajo avtomatsko od približno 70 opazovalnic, ki so večinoma v Evropi, zaznajo pa seveda potrese z vsega sveta) - na primer čas potresa, lokacijo (v koordinatah in opisno), globino in magnitudo. Kdorkoli lahko prispeva komentar oziroma fotografijo, če je potres začutil ali opazil posledice (recimo razpoke na hiši). Za posamezen potres, ki je pritegnil vašo pozornost, lahko pridobite ogromno podatkov, ki pa jih na tem mestu ne bomo obravnavali, ker za analizo niso posebej zanimivi.\n",
    "\n",
    "#### Opomba\n",
    "\n",
    "Če vas potresi zelo zanimajo, si oglejte tudi [to projektno nalogo](https://github.com/TinaKrasovec/Potresi-po-Evropi-zadnjih-nekaj-let-z-magnitudo-4). Podobnost je naključna, poskusili pa sva delati tako, da se analiza ne prekriva preveč. Pri delu nisva sodelovali.\n",
    "\n",
    "## Uvod\n",
    "Naložimo csv datoteko in si oglejmo nekaj vrstic za občutek."
   ]
  },
  {
   "cell_type": "code",
   "execution_count": 1,
   "metadata": {
    "collapsed": true
   },
   "outputs": [],
   "source": [
    "import pandas as pd\n",
    "pd.options.display.max_rows = 15\n",
    "\n",
    "\n",
    "%matplotlib inline"
   ]
  },
  {
   "cell_type": "code",
   "execution_count": 2,
   "metadata": {
    "collapsed": false
   },
   "outputs": [
    {
     "data": {
      "text/html": [
       "<div>\n",
       "<table border=\"1\" class=\"dataframe\">\n",
       "  <thead>\n",
       "    <tr style=\"text-align: right;\">\n",
       "      <th></th>\n",
       "      <th>leto</th>\n",
       "      <th>mesec</th>\n",
       "      <th>dan</th>\n",
       "      <th>ura</th>\n",
       "      <th>minuta</th>\n",
       "      <th>sekunda</th>\n",
       "      <th>DOL</th>\n",
       "      <th>dolzina</th>\n",
       "      <th>SIR</th>\n",
       "      <th>sirina</th>\n",
       "      <th>globina</th>\n",
       "      <th>magnituda</th>\n",
       "      <th>regija</th>\n",
       "    </tr>\n",
       "    <tr>\n",
       "      <th>id</th>\n",
       "      <th></th>\n",
       "      <th></th>\n",
       "      <th></th>\n",
       "      <th></th>\n",
       "      <th></th>\n",
       "      <th></th>\n",
       "      <th></th>\n",
       "      <th></th>\n",
       "      <th></th>\n",
       "      <th></th>\n",
       "      <th></th>\n",
       "      <th></th>\n",
       "      <th></th>\n",
       "    </tr>\n",
       "  </thead>\n",
       "  <tbody>\n",
       "    <tr>\n",
       "      <th>537411</th>\n",
       "      <td>2016</td>\n",
       "      <td>10</td>\n",
       "      <td>15</td>\n",
       "      <td>23</td>\n",
       "      <td>40</td>\n",
       "      <td>55.1</td>\n",
       "      <td>E</td>\n",
       "      <td>34.31</td>\n",
       "      <td>N</td>\n",
       "      <td>38.13</td>\n",
       "      <td>4</td>\n",
       "      <td>2.7</td>\n",
       "      <td>CENTRAL TURKEY</td>\n",
       "    </tr>\n",
       "    <tr>\n",
       "      <th>537458</th>\n",
       "      <td>2016</td>\n",
       "      <td>10</td>\n",
       "      <td>15</td>\n",
       "      <td>23</td>\n",
       "      <td>17</td>\n",
       "      <td>42.6</td>\n",
       "      <td>E</td>\n",
       "      <td>27.72</td>\n",
       "      <td>N</td>\n",
       "      <td>38.93</td>\n",
       "      <td>6</td>\n",
       "      <td>2.6</td>\n",
       "      <td>WESTERN TURKEY</td>\n",
       "    </tr>\n",
       "    <tr>\n",
       "      <th>537380</th>\n",
       "      <td>2016</td>\n",
       "      <td>10</td>\n",
       "      <td>15</td>\n",
       "      <td>23</td>\n",
       "      <td>6</td>\n",
       "      <td>59.1</td>\n",
       "      <td>E</td>\n",
       "      <td>20.69</td>\n",
       "      <td>N</td>\n",
       "      <td>39.76</td>\n",
       "      <td>15</td>\n",
       "      <td>4.3</td>\n",
       "      <td>GREECE</td>\n",
       "    </tr>\n",
       "    <tr>\n",
       "      <th>537552</th>\n",
       "      <td>2016</td>\n",
       "      <td>10</td>\n",
       "      <td>15</td>\n",
       "      <td>22</td>\n",
       "      <td>43</td>\n",
       "      <td>13.2</td>\n",
       "      <td>E</td>\n",
       "      <td>38.94</td>\n",
       "      <td>N</td>\n",
       "      <td>19.21</td>\n",
       "      <td>8</td>\n",
       "      <td>3.6</td>\n",
       "      <td>WESTERN TURKEY</td>\n",
       "    </tr>\n",
       "    <tr>\n",
       "      <th>537310</th>\n",
       "      <td>2016</td>\n",
       "      <td>10</td>\n",
       "      <td>15</td>\n",
       "      <td>22</td>\n",
       "      <td>30</td>\n",
       "      <td>26.1</td>\n",
       "      <td>E</td>\n",
       "      <td>71.70</td>\n",
       "      <td>N</td>\n",
       "      <td>41.26</td>\n",
       "      <td>15</td>\n",
       "      <td>3.7</td>\n",
       "      <td>EASTERN UZBEKISTAN</td>\n",
       "    </tr>\n",
       "    <tr>\n",
       "      <th>537551</th>\n",
       "      <td>2016</td>\n",
       "      <td>10</td>\n",
       "      <td>15</td>\n",
       "      <td>22</td>\n",
       "      <td>27</td>\n",
       "      <td>50.9</td>\n",
       "      <td>E</td>\n",
       "      <td>38.94</td>\n",
       "      <td>N</td>\n",
       "      <td>19.29</td>\n",
       "      <td>8</td>\n",
       "      <td>3.6</td>\n",
       "      <td>WESTERN TURKEY</td>\n",
       "    </tr>\n",
       "    <tr>\n",
       "      <th>537553</th>\n",
       "      <td>2016</td>\n",
       "      <td>10</td>\n",
       "      <td>15</td>\n",
       "      <td>22</td>\n",
       "      <td>19</td>\n",
       "      <td>42.0</td>\n",
       "      <td>E</td>\n",
       "      <td>39.75</td>\n",
       "      <td>N</td>\n",
       "      <td>59.75</td>\n",
       "      <td>12</td>\n",
       "      <td>2.6</td>\n",
       "      <td>GREECE</td>\n",
       "    </tr>\n",
       "  </tbody>\n",
       "</table>\n",
       "</div>"
      ],
      "text/plain": [
       "        leto  mesec  dan  ura  minuta  sekunda DOL  dolzina SIR  sirina  \\\n",
       "id                                                                        \n",
       "537411  2016     10   15   23      40     55.1   E    34.31   N   38.13   \n",
       "537458  2016     10   15   23      17     42.6   E    27.72   N   38.93   \n",
       "537380  2016     10   15   23       6     59.1   E    20.69   N   39.76   \n",
       "537552  2016     10   15   22      43     13.2   E    38.94   N   19.21   \n",
       "537310  2016     10   15   22      30     26.1   E    71.70   N   41.26   \n",
       "537551  2016     10   15   22      27     50.9   E    38.94   N   19.29   \n",
       "537553  2016     10   15   22      19     42.0   E    39.75   N   59.75   \n",
       "\n",
       "        globina  magnituda              regija  \n",
       "id                                              \n",
       "537411        4        2.7      CENTRAL TURKEY  \n",
       "537458        6        2.6      WESTERN TURKEY  \n",
       "537380       15        4.3              GREECE  \n",
       "537552        8        3.6      WESTERN TURKEY  \n",
       "537310       15        3.7  EASTERN UZBEKISTAN  \n",
       "537551        8        3.6      WESTERN TURKEY  \n",
       "537553       12        2.6              GREECE  "
      ]
     },
     "execution_count": 2,
     "metadata": {},
     "output_type": "execute_result"
    }
   ],
   "source": [
    "podatki = pd.read_csv('potresi_koncni.csv', index_col = 'id')\n",
    "podatki[:7]"
   ]
  },
  {
   "cell_type": "markdown",
   "metadata": {},
   "source": [
    "## Kje so se zgodili potresi?\n",
    "\n",
    "Večkrat smo že slišali, da živimo na potresno zelo živahnem območju. Izkaže pa se, da se v smislu potresov v začetku oktobra v Sloveniji ni veliko zgodilo. Opazovalnice so zabeležile en sam potres na našem območju, zato se najbrž spodobi, da ga izpišemo."
   ]
  },
  {
   "cell_type": "code",
   "execution_count": 3,
   "metadata": {
    "collapsed": false
   },
   "outputs": [
    {
     "data": {
      "text/html": [
       "<div>\n",
       "<table border=\"1\" class=\"dataframe\">\n",
       "  <thead>\n",
       "    <tr style=\"text-align: right;\">\n",
       "      <th></th>\n",
       "      <th>leto</th>\n",
       "      <th>mesec</th>\n",
       "      <th>dan</th>\n",
       "      <th>ura</th>\n",
       "      <th>minuta</th>\n",
       "      <th>sekunda</th>\n",
       "      <th>DOL</th>\n",
       "      <th>dolzina</th>\n",
       "      <th>SIR</th>\n",
       "      <th>sirina</th>\n",
       "      <th>globina</th>\n",
       "      <th>magnituda</th>\n",
       "      <th>regija</th>\n",
       "    </tr>\n",
       "    <tr>\n",
       "      <th>id</th>\n",
       "      <th></th>\n",
       "      <th></th>\n",
       "      <th></th>\n",
       "      <th></th>\n",
       "      <th></th>\n",
       "      <th></th>\n",
       "      <th></th>\n",
       "      <th></th>\n",
       "      <th></th>\n",
       "      <th></th>\n",
       "      <th></th>\n",
       "      <th></th>\n",
       "      <th></th>\n",
       "    </tr>\n",
       "  </thead>\n",
       "  <tbody>\n",
       "    <tr>\n",
       "      <th>536262</th>\n",
       "      <td>2016</td>\n",
       "      <td>10</td>\n",
       "      <td>10</td>\n",
       "      <td>11</td>\n",
       "      <td>43</td>\n",
       "      <td>41.6</td>\n",
       "      <td>E</td>\n",
       "      <td>14.59</td>\n",
       "      <td>N</td>\n",
       "      <td>45.94</td>\n",
       "      <td>2</td>\n",
       "      <td>2.0</td>\n",
       "      <td>SLOVENIA</td>\n",
       "    </tr>\n",
       "  </tbody>\n",
       "</table>\n",
       "</div>"
      ],
      "text/plain": [
       "        leto  mesec  dan  ura  minuta  sekunda DOL  dolzina SIR  sirina  \\\n",
       "id                                                                        \n",
       "536262  2016     10   10   11      43     41.6   E    14.59   N   45.94   \n",
       "\n",
       "        globina  magnituda    regija  \n",
       "id                                    \n",
       "536262        2        2.0  SLOVENIA  "
      ]
     },
     "execution_count": 3,
     "metadata": {},
     "output_type": "execute_result"
    }
   ],
   "source": [
    "podatki[podatki.regija == 'SLOVENIA']"
   ]
  },
  {
   "cell_type": "code",
   "execution_count": 4,
   "metadata": {
    "collapsed": false
   },
   "outputs": [
    {
     "data": {
      "text/plain": [
       "leto             2016\n",
       "mesec              10\n",
       "dan                10\n",
       "ura                11\n",
       "minuta             43\n",
       "sekunda          41.6\n",
       "DOL                 E\n",
       "dolzina         14.59\n",
       "SIR                 N\n",
       "sirina          45.94\n",
       "globina             2\n",
       "magnituda           2\n",
       "regija       SLOVENIA\n",
       "Name: 536262, dtype: object"
      ]
     },
     "execution_count": 4,
     "metadata": {},
     "output_type": "execute_result"
    }
   ],
   "source": [
    "podatki.loc[536262]"
   ]
  },
  {
   "cell_type": "markdown",
   "metadata": {},
   "source": [
    "Kako zanimivo! Potres se je zgodil v ponedeljek, 10. oktobra ob 11:43, ko so potekale vaje za programiranje.\n",
    "\n",
    "V katerih državah pa se je zgodilo največ potresov?"
   ]
  },
  {
   "cell_type": "code",
   "execution_count": 5,
   "metadata": {
    "collapsed": false
   },
   "outputs": [
    {
     "data": {
      "text/plain": [
       "WESTERN TURKEY                      242\n",
       "GREECE                               69\n",
       "CENTRAL TURKEY                       65\n",
       "OKLAHOMA                             58\n",
       "EASTERN TURKEY                       57\n",
       "VIRGIN ISLANDS REGION                56\n",
       "CENTRAL ITALY                        54\n",
       "                                   ... \n",
       "VERACRUZ, MEXICO                      1\n",
       "MENDOZA, ARGENTINA                    1\n",
       "DOMINICA REGION, LEEWARD ISLANDS      1\n",
       "BONIN ISLANDS, JAPAN REGION           1\n",
       "SOUTH OF ALEUTIAN ISLANDS             1\n",
       "JUJUY, ARGENTINA                      1\n",
       "OREGON                                1\n",
       "Name: regija, dtype: int64"
      ]
     },
     "execution_count": 5,
     "metadata": {},
     "output_type": "execute_result"
    }
   ],
   "source": [
    "stevilo_regije = podatki['regija'].value_counts()\n",
    "stevilo_regije"
   ]
  },
  {
   "cell_type": "markdown",
   "metadata": {},
   "source": [
    "Turčija je očitno potresno zelo zanimiva država, saj med prvimi petimi regijami nastopi kar trikrat s skupno več kot 350 potresi. Presenetljivo torej že zelo površen pregled pokaže, da se je približno vsak četrti potres zgodil v Turčiji.\n",
    "\n",
    "Opazimo pa tudi težavo. Sklepali bi, da so potresno aktivna območja deljena v manjše regije (kot zgoraj Turčija in recimo Čile) zato, da tisti, ki se s tem ukvarjajo, že na prvi pogled bolj natančno vedo, kje je bil potres. Recimo pa, da nas ne zanima, v katerem delu države se je potres zgodil, ampak samo država, ker bodo v tem primeru podatki preglednejši.\n",
    "\n",
    "### Funkcija, ki regijo spremeni v državo\n",
    "\n",
    "Spodnja funkcija iz regije približno naredi državo (tabeli dodamo stolpec \"drzava\"). Zakaj samo približno? Ime regije je zapisano v več oblikah in manjšinski del teh opisov funkcija ohrani, čeprav niso idealni. Spodaj je za vsako obliko napisano, kaj funkcija pretvori_v_drzavo z njo naredi:\n",
    "\n",
    "- imenovanje regije s stranmi neba (zahodna, osrednja ...): V tem primeru ohranimo samo ime države\n",
    "- zapis oblike 'mesto/pokrajina, država': V tem primeru zbrišemo vse pred vejico\n",
    "- širše območje neke države (predpostavljam, da gre za otočja), npr 'FIJI REGION': ohranimo samo ime države\n",
    "- zaradi neznanega razloga je Kalifornija včasih imenovana 'CALIF.' (pri drugih državah tega nisem opazila): Spremenimo v 'CALIFORNIA'\n",
    "- območje na morju ('OFFSHORE ...' ali 'NEAR THE COAST OF ...'): Izbrišemo opis območja\n",
    "\n",
    "En opis, ki ga nisem popravljala, je recimo mejno območje med dvema državama (kot recimo 'CHINA-LAOS BORDER REG'). Dobiti stoplec, ki bi vseboval izključno samo države, pa je iz teh podatkov skoraj nemogoče. Ena izmed regij, kot vidimo zgoraj, so npr. Pireneji, gorovje med Španijo in Francijo. Tega ne moremo popraviti z nobeno funkcijo."
   ]
  },
  {
   "cell_type": "code",
   "execution_count": 18,
   "metadata": {
    "collapsed": true
   },
   "outputs": [],
   "source": [
    "def pretvori_v_drzavo2(reg):\n",
    "    odvec = {'WESTERN': 8, 'EASTERN': 8, 'CENTRAL': 8, 'SOUTHER': 9, 'NORTHER': 9, 'OFFSHOR' : 9, 'NEAR TH' : 18}\n",
    "    zacetek = reg[:7]\n",
    "    \n",
    "    if ', ' in reg:\n",
    "        vejica = reg.index(',')\n",
    "        nova_regija = reg[vejica + 2:]\n",
    "        return pretvori_v_drzavo(nova_regija)\n",
    "    elif reg[-7:] == ' REGION':\n",
    "        nova_regija = reg[:-7]\n",
    "        return pretvori_v_drzavo(nova_regija)\n",
    "    elif zacetek in odvec:\n",
    "        nova_regija = reg[odvec[zacetek]:]\n",
    "        return pretvori_v_drzavo(nova_regija)\n",
    "    elif reg[-7:] == 'CALIF.':\n",
    "        return 'CALIFORNIA'\n",
    "    else:\n",
    "        return reg"
   ]
  },
  {
   "cell_type": "code",
   "execution_count": 100,
   "metadata": {
    "collapsed": false
   },
   "outputs": [],
   "source": [
    "def pretvori_v_drzavo(reg):\n",
    "    odvec = {'WESTERN': 8, 'EASTERN': 8, 'CENTRAL': 8, 'SOUTHERN': 9, 'NORTHERN': 9, 'OFFSHORE' : 9, 'NEAR' : 18, 'REGION' : -7, 'PENINSULA' : -10, 'GULF' : 8}\n",
    "    \n",
    "    if ' ' in reg:\n",
    "        zacetek = reg[:reg.index(' ')]           # Izrežemo prvo besedo (od začetka do prvega presledka).\n",
    "        konec = reg[-(reg[::-1].index(' ')):]    # Izrežemo zadnjo besedo (od konca do zadnjega presledka).\n",
    "    elif reg == 'CALIF.':\n",
    "        return 'CALIFORNIA'\n",
    "    else:\n",
    "        return reg\n",
    "    \n",
    "    if ',' in reg:\n",
    "        vejica = reg.index(',')\n",
    "        nova_regija = reg[vejica + 2:]\n",
    "        return pretvori_v_drzavo(nova_regija)\n",
    "    elif zacetek in odvec:\n",
    "        nova_regija = reg[odvec[zacetek]:]\n",
    "        return pretvori_v_drzavo(nova_regija)\n",
    "    elif konec in odvec:\n",
    "        nova_regija = reg[:odvec[konec]]\n",
    "        return pretvori_v_drzavo(nova_regija)\n",
    "    else:\n",
    "        return reg"
   ]
  },
  {
   "cell_type": "code",
   "execution_count": 120,
   "metadata": {
    "collapsed": false
   },
   "outputs": [
    {
     "data": {
      "text/html": [
       "<div>\n",
       "<table border=\"1\" class=\"dataframe\">\n",
       "  <thead>\n",
       "    <tr style=\"text-align: right;\">\n",
       "      <th></th>\n",
       "      <th>leto</th>\n",
       "      <th>mesec</th>\n",
       "      <th>dan</th>\n",
       "      <th>ura</th>\n",
       "      <th>minuta</th>\n",
       "      <th>sekunda</th>\n",
       "      <th>DOL</th>\n",
       "      <th>dolzina</th>\n",
       "      <th>SIR</th>\n",
       "      <th>sirina</th>\n",
       "      <th>globina</th>\n",
       "      <th>magnituda</th>\n",
       "      <th>regija</th>\n",
       "      <th>drzava</th>\n",
       "    </tr>\n",
       "    <tr>\n",
       "      <th>id</th>\n",
       "      <th></th>\n",
       "      <th></th>\n",
       "      <th></th>\n",
       "      <th></th>\n",
       "      <th></th>\n",
       "      <th></th>\n",
       "      <th></th>\n",
       "      <th></th>\n",
       "      <th></th>\n",
       "      <th></th>\n",
       "      <th></th>\n",
       "      <th></th>\n",
       "      <th></th>\n",
       "      <th></th>\n",
       "    </tr>\n",
       "  </thead>\n",
       "  <tbody>\n",
       "    <tr>\n",
       "      <th>537411</th>\n",
       "      <td>2016</td>\n",
       "      <td>10</td>\n",
       "      <td>15</td>\n",
       "      <td>23</td>\n",
       "      <td>40</td>\n",
       "      <td>55.1</td>\n",
       "      <td>E</td>\n",
       "      <td>34.31</td>\n",
       "      <td>N</td>\n",
       "      <td>38.13</td>\n",
       "      <td>4</td>\n",
       "      <td>2.7</td>\n",
       "      <td>CENTRAL TURKEY</td>\n",
       "      <td>TURKEY</td>\n",
       "    </tr>\n",
       "    <tr>\n",
       "      <th>537458</th>\n",
       "      <td>2016</td>\n",
       "      <td>10</td>\n",
       "      <td>15</td>\n",
       "      <td>23</td>\n",
       "      <td>17</td>\n",
       "      <td>42.6</td>\n",
       "      <td>E</td>\n",
       "      <td>27.72</td>\n",
       "      <td>N</td>\n",
       "      <td>38.93</td>\n",
       "      <td>6</td>\n",
       "      <td>2.6</td>\n",
       "      <td>WESTERN TURKEY</td>\n",
       "      <td>TURKEY</td>\n",
       "    </tr>\n",
       "    <tr>\n",
       "      <th>537380</th>\n",
       "      <td>2016</td>\n",
       "      <td>10</td>\n",
       "      <td>15</td>\n",
       "      <td>23</td>\n",
       "      <td>6</td>\n",
       "      <td>59.1</td>\n",
       "      <td>E</td>\n",
       "      <td>20.69</td>\n",
       "      <td>N</td>\n",
       "      <td>39.76</td>\n",
       "      <td>15</td>\n",
       "      <td>4.3</td>\n",
       "      <td>GREECE</td>\n",
       "      <td>GREECE</td>\n",
       "    </tr>\n",
       "    <tr>\n",
       "      <th>537552</th>\n",
       "      <td>2016</td>\n",
       "      <td>10</td>\n",
       "      <td>15</td>\n",
       "      <td>22</td>\n",
       "      <td>43</td>\n",
       "      <td>13.2</td>\n",
       "      <td>E</td>\n",
       "      <td>38.94</td>\n",
       "      <td>N</td>\n",
       "      <td>19.21</td>\n",
       "      <td>8</td>\n",
       "      <td>3.6</td>\n",
       "      <td>WESTERN TURKEY</td>\n",
       "      <td>TURKEY</td>\n",
       "    </tr>\n",
       "    <tr>\n",
       "      <th>537310</th>\n",
       "      <td>2016</td>\n",
       "      <td>10</td>\n",
       "      <td>15</td>\n",
       "      <td>22</td>\n",
       "      <td>30</td>\n",
       "      <td>26.1</td>\n",
       "      <td>E</td>\n",
       "      <td>71.70</td>\n",
       "      <td>N</td>\n",
       "      <td>41.26</td>\n",
       "      <td>15</td>\n",
       "      <td>3.7</td>\n",
       "      <td>EASTERN UZBEKISTAN</td>\n",
       "      <td>UZBEKISTAN</td>\n",
       "    </tr>\n",
       "    <tr>\n",
       "      <th>537551</th>\n",
       "      <td>2016</td>\n",
       "      <td>10</td>\n",
       "      <td>15</td>\n",
       "      <td>22</td>\n",
       "      <td>27</td>\n",
       "      <td>50.9</td>\n",
       "      <td>E</td>\n",
       "      <td>38.94</td>\n",
       "      <td>N</td>\n",
       "      <td>19.29</td>\n",
       "      <td>8</td>\n",
       "      <td>3.6</td>\n",
       "      <td>WESTERN TURKEY</td>\n",
       "      <td>TURKEY</td>\n",
       "    </tr>\n",
       "    <tr>\n",
       "      <th>537553</th>\n",
       "      <td>2016</td>\n",
       "      <td>10</td>\n",
       "      <td>15</td>\n",
       "      <td>22</td>\n",
       "      <td>19</td>\n",
       "      <td>42.0</td>\n",
       "      <td>E</td>\n",
       "      <td>39.75</td>\n",
       "      <td>N</td>\n",
       "      <td>59.75</td>\n",
       "      <td>12</td>\n",
       "      <td>2.6</td>\n",
       "      <td>GREECE</td>\n",
       "      <td>GREECE</td>\n",
       "    </tr>\n",
       "    <tr>\n",
       "      <th>...</th>\n",
       "      <td>...</td>\n",
       "      <td>...</td>\n",
       "      <td>...</td>\n",
       "      <td>...</td>\n",
       "      <td>...</td>\n",
       "      <td>...</td>\n",
       "      <td>...</td>\n",
       "      <td>...</td>\n",
       "      <td>...</td>\n",
       "      <td>...</td>\n",
       "      <td>...</td>\n",
       "      <td>...</td>\n",
       "      <td>...</td>\n",
       "      <td>...</td>\n",
       "    </tr>\n",
       "    <tr>\n",
       "      <th>534543</th>\n",
       "      <td>2016</td>\n",
       "      <td>10</td>\n",
       "      <td>1</td>\n",
       "      <td>5</td>\n",
       "      <td>3</td>\n",
       "      <td>4.4</td>\n",
       "      <td>W</td>\n",
       "      <td>64.96</td>\n",
       "      <td>N</td>\n",
       "      <td>19.01</td>\n",
       "      <td>40</td>\n",
       "      <td>2.1</td>\n",
       "      <td>VIRGIN ISLANDS REGION</td>\n",
       "      <td>VIRGIN ISLANDS</td>\n",
       "    </tr>\n",
       "    <tr>\n",
       "      <th>534513</th>\n",
       "      <td>2016</td>\n",
       "      <td>10</td>\n",
       "      <td>1</td>\n",
       "      <td>4</td>\n",
       "      <td>58</td>\n",
       "      <td>33.4</td>\n",
       "      <td>W</td>\n",
       "      <td>62.21</td>\n",
       "      <td>N</td>\n",
       "      <td>20.21</td>\n",
       "      <td>11</td>\n",
       "      <td>3.4</td>\n",
       "      <td>CENTRAL ALASKA</td>\n",
       "      <td>ALASKA</td>\n",
       "    </tr>\n",
       "    <tr>\n",
       "      <th>534542</th>\n",
       "      <td>2016</td>\n",
       "      <td>10</td>\n",
       "      <td>1</td>\n",
       "      <td>4</td>\n",
       "      <td>48</td>\n",
       "      <td>29.7</td>\n",
       "      <td>E</td>\n",
       "      <td>41.01</td>\n",
       "      <td>N</td>\n",
       "      <td>42.33</td>\n",
       "      <td>1</td>\n",
       "      <td>3.0</td>\n",
       "      <td>BLACK SEA, OFFSHORE GEORGIA</td>\n",
       "      <td>GEORGIA</td>\n",
       "    </tr>\n",
       "    <tr>\n",
       "      <th>534542</th>\n",
       "      <td>2016</td>\n",
       "      <td>10</td>\n",
       "      <td>1</td>\n",
       "      <td>4</td>\n",
       "      <td>48</td>\n",
       "      <td>29.7</td>\n",
       "      <td>E</td>\n",
       "      <td>41.01</td>\n",
       "      <td>N</td>\n",
       "      <td>42.33</td>\n",
       "      <td>1</td>\n",
       "      <td>3.0</td>\n",
       "      <td>BLACK SEA, OFFSHORE GEORGIA</td>\n",
       "      <td>GEORGIA</td>\n",
       "    </tr>\n",
       "    <tr>\n",
       "      <th>534510</th>\n",
       "      <td>2016</td>\n",
       "      <td>10</td>\n",
       "      <td>1</td>\n",
       "      <td>4</td>\n",
       "      <td>39</td>\n",
       "      <td>42.5</td>\n",
       "      <td>W</td>\n",
       "      <td>92.71</td>\n",
       "      <td>N</td>\n",
       "      <td>14.65</td>\n",
       "      <td>80</td>\n",
       "      <td>4.5</td>\n",
       "      <td>OFFSHORE CHIAPAS, MEXICO</td>\n",
       "      <td>MEXICO</td>\n",
       "    </tr>\n",
       "    <tr>\n",
       "      <th>534549</th>\n",
       "      <td>2016</td>\n",
       "      <td>10</td>\n",
       "      <td>1</td>\n",
       "      <td>4</td>\n",
       "      <td>38</td>\n",
       "      <td>57.4</td>\n",
       "      <td>E</td>\n",
       "      <td>22.98</td>\n",
       "      <td>N</td>\n",
       "      <td>35.28</td>\n",
       "      <td>18</td>\n",
       "      <td>2.3</td>\n",
       "      <td>CENTRAL MEDITERRANEAN SEA</td>\n",
       "      <td>MEDITERRANEAN SEA</td>\n",
       "    </tr>\n",
       "    <tr>\n",
       "      <th>534511</th>\n",
       "      <td>2016</td>\n",
       "      <td>10</td>\n",
       "      <td>1</td>\n",
       "      <td>4</td>\n",
       "      <td>38</td>\n",
       "      <td>0.0</td>\n",
       "      <td>E</td>\n",
       "      <td>34.85</td>\n",
       "      <td>N</td>\n",
       "      <td>36.06</td>\n",
       "      <td>25</td>\n",
       "      <td>2.4</td>\n",
       "      <td>CYPRUS REGION</td>\n",
       "      <td>CYPRUS</td>\n",
       "    </tr>\n",
       "  </tbody>\n",
       "</table>\n",
       "<p>1372 rows × 14 columns</p>\n",
       "</div>"
      ],
      "text/plain": [
       "        leto  mesec  dan  ura  minuta  sekunda DOL  dolzina SIR  sirina  \\\n",
       "id                                                                        \n",
       "537411  2016     10   15   23      40     55.1   E    34.31   N   38.13   \n",
       "537458  2016     10   15   23      17     42.6   E    27.72   N   38.93   \n",
       "537380  2016     10   15   23       6     59.1   E    20.69   N   39.76   \n",
       "537552  2016     10   15   22      43     13.2   E    38.94   N   19.21   \n",
       "537310  2016     10   15   22      30     26.1   E    71.70   N   41.26   \n",
       "537551  2016     10   15   22      27     50.9   E    38.94   N   19.29   \n",
       "537553  2016     10   15   22      19     42.0   E    39.75   N   59.75   \n",
       "...      ...    ...  ...  ...     ...      ...  ..      ...  ..     ...   \n",
       "534543  2016     10    1    5       3      4.4   W    64.96   N   19.01   \n",
       "534513  2016     10    1    4      58     33.4   W    62.21   N   20.21   \n",
       "534542  2016     10    1    4      48     29.7   E    41.01   N   42.33   \n",
       "534542  2016     10    1    4      48     29.7   E    41.01   N   42.33   \n",
       "534510  2016     10    1    4      39     42.5   W    92.71   N   14.65   \n",
       "534549  2016     10    1    4      38     57.4   E    22.98   N   35.28   \n",
       "534511  2016     10    1    4      38      0.0   E    34.85   N   36.06   \n",
       "\n",
       "        globina  magnituda                       regija             drzava  \n",
       "id                                                                          \n",
       "537411        4        2.7               CENTRAL TURKEY             TURKEY  \n",
       "537458        6        2.6               WESTERN TURKEY             TURKEY  \n",
       "537380       15        4.3                       GREECE             GREECE  \n",
       "537552        8        3.6               WESTERN TURKEY             TURKEY  \n",
       "537310       15        3.7           EASTERN UZBEKISTAN         UZBEKISTAN  \n",
       "537551        8        3.6               WESTERN TURKEY             TURKEY  \n",
       "537553       12        2.6                       GREECE             GREECE  \n",
       "...         ...        ...                          ...                ...  \n",
       "534543       40        2.1        VIRGIN ISLANDS REGION     VIRGIN ISLANDS  \n",
       "534513       11        3.4               CENTRAL ALASKA             ALASKA  \n",
       "534542        1        3.0  BLACK SEA, OFFSHORE GEORGIA            GEORGIA  \n",
       "534542        1        3.0  BLACK SEA, OFFSHORE GEORGIA            GEORGIA  \n",
       "534510       80        4.5     OFFSHORE CHIAPAS, MEXICO             MEXICO  \n",
       "534549       18        2.3    CENTRAL MEDITERRANEAN SEA  MEDITERRANEAN SEA  \n",
       "534511       25        2.4                CYPRUS REGION             CYPRUS  \n",
       "\n",
       "[1372 rows x 14 columns]"
      ]
     },
     "execution_count": 120,
     "metadata": {},
     "output_type": "execute_result"
    }
   ],
   "source": [
    "podatki['drzava'] = podatki['regija'].map(pretvori_v_drzavo)\n",
    "podatki[:-10]"
   ]
  },
  {
   "cell_type": "markdown",
   "metadata": {},
   "source": [
    "### Delo z novim stolpcem\n",
    "\n",
    "Izpišimo torej število potresov glede na novi stolpec 'drzava' in se prepričajmo, da je bilo pisanje funkcije in dodajanje stoplca smiselno. Res, vrh seznama se opazno spremeni, čeprav Turčija ostaja daleč pred ostalimi državami. Za prvih 20 držav bomo spodaj izrisali tudi graf."
   ]
  },
  {
   "cell_type": "code",
   "execution_count": 102,
   "metadata": {
    "collapsed": false
   },
   "outputs": [
    {
     "data": {
      "text/plain": [
       "TURKEY                      379\n",
       "CHILE                       165\n",
       "GREECE                      132\n",
       "PUERTO RICO                  62\n",
       "ITALY                        61\n",
       "OKLAHOMA                     59\n",
       "VIRGIN ISLANDS               56\n",
       "                           ... \n",
       "GERMANY                       1\n",
       "SOUTH SANDWICH ISLANDS        1\n",
       "WINDWARD ISL.                 1\n",
       "ZAMBIA                        1\n",
       "TURKEY-SYRIA-IRAQ BORDER      1\n",
       "ARKANSAS                      1\n",
       "AZERBAIJAN                    1\n",
       "Name: drzava, dtype: int64"
      ]
     },
     "execution_count": 102,
     "metadata": {},
     "output_type": "execute_result"
    }
   ],
   "source": [
    "stevilo_drzava = podatki['drzava'].value_counts()\n",
    "stevilo_drzava"
   ]
  },
  {
   "cell_type": "code",
   "execution_count": 103,
   "metadata": {
    "collapsed": false
   },
   "outputs": [
    {
     "data": {
      "text/plain": [
       "<matplotlib.axes._subplots.AxesSubplot at 0x737e3f0>"
      ]
     },
     "execution_count": 103,
     "metadata": {},
     "output_type": "execute_result"
    },
    {
     "data": {
      "image/png": "[encoded data removed]",
      "text/plain": [
       "<matplotlib.figure.Figure at 0x743ec30>"
      ]
     },
     "metadata": {},
     "output_type": "display_data"
    }
   ],
   "source": [
    "stevilo_drzava.head(20).plot(kind='bar', title='Število potresov v državi')"
   ]
  },
  {
   "cell_type": "markdown",
   "metadata": {},
   "source": [
    "Izpišimo potrese z največjo magnitudo, saj nas ta podatek običajno zelo zanima. Najprej izpišimo posamezne najmočnejše potrese, ki so se zgodili v prvi polovici oktobra. Zanimivo je, da Turčije na vrhu seznama ne najdemo (za razliko od Grčije in Čila). Sklepamo torej, da bi bilo potrebno pogledati tudi tabelo s povprečno magnitudo, ki jo bomo izpisali spodaj."
   ]
  },
  {
   "cell_type": "code",
   "execution_count": 104,
   "metadata": {
    "collapsed": false
   },
   "outputs": [
    {
     "data": {
      "text/html": [
       "<div>\n",
       "<table border=\"1\" class=\"dataframe\">\n",
       "  <thead>\n",
       "    <tr style=\"text-align: right;\">\n",
       "      <th></th>\n",
       "      <th>regija</th>\n",
       "      <th>drzava</th>\n",
       "      <th>magnituda</th>\n",
       "    </tr>\n",
       "    <tr>\n",
       "      <th>id</th>\n",
       "      <th></th>\n",
       "      <th></th>\n",
       "      <th></th>\n",
       "    </tr>\n",
       "  </thead>\n",
       "  <tbody>\n",
       "    <tr>\n",
       "      <th>535107</th>\n",
       "      <td>BONIN ISLANDS, JAPAN REGION</td>\n",
       "      <td>JAPAN</td>\n",
       "      <td>5.7</td>\n",
       "    </tr>\n",
       "    <tr>\n",
       "      <th>535361</th>\n",
       "      <td>LUZON, PHILIPPINES</td>\n",
       "      <td>PHILIPPINES</td>\n",
       "      <td>5.7</td>\n",
       "    </tr>\n",
       "    <tr>\n",
       "      <th>537318</th>\n",
       "      <td>GREECE</td>\n",
       "      <td>GREECE</td>\n",
       "      <td>5.4</td>\n",
       "    </tr>\n",
       "    <tr>\n",
       "      <th>536858</th>\n",
       "      <td>SOUTHEAST OF EASTER ISLAND</td>\n",
       "      <td>SOUTHEAST OF EASTER ISLAND</td>\n",
       "      <td>5.4</td>\n",
       "    </tr>\n",
       "    <tr>\n",
       "      <th>534540</th>\n",
       "      <td>PAKISTAN</td>\n",
       "      <td>PAKISTAN</td>\n",
       "      <td>5.3</td>\n",
       "    </tr>\n",
       "    <tr>\n",
       "      <th>536551</th>\n",
       "      <td>MINDORO, PHILIPPINES</td>\n",
       "      <td>PHILIPPINES</td>\n",
       "      <td>5.3</td>\n",
       "    </tr>\n",
       "    <tr>\n",
       "      <th>537149</th>\n",
       "      <td>BLACK SEA</td>\n",
       "      <td>BLACK SEA</td>\n",
       "      <td>5.2</td>\n",
       "    </tr>\n",
       "    <tr>\n",
       "      <th>534884</th>\n",
       "      <td>NORTHERN SUMATRA, INDONESIA</td>\n",
       "      <td>INDONESIA</td>\n",
       "      <td>5.0</td>\n",
       "    </tr>\n",
       "    <tr>\n",
       "      <th>535942</th>\n",
       "      <td>SAMOA ISLANDS REGION</td>\n",
       "      <td>SAMOA ISLANDS</td>\n",
       "      <td>5.0</td>\n",
       "    </tr>\n",
       "    <tr>\n",
       "      <th>534587</th>\n",
       "      <td>AZORES ISLANDS REGION</td>\n",
       "      <td>AZORES ISLANDS</td>\n",
       "      <td>5.0</td>\n",
       "    </tr>\n",
       "    <tr>\n",
       "      <th>535251</th>\n",
       "      <td>SOUTH SANDWICH ISLANDS REGION</td>\n",
       "      <td>SOUTH SANDWICH ISLANDS</td>\n",
       "      <td>5.0</td>\n",
       "    </tr>\n",
       "    <tr>\n",
       "      <th>535315</th>\n",
       "      <td>WEST CHILE RISE</td>\n",
       "      <td>WEST CHILE RISE</td>\n",
       "      <td>5.0</td>\n",
       "    </tr>\n",
       "    <tr>\n",
       "      <th>535773</th>\n",
       "      <td>NORTH ATLANTIC OCEAN</td>\n",
       "      <td>NORTH ATLANTIC OCEAN</td>\n",
       "      <td>4.9</td>\n",
       "    </tr>\n",
       "    <tr>\n",
       "      <th>534556</th>\n",
       "      <td>SANTA CRUZ ISLANDS</td>\n",
       "      <td>SANTA CRUZ ISLANDS</td>\n",
       "      <td>4.9</td>\n",
       "    </tr>\n",
       "    <tr>\n",
       "      <th>535444</th>\n",
       "      <td>SOUTHWEST INDIAN RIDGE</td>\n",
       "      <td>SOUTHWEST INDIAN RIDGE</td>\n",
       "      <td>4.9</td>\n",
       "    </tr>\n",
       "  </tbody>\n",
       "</table>\n",
       "</div>"
      ],
      "text/plain": [
       "                               regija                      drzava  magnituda\n",
       "id                                                                          \n",
       "535107    BONIN ISLANDS, JAPAN REGION                       JAPAN        5.7\n",
       "535361             LUZON, PHILIPPINES                 PHILIPPINES        5.7\n",
       "537318                         GREECE                      GREECE        5.4\n",
       "536858     SOUTHEAST OF EASTER ISLAND  SOUTHEAST OF EASTER ISLAND        5.4\n",
       "534540                       PAKISTAN                    PAKISTAN        5.3\n",
       "536551           MINDORO, PHILIPPINES                 PHILIPPINES        5.3\n",
       "537149                      BLACK SEA                   BLACK SEA        5.2\n",
       "534884    NORTHERN SUMATRA, INDONESIA                   INDONESIA        5.0\n",
       "535942           SAMOA ISLANDS REGION               SAMOA ISLANDS        5.0\n",
       "534587          AZORES ISLANDS REGION              AZORES ISLANDS        5.0\n",
       "535251  SOUTH SANDWICH ISLANDS REGION      SOUTH SANDWICH ISLANDS        5.0\n",
       "535315                WEST CHILE RISE             WEST CHILE RISE        5.0\n",
       "535773           NORTH ATLANTIC OCEAN        NORTH ATLANTIC OCEAN        4.9\n",
       "534556             SANTA CRUZ ISLANDS          SANTA CRUZ ISLANDS        4.9\n",
       "535444         SOUTHWEST INDIAN RIDGE      SOUTHWEST INDIAN RIDGE        4.9"
      ]
     },
     "execution_count": 104,
     "metadata": {},
     "output_type": "execute_result"
    }
   ],
   "source": [
    "delno = podatki[['regija', 'drzava', 'magnituda']]\n",
    "delno.sort_values('magnituda', ascending=False)[:15]"
   ]
  },
  {
   "cell_type": "markdown",
   "metadata": {},
   "source": [
    "### Razna povprečja\n",
    "\n",
    "Sedaj si oglejmo še povprečne magnitude. Opazimo, da se pojavijo mnoge države iz zgornje tabele. Kako bi si to razložili?\n",
    "\n",
    "Na rezultate gotovo vpliva relativno majhno skupno število podatkov in izredno velik razpon v številu podatkov za posamezno državo. Zato teh povprečnih vrednosti ne smemo jemati preresno. Opozorila bi recimo na primer Pakistana. Očitno se je tam v opazovanem času zgodil le en potres (tabela stevilo_drzava zgoraj), ki pa je bil izredno močan (magnituda 5.3 v zgornji tabeli). S primerjavo tabel nad in pod tem besediom vidimo, da se je v mnogih državah zgodil le en močan potres, tako da težko govorimo o verodostojni povprečni vrednosti."
   ]
  },
  {
   "cell_type": "code",
   "execution_count": 138,
   "metadata": {
    "collapsed": false
   },
   "outputs": [
    {
     "data": {
      "text/plain": [
       "drzava\n",
       "SOUTHEAST OF EASTER ISLAND    5.40\n",
       "PAKISTAN                      5.30\n",
       "BLACK SEA                     5.20\n",
       "PHILIPPINES                   5.17\n",
       "SAMOA ISLANDS                 5.00\n",
       "WEST CHILE RISE               5.00\n",
       "SOUTH SANDWICH ISLANDS        5.00\n",
       "INDONESIA                     5.00\n",
       "JAPAN                         4.95\n",
       "SANTA CRUZ ISLANDS            4.90\n",
       "PERU                          4.90\n",
       "NORTH ATLANTIC OCEAN          4.90\n",
       "SOUTHWEST INDIAN RIDGE        4.80\n",
       "FIJI                          4.75\n",
       "TONGA                         4.70\n",
       "Name: magnituda, dtype: float64"
      ]
     },
     "execution_count": 138,
     "metadata": {},
     "output_type": "execute_result"
    }
   ],
   "source": [
    "drzave = podatki.groupby('drzava')\n",
    "\n",
    "drzave['magnituda'].mean().sort_values(ascending=False).round(2)[:15]"
   ]
  },
  {
   "cell_type": "markdown",
   "metadata": {},
   "source": [
    "Izkoristimo še stolpca 'DOL' in 'SIR', ki vsebujeta podatke o geografski širini in dolžini, in sicer samo vrednosti N, S, E, W za strani neba. Spodnji graf prikazuje, kolikšen delež zaznanih potresov se je zgodil na severni in južni polobli. Porazdelitev je presenetljiva, saj za tako nenavadno razmerje navidez ni vzroka. Dodala sem podatek o povprečni magnitudi za eno in drugo poloblo.\n",
    "\n",
    "Zakaj pa nas ti podatki vendale ne presenečajo tako zelo? EMSC (vir podatkov) je evropska mreža. Kot sem zapisala v uvodu, je večina opazovalnic v Evropi, kar pomeni, da z večjo natančnostjo zaznajo tudi manj močne potrese na tem območju (in podatke posredujejo EMSC). Drugače povedano - šibak potres npr. v Švici bo zabeležen, enako močan v Južnoafriški republiki pa ne, ker ga evropske opazovalnice ne bodo zaznale (predpostavimo, da recimo nobena bližnja opazovalnica ni vključena v mrežo). Drug faktor je porazdelitev kopnega - tudi če bi bile EMSC-jeve opazovalnice enakomerno razporejene po državah po svetu, je na južni polobli pač manj kopnega in posledično manj opazovalnic.\n",
    "\n",
    "Podatki o mediani in povprečni magnitudi potrjujejo zgoraj zapisano - tisti potresi z južne poloble, ki so jih zaznali, so bili močnejši, posledično sta prikazani vrednosti višji.\n",
    "\n",
    "Pri delitvi vzhod-zahod so razultati manj presenetljivi."
   ]
  },
  {
   "cell_type": "code",
   "execution_count": 145,
   "metadata": {
    "collapsed": false
   },
   "outputs": [
    {
     "data": {
      "text/plain": [
       "(SIR\n",
       " N    2.4\n",
       " S    3.1\n",
       " Name: magnituda, dtype: float64, SIR\n",
       " N    2.63\n",
       " S    3.29\n",
       " Name: magnituda, dtype: float64)"
      ]
     },
     "execution_count": 145,
     "metadata": {},
     "output_type": "execute_result"
    },
    {
     "data": {
      "image/png": "[encoded data removed]",
      "text/plain": [
       "<matplotlib.figure.Figure at 0x897aa90>"
      ]
     },
     "metadata": {},
     "output_type": "display_data"
    }
   ],
   "source": [
    "sirina = podatki.groupby('SIR')\n",
    "sirina.size().plot(kind = 'pie')\n",
    "\n",
    "sirina['magnituda'].median(), sirina['magnituda'].mean().round(2)"
   ]
  },
  {
   "cell_type": "code",
   "execution_count": 146,
   "metadata": {
    "collapsed": false
   },
   "outputs": [
    {
     "data": {
      "text/plain": [
       "(DOL\n",
       " E    2.3\n",
       " W    2.8\n",
       " Name: magnituda, dtype: float64, DOL\n",
       " E    2.56\n",
       " W    2.94\n",
       " Name: magnituda, dtype: float64)"
      ]
     },
     "execution_count": 146,
     "metadata": {},
     "output_type": "execute_result"
    },
    {
     "data": {
      "image/png": "[encoded data removed]",
      "text/plain": [
       "<matplotlib.figure.Figure at 0x8e75510>"
      ]
     },
     "metadata": {},
     "output_type": "display_data"
    }
   ],
   "source": [
    "dolzina = podatki.groupby('DOL')\n",
    "dolzina.size().plot(kind = 'pie')\n",
    "\n",
    "dolzina['magnituda'].median(), dolzina['magnituda'].mean().round(2)"
   ]
  },
  {
   "cell_type": "markdown",
   "metadata": {},
   "source": [
    "## Kdaj so se zgodili potresi?\n",
    "\n",
    "Osnovna hipoteza je, da so potresi bolj ali manj časovno neodvisni pojavi, zato povsod pričakujemo enakomerne porazdelitve - tako glede na dan v tednu kot na primer glede na uro v dnevu.\n",
    "\n",
    "Za začetek narišimo graf števila zaznanih potresov za vsak dan, ob tem si oglejmo še mediane vrednosti magnitud. Kot smo pričakovali, velikih odstopanj ni. Jasno je, da bi lepše (torej enakomernejše) grafe dobili z večjim številom zajetih podatkov."
   ]
  },
  {
   "cell_type": "code",
   "execution_count": 186,
   "metadata": {
    "collapsed": false
   },
   "outputs": [
    {
     "data": {
      "text/plain": [
       "dan\n",
       "1     2.90\n",
       "2     2.40\n",
       "3     2.50\n",
       "4     2.60\n",
       "5     2.65\n",
       "6     2.60\n",
       "7     2.50\n",
       "8     2.50\n",
       "9     2.40\n",
       "10    2.50\n",
       "11    2.30\n",
       "12    2.30\n",
       "13    2.40\n",
       "14    2.60\n",
       "15    2.60\n",
       "Name: magnituda, dtype: float64"
      ]
     },
     "execution_count": 186,
     "metadata": {},
     "output_type": "execute_result"
    },
    {
     "data": {
      "image/png": "[encoded data removed]",
      "text/plain": [
       "<matplotlib.figure.Figure at 0xb139690>"
      ]
     },
     "metadata": {},
     "output_type": "display_data"
    }
   ],
   "source": [
    "po_dnevu = podatki.groupby('dan')\n",
    "po_dnevu.size().plot(kind='bar')\n",
    "po_dnevu['magnituda'].median()"
   ]
  },
  {
   "cell_type": "code",
   "execution_count": null,
   "metadata": {
    "collapsed": false
   },
   "outputs": [],
   "source": []
  },
  {
   "cell_type": "markdown",
   "metadata": {},
   "source": [
    "Opazimo razliko med [18] in [19], hipoteza morje - kopno..."
   ]
  },
  {
   "cell_type": "code",
   "execution_count": 111,
   "metadata": {
    "collapsed": false
   },
   "outputs": [
    {
     "data": {
      "text/plain": [
       "<matplotlib.axes._subplots.AxesSubplot at 0x7721c10>"
      ]
     },
     "execution_count": 111,
     "metadata": {},
     "output_type": "execute_result"
    },
    {
     "data": {
      "image/png": "[encoded data removed]",
      "text/plain": [
       "<matplotlib.figure.Figure at 0x7726e30>"
      ]
     },
     "metadata": {},
     "output_type": "display_data"
    }
   ],
   "source": [
    "dolzina = podatki.groupby('DOL')\n",
    "dolzina.size().plot(kind='pie')"
   ]
  },
  {
   "cell_type": "code",
   "execution_count": 14,
   "metadata": {
    "collapsed": false
   },
   "outputs": [
    {
     "data": {
      "text/plain": [
       "<matplotlib.axes._subplots.AxesSubplot at 0x73bfa70>"
      ]
     },
     "execution_count": 14,
     "metadata": {},
     "output_type": "execute_result"
    },
    {
     "data": {
      "image/png": "[encoded data removed]",
      "text/plain": [
       "<matplotlib.figure.Figure at 0x741b290>"
      ]
     },
     "metadata": {},
     "output_type": "display_data"
    }
   ],
   "source": [
    "sirina = podatki.groupby('SIR')\n",
    "#sirina['magnituda'].mean()\n",
    "sirina.size().plot(kind = 'pie')"
   ]
  },
  {
   "cell_type": "markdown",
   "metadata": {},
   "source": [
    "zanimivo. opazovalnice, Afrika, morje...?"
   ]
  },
  {
   "cell_type": "code",
   "execution_count": null,
   "metadata": {
    "collapsed": true
   },
   "outputs": [],
   "source": [
    "globina = podatki.groupby('globina')\n",
    "globina.size().plot()"
   ]
  },
  {
   "cell_type": "code",
   "execution_count": 164,
   "metadata": {
    "collapsed": false
   },
   "outputs": [
    {
     "data": {
      "text/plain": [
       "<matplotlib.axes._subplots.AxesSubplot at 0x8e48250>"
      ]
     },
     "execution_count": 164,
     "metadata": {},
     "output_type": "execute_result"
    },
    {
     "data": {
      "image/png": "[encoded data removed]",
      "text/plain": [
       "<matplotlib.figure.Figure at 0x8828fb0>"
      ]
     },
     "metadata": {},
     "output_type": "display_data"
    }
   ],
   "source": [
    "#podatki.groupby('globina')['magnituda'].mean().plot()\n",
    "podatki.groupby('globina')['magnituda'].value_counts().plot()\n",
    "#podatki.groupby('globina')['magnituda'].size().plot()"
   ]
  },
  {
   "cell_type": "code",
   "execution_count": 121,
   "metadata": {
    "collapsed": false
   },
   "outputs": [
    {
     "data": {
      "text/plain": [
       "<matplotlib.axes._subplots.AxesSubplot at 0x7d0c550>"
      ]
     },
     "execution_count": 121,
     "metadata": {},
     "output_type": "execute_result"
    },
    {
     "data": {
      "image/png": "[encoded data removed]",
      "text/plain": [
       "<matplotlib.figure.Figure at 0x827e290>"
      ]
     },
     "metadata": {},
     "output_type": "display_data"
    }
   ],
   "source": [
    "podatki.groupby('magnituda')['globina'].sum().plot()"
   ]
  },
  {
   "cell_type": "code",
   "execution_count": null,
   "metadata": {
    "collapsed": true
   },
   "outputs": [],
   "source": [
    "podatki.groupby('magnituda')['globina'].mean().plot()"
   ]
  },
  {
   "cell_type": "code",
   "execution_count": null,
   "metadata": {
    "collapsed": true
   },
   "outputs": [],
   "source": []
  },
  {
   "cell_type": "code",
   "execution_count": null,
   "metadata": {
    "collapsed": true
   },
   "outputs": [],
   "source": []
  },
  {
   "cell_type": "code",
   "execution_count": null,
   "metadata": {
    "collapsed": true
   },
   "outputs": [],
   "source": []
  },
  {
   "cell_type": "code",
   "execution_count": null,
   "metadata": {
    "collapsed": true
   },
   "outputs": [],
   "source": []
  },
  {
   "cell_type": "code",
   "execution_count": null,
   "metadata": {
    "collapsed": false
   },
   "outputs": [],
   "source": []
  }
 ],
 "metadata": {
  "kernelspec": {
   "display_name": "Python 3",
   "language": "python",
   "name": "python3"
  },
  "language_info": {
   "codemirror_mode": {
    "name": "ipython",
    "version": 3
   },
   "file_extension": ".py",
   "mimetype": "text/x-python",
   "name": "python",
   "nbconvert_exporter": "python",
   "pygments_lexer": "ipython3",
   "version": "3.5.2"
  }
 },
 "nbformat": 4,
 "nbformat_minor": 2
}
